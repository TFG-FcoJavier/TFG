{
 "cells": [
  {
   "cell_type": "markdown",
   "metadata": {},
   "source": [
    "# Miscelanea"
   ]
  },
  {
   "cell_type": "markdown",
   "metadata": {},
   "source": [
    "Funciones varias de uso común."
   ]
  },
  {
   "cell_type": "markdown",
   "metadata": {},
   "source": [
    "## Redes neuronales"
   ]
  },
  {
   "cell_type": "markdown",
   "metadata": {},
   "source": [
    "### Regla de la piramide geometrica"
   ]
  },
  {
   "cell_type": "markdown",
   "metadata": {},
   "source": [
    "La regla de la piramide geometrica sirve para ayudar determinar el tamaño de las capas ocultas en base al tamaño de las capas de input y output y al numero de capas ocultas. \n",
    "\n",
    "Esta aproximacion esta propuesta por Masters(1993): \n",
    ">  \"For a three layer network with n input and m output neurons, the hidden layer would have sqrt(N * M) neurons.\"\n",
    ">\n",
    "> -- <cite> Masters, Timothy. Pratical neural network recipes in C++. Morgan Kaufmann, 1993.</cite>\n",
    "\n",
    "[Enlace al artículo](https://eulertech.wordpress.com/2018/01/02/how-to-choose-the-number-of-hidden-layers-and-nodes-in-a-feedforward-neural-network/)"
   ]
  },
  {
   "cell_type": "code",
   "execution_count": 32,
   "metadata": {},
   "outputs": [],
   "source": [
    "def pyramid_rule(h_layers, input_size, output_size):\n",
    "    if h_layers < 1:\n",
    "        print(\"No layers\")\n",
    "        return\n",
    "    print(\"Layers for input %d and output %d:\" % (input_size,  output_size))\n",
    "    rate = (input_size/output_size)**(1/(h_layers+1))\n",
    "    for l in range(h_layers):\n",
    "        layer_size = output_size*(rate**(h_layers-l))\n",
    "        layer_size = round(layer_size)\n",
    "        print(\"Layer %d: %d neurons\" % (l+1, layer_size))\n",
    "    return"
   ]
  },
  {
   "cell_type": "code",
   "execution_count": 30,
   "metadata": {},
   "outputs": [
    {
     "name": "stdout",
     "output_type": "stream",
     "text": [
      "Layers for input 3072 and output 20:\n",
      "Layer 1: 248 neurons\n",
      "Layers for input 3072 and output 20:\n",
      "Layer 1: 574 neurons\n",
      "Layer 2: 107 neurons\n",
      "Layers for input 3072 and output 20:\n",
      "Layer 1: 873 neurons\n",
      "Layer 2: 248 neurons\n",
      "Layer 3: 70 neurons\n",
      "Layers for input 3072 and output 20:\n",
      "Layer 1: 1122 neurons\n",
      "Layer 2: 410 neurons\n",
      "Layer 3: 150 neurons\n",
      "Layer 4: 55 neurons\n"
     ]
    }
   ],
   "source": [
    "if __name__ == \"__main__\":\n",
    "    pyramid_rule(1, 3072, 20)\n",
    "    pyramid_rule(2, 3072, 20)\n",
    "    pyramid_rule(3, 3072, 20)\n",
    "    pyramid_rule(4, 3072, 20)"
   ]
  },
  {
   "cell_type": "markdown",
   "metadata": {},
   "source": [
    "### EMD(Earth Mover's Distance)"
   ]
  },
  {
   "cell_type": "markdown",
   "metadata": {},
   "source": [
    "EMD es una medida de distancia entre distribuciones de probabilidad, que consiste en representar ambas distribuciones como montones de tierra, en los que la distancia se determina en cuanto es el trabajo minimo que llevaria transformar un monticulo en otro. Matematicamente a EMD se la conoce como la métrica de Wasserstein.\n",
    "\n",
    "Segun [este artículo](https://machinelearningmastery.com/how-to-implement-wasserstein-loss-for-generative-adversarial-networks/) esta metrica se puede aplicar de la siguiente manera:"
   ]
  },
  {
   "cell_type": "code",
   "execution_count": null,
   "metadata": {},
   "outputs": [],
   "source": [
    "def wasserstein_loss(y_true, y_pred):\n",
    "\treturn mean(y_true * y_pred)"
   ]
  }
 ],
 "metadata": {
  "interpreter": {
   "hash": "20fa4f0f3884cdb253ada201871cf8c3f8a990e4bbc1c7fce1b9b4c9c33df28e"
  },
  "kernelspec": {
   "display_name": "Python 3.8.2 64-bit",
   "language": "python",
   "name": "python3"
  },
  "language_info": {
   "codemirror_mode": {
    "name": "ipython",
    "version": 3
   },
   "file_extension": ".py",
   "mimetype": "text/x-python",
   "name": "python",
   "nbconvert_exporter": "python",
   "pygments_lexer": "ipython3",
   "version": "3.8.2"
  },
  "orig_nbformat": 4
 },
 "nbformat": 4,
 "nbformat_minor": 2
}
