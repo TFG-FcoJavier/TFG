{
 "cells": [
  {
   "cell_type": "markdown",
   "metadata": {},
   "source": [
    "# Preparacion de los datos"
   ]
  },
  {
   "cell_type": "markdown",
   "metadata": {},
   "source": [
    "En este cuadernillo se van a extraer los datos de los dataset, se van atratar y se van a volver a guardar para ser usados en otros cuadernillos."
   ]
  },
  {
   "cell_type": "code",
   "execution_count": 1,
   "metadata": {},
   "outputs": [],
   "source": [
    "import pickle\n",
    "import matplotlib.pyplot as plt\n",
    "import numpy as np\n",
    "import os"
   ]
  },
  {
   "cell_type": "code",
   "execution_count": 2,
   "metadata": {},
   "outputs": [],
   "source": [
    "input_path = \"Input/\"\n",
    "dataset_name = \"cifar-10\""
   ]
  },
  {
   "cell_type": "markdown",
   "metadata": {},
   "source": [
    "## Funciones"
   ]
  },
  {
   "cell_type": "markdown",
   "metadata": {},
   "source": [
    "Funcion para extraer los datos de los ficheros"
   ]
  },
  {
   "cell_type": "code",
   "execution_count": 3,
   "metadata": {},
   "outputs": [],
   "source": [
    "# https://www.cs.toronto.edu/~kriz/cifar.html\n",
    "def unpickle(file):\n",
    "    import pickle\n",
    "    with open(file, 'rb') as fo:\n",
    "        dict = pickle.load(fo, encoding='latin')\n",
    "    return dict"
   ]
  },
  {
   "cell_type": "markdown",
   "metadata": {},
   "source": [
    "Funcion Para el guardado de un set de datos"
   ]
  },
  {
   "cell_type": "code",
   "execution_count": 4,
   "metadata": {},
   "outputs": [],
   "source": [
    "def saveDataset(dataset, name):\n",
    "    savefile = input_path+dataset_name+\"-\"+name\n",
    "    if os.path.isfile(savefile):\n",
    "        print(\"Este set ya esta preparado\")\n",
    "    else:\n",
    "        pickle.dump(dataset, open(savefile, \"wb\"))"
   ]
  },
  {
   "cell_type": "markdown",
   "metadata": {},
   "source": [
    "Funcion para comprobar la correcta carga de un set de datos"
   ]
  },
  {
   "cell_type": "code",
   "execution_count": 5,
   "metadata": {},
   "outputs": [],
   "source": [
    "def tryDataset(dataset):\n",
    "    print(dataset[\"data\"].shape)\n",
    "    #plt.figure()\n",
    "    f, arrx = plt.subplots(1,2)\n",
    "    i = np.random.randint(0,dataset[\"data\"].shape[0])\n",
    "    arrx[0].imshow(dataset[\"data\"][i])\n",
    "    arrx[0].set_title(dataset[\"labels\"][i])\n",
    "    i = np.random.randint(0,dataset[\"data\"].shape[0])\n",
    "    arrx[1].imshow(dataset[\"data\"][i])\n",
    "    arrx[1].set_title(dataset[\"labels\"][i])\n",
    "    for a in arrx:\n",
    "        a.axis(\"off\")\n",
    "    plt.show()\n",
    "    plt.close()\n"
   ]
  },
  {
   "cell_type": "markdown",
   "metadata": {},
   "source": [
    "## Carga y guardado"
   ]
  },
  {
   "cell_type": "markdown",
   "metadata": {},
   "source": [
    "### Conjunto de entrenamiento"
   ]
  },
  {
   "cell_type": "markdown",
   "metadata": {},
   "source": [
    "Extraemos los datos del fichero."
   ]
  },
  {
   "cell_type": "code",
   "execution_count": 6,
   "metadata": {},
   "outputs": [],
   "source": [
    "batch1 = unpickle(\"Input/cifar-10-batches-py/data_batch_1\")\n",
    "batch2 = unpickle(\"Input/cifar-10-batches-py/data_batch_2\")\n",
    "batch3 = unpickle(\"Input/cifar-10-batches-py/data_batch_3\")\n",
    "batch4 = unpickle(\"Input/cifar-10-batches-py/data_batch_4\")\n",
    "batch5 = unpickle(\"Input/cifar-10-batches-py/data_batch_5\")"
   ]
  },
  {
   "cell_type": "markdown",
   "metadata": {},
   "source": [
    "En cifar10 los datos estan almacenados en un diccionario que contiene el nombre del lote, las etiquetas para clasificacion, los datos (imagenes) y los nombres de fichero correspondientes."
   ]
  },
  {
   "cell_type": "code",
   "execution_count": 7,
   "metadata": {},
   "outputs": [
    {
     "name": "stdout",
     "output_type": "stream",
     "text": [
      "dict_keys(['batch_label', 'labels', 'data', 'filenames'])\n",
      "batch_label <class 'str'>\n",
      "labels <class 'list'>\n",
      "data <class 'numpy.ndarray'>\n",
      "filenames <class 'list'>\n"
     ]
    }
   ],
   "source": [
    "print(batch1.keys())\n",
    "for i in batch1:\n",
    "    print(i, type(batch1[i]))"
   ]
  },
  {
   "cell_type": "markdown",
   "metadata": {},
   "source": [
    "Las imagenes vienen en el modo ``channelsfirst``, en este modo, tenemos 3 matrices de la dimension de la imagen, una para cada canal. Muchas de las funciones admiten por defecto el modo ``chanelslast`` en el que tenemos una matriz de la dimension de la imagen y cada posicion tiene un vector con los codigos de color de cada punto.\n",
    "\n",
    "Por simplicidad, como paso de preprocesamiento, voy a transformar las imagenes de ``channelsfirst`` a ``channelslast``."
   ]
  },
  {
   "cell_type": "code",
   "execution_count": 8,
   "metadata": {},
   "outputs": [
    {
     "name": "stdout",
     "output_type": "stream",
     "text": [
      "(32, 32, 3)\n"
     ]
    }
   ],
   "source": [
    "# https://www.binarystudy.com/2021/09/how-to-load-preprocess-visualize-CIFAR-10-and-CIFAR-100.html\n",
    "imagen = batch1[\"data\"][0]\n",
    "imagen = imagen.reshape(3,32,32)\n",
    "imagen=imagen.transpose(1,2,0)\n",
    "print(imagen.shape)"
   ]
  },
  {
   "cell_type": "code",
   "execution_count": 9,
   "metadata": {},
   "outputs": [
    {
     "data": {
      "image/png": "[encoded data removed]",
      "text/plain": [
       "<Figure size 432x288 with 1 Axes>"
      ]
     },
     "metadata": {
      "needs_background": "light"
     },
     "output_type": "display_data"
    }
   ],
   "source": [
    "plt.imshow(imagen)\n",
    "plt.axis(\"off\")\n",
    "del imagen"
   ]
  },
  {
   "cell_type": "markdown",
   "metadata": {},
   "source": [
    "Cargamos todas las imagenes de entrenamiento en la variable ``X_train`` y borramos todo lo demás, excepto las etiquetas, ya que no lo vamos a utilizar."
   ]
  },
  {
   "cell_type": "code",
   "execution_count": 10,
   "metadata": {},
   "outputs": [
    {
     "name": "stdout",
     "output_type": "stream",
     "text": [
      "(10000, 3072)\n"
     ]
    }
   ],
   "source": [
    "print(batch1[\"data\"].shape)\n",
    "X_train = {}\n",
    "X_train[\"data\"] = batch1[\"data\"].reshape(10000, 3, 32, 32)\n",
    "X_train[\"labels\"] = batch1[\"labels\"]\n",
    "del batch1\n",
    "X_train[\"data\"] = np.concatenate((X_train[\"data\"], batch2[\"data\"].reshape(10000, 3, 32, 32)))\n",
    "X_train[\"labels\"] = np.concatenate((X_train[\"labels\"], batch2[\"labels\"]))\n",
    "del batch2\n",
    "X_train[\"data\"] = np.concatenate((X_train[\"data\"], batch3[\"data\"].reshape(10000, 3, 32, 32)))\n",
    "X_train[\"labels\"] = np.concatenate((X_train[\"labels\"], batch3[\"labels\"]))\n",
    "del batch3\n",
    "X_train[\"data\"] = np.concatenate((X_train[\"data\"], batch4[\"data\"].reshape(10000, 3, 32, 32)))\n",
    "X_train[\"labels\"] = np.concatenate((X_train[\"labels\"], batch4[\"labels\"]))\n",
    "del batch4\n",
    "X_train[\"data\"] = np.concatenate((X_train[\"data\"], batch5[\"data\"].reshape(10000, 3, 32, 32)))\n",
    "X_train[\"labels\"] = np.concatenate((X_train[\"labels\"], batch5[\"labels\"]))\n",
    "del batch5\n",
    "X_train[\"data\"] = X_train[\"data\"].transpose(0,2,3,1)\n",
    "X_train[\"data\"]=X_train[\"data\"]/255"
   ]
  },
  {
   "cell_type": "markdown",
   "metadata": {},
   "source": [
    "Probamos el set de datos"
   ]
  },
  {
   "cell_type": "code",
   "execution_count": 11,
   "metadata": {},
   "outputs": [
    {
     "name": "stdout",
     "output_type": "stream",
     "text": [
      "(50000, 32, 32, 3)\n"
     ]
    },
    {
     "data": {
      "image/png": "[encoded data removed]",
      "text/plain": [
       "<Figure size 432x288 with 2 Axes>"
      ]
     },
     "metadata": {
      "needs_background": "light"
     },
     "output_type": "display_data"
    }
   ],
   "source": [
    "tryDataset(X_train)"
   ]
  },
  {
   "cell_type": "markdown",
   "metadata": {},
   "source": [
    "Guardamos el set de datos en el almacenamiento y lo borramos de la memoria"
   ]
  },
  {
   "cell_type": "code",
   "execution_count": 12,
   "metadata": {},
   "outputs": [],
   "source": [
    "saveDataset(X_train, \"train\")\n",
    "del X_train"
   ]
  },
  {
   "cell_type": "markdown",
   "metadata": {},
   "source": [
    "Volvemos a cargarlo en memoria para comprobar que se guarda correctamente"
   ]
  },
  {
   "cell_type": "code",
   "execution_count": 13,
   "metadata": {},
   "outputs": [
    {
     "name": "stdout",
     "output_type": "stream",
     "text": [
      "(50000, 32, 32, 3)\n"
     ]
    },
    {
     "data": {
      "image/png": "[encoded data removed]",
      "text/plain": [
       "<Figure size 432x288 with 2 Axes>"
      ]
     },
     "metadata": {
      "needs_background": "light"
     },
     "output_type": "display_data"
    }
   ],
   "source": [
    "X_train = unpickle(input_path+dataset_name+\"-train\")\n",
    "tryDataset(X_train)"
   ]
  },
  {
   "cell_type": "markdown",
   "metadata": {},
   "source": [
    "### Conjunto de pruebas"
   ]
  },
  {
   "cell_type": "markdown",
   "metadata": {},
   "source": [
    "Repetimos el mismo proceso para el conjunto de pruebas"
   ]
  },
  {
   "cell_type": "code",
   "execution_count": 14,
   "metadata": {},
   "outputs": [
    {
     "name": "stdout",
     "output_type": "stream",
     "text": [
      "(10000, 32, 32, 3)\n"
     ]
    },
    {
     "data": {
      "image/png": "[encoded data removed]",
      "text/plain": [
       "<Figure size 432x288 with 2 Axes>"
      ]
     },
     "metadata": {
      "needs_background": "light"
     },
     "output_type": "display_data"
    },
    {
     "name": "stdout",
     "output_type": "stream",
     "text": [
      "(10000, 32, 32, 3)\n"
     ]
    },
    {
     "data": {
      "image/png": "[encoded data removed]",
      "text/plain": [
       "<Figure size 432x288 with 2 Axes>"
      ]
     },
     "metadata": {
      "needs_background": "light"
     },
     "output_type": "display_data"
    }
   ],
   "source": [
    "sample_from = unpickle(\"Input\\cifar-10-batches-py\\\\test_batch\")\n",
    "X_test = {}\n",
    "X_test[\"data\"] = sample_from[\"data\"].reshape(10000, 3, 32, 32)\n",
    "X_test[\"labels\"] = np.array(sample_from[\"labels\"])\n",
    "X_test[\"data\"] = X_test[\"data\"].transpose(0,2,3,1)\n",
    "X_test[\"data\"]=X_test[\"data\"]/255\n",
    "del sample_from\n",
    "tryDataset(X_test)\n",
    "saveDataset(X_test, \"test\")\n",
    "X_test=unpickle(input_path+dataset_name+\"-test\")\n",
    "tryDataset(X_test)"
   ]
  },
  {
   "cell_type": "markdown",
   "metadata": {},
   "source": [
    "## Muestras de categorias"
   ]
  },
  {
   "cell_type": "markdown",
   "metadata": {},
   "source": [
    "Este dataset va a contener imagenes agrupadas por clase de tal forma que al explorar mas tarde el espacio latente exploremos configuraciones cercanas a estas imagenes en lugar de puntos aleatorios, de esta forma se esperan obtener imagenes generadas de una coordenada distinta a las que se obtienen de las imagenes reales pero suficientemente cercanas como para que muestren caracteristicas propias de la categoria, demostrando asi que la red ha aprendido las caracteristicas de las imagenes."
   ]
  },
  {
   "cell_type": "code",
   "execution_count": 15,
   "metadata": {},
   "outputs": [],
   "source": [
    "def createGroupedPicDictionary(dataset, size, name, classes=[0,1,2,3,4,5,6,7,8,9]):\n",
    "    dict={}\n",
    "    labels = classes.copy()\n",
    "    i=-1\n",
    "    while(len(labels)>0):\n",
    "        i+=1\n",
    "        label= dataset[\"labels\"][i]\n",
    "        print(\"Label: \",label)\n",
    "        if (label not in labels):\n",
    "            continue\n",
    "        if(label not in dict.keys()):\n",
    "            dict[label] = []\n",
    "        dict[label].append(dataset[\"data\"][i])\n",
    "        print(\"dict: \", dict.keys(), \"Label\", label, len(dict[label]))\n",
    "        if (len(dict[label])>=size):\n",
    "            dict[label] = np.array(dict[label])\n",
    "            labels.remove(label)\n",
    "            print(\"Labels: \", labels)\n",
    "    saveDataset(dict, \"grouped\"+name)\n",
    "    return dict"
   ]
  },
  {
   "cell_type": "code",
   "execution_count": 16,
   "metadata": {},
   "outputs": [],
   "source": [
    "def showGroupedPicDictionary(dataset={}):\n",
    "    rows = len(dataset.keys())\n",
    "    columns = len(dataset[0])\n",
    "    \n",
    "    for label in dataset.keys():\n",
    "        f, arrx = plt.subplots(1, columns)\n",
    "        for i, img in enumerate(dataset[label]):\n",
    "            \n",
    "            arrx[i].imshow(img)\n",
    "            arrx[i].set_title(label)\n",
    "                \n",
    "        for a in arrx:\n",
    "            a.axis(\"off\")\n",
    "        plt.show()\n",
    "        plt.close()\n",
    "    "
   ]
  },
  {
   "cell_type": "code",
   "execution_count": 17,
   "metadata": {},
   "outputs": [
    {
     "name": "stdout",
     "output_type": "stream",
     "text": [
      "Label:  6\n",
      "dict:  dict_keys([6]) Label 6 1\n",
      "Label:  9\n",
      "dict:  dict_keys([6, 9]) Label 9 1\n",
      "Label:  9\n",
      "dict:  dict_keys([6, 9]) Label 9 2\n",
      "Labels:  [0, 1, 2, 3, 4, 5, 6, 7, 8]\n",
      "Label:  4\n",
      "dict:  dict_keys([6, 9, 4]) Label 4 1\n",
      "Label:  1\n",
      "dict:  dict_keys([6, 9, 4, 1]) Label 1 1\n",
      "Label:  1\n",
      "dict:  dict_keys([6, 9, 4, 1]) Label 1 2\n",
      "Labels:  [0, 2, 3, 4, 5, 6, 7, 8]\n",
      "Label:  2\n",
      "dict:  dict_keys([6, 9, 4, 1, 2]) Label 2 1\n",
      "Label:  7\n",
      "dict:  dict_keys([6, 9, 4, 1, 2, 7]) Label 7 1\n",
      "Label:  8\n",
      "dict:  dict_keys([6, 9, 4, 1, 2, 7, 8]) Label 8 1\n",
      "Label:  3\n",
      "dict:  dict_keys([6, 9, 4, 1, 2, 7, 8, 3]) Label 3 1\n",
      "Label:  4\n",
      "dict:  dict_keys([6, 9, 4, 1, 2, 7, 8, 3]) Label 4 2\n",
      "Labels:  [0, 2, 3, 5, 6, 7, 8]\n",
      "Label:  7\n",
      "dict:  dict_keys([6, 9, 4, 1, 2, 7, 8, 3]) Label 7 2\n",
      "Labels:  [0, 2, 3, 5, 6, 8]\n",
      "Label:  7\n",
      "Label:  2\n",
      "dict:  dict_keys([6, 9, 4, 1, 2, 7, 8, 3]) Label 2 2\n",
      "Labels:  [0, 3, 5, 6, 8]\n",
      "Label:  9\n",
      "Label:  9\n",
      "Label:  9\n",
      "Label:  3\n",
      "dict:  dict_keys([6, 9, 4, 1, 2, 7, 8, 3]) Label 3 2\n",
      "Labels:  [0, 5, 6, 8]\n",
      "Label:  2\n",
      "Label:  6\n",
      "dict:  dict_keys([6, 9, 4, 1, 2, 7, 8, 3]) Label 6 2\n",
      "Labels:  [0, 5, 8]\n",
      "Label:  4\n",
      "Label:  3\n",
      "Label:  6\n",
      "Label:  6\n",
      "Label:  2\n",
      "Label:  6\n",
      "Label:  3\n",
      "Label:  5\n",
      "dict:  dict_keys([6, 9, 4, 1, 2, 7, 8, 3, 5]) Label 5 1\n",
      "Label:  4\n",
      "Label:  0\n",
      "dict:  dict_keys([6, 9, 4, 1, 2, 7, 8, 3, 5, 0]) Label 0 1\n",
      "Label:  0\n",
      "dict:  dict_keys([6, 9, 4, 1, 2, 7, 8, 3, 5, 0]) Label 0 2\n",
      "Labels:  [5, 8]\n",
      "Label:  9\n",
      "Label:  1\n",
      "Label:  3\n",
      "Label:  4\n",
      "Label:  0\n",
      "Label:  3\n",
      "Label:  7\n",
      "Label:  3\n",
      "Label:  3\n",
      "Label:  5\n",
      "dict:  dict_keys([6, 9, 4, 1, 2, 7, 8, 3, 5, 0]) Label 5 2\n",
      "Labels:  [8]\n",
      "Label:  2\n",
      "Label:  2\n",
      "Label:  7\n",
      "Label:  1\n",
      "Label:  1\n",
      "Label:  1\n",
      "Label:  2\n",
      "Label:  2\n",
      "Label:  0\n",
      "Label:  9\n",
      "Label:  5\n",
      "Label:  7\n",
      "Label:  9\n",
      "Label:  2\n",
      "Label:  2\n",
      "Label:  5\n",
      "Label:  2\n",
      "Label:  4\n",
      "Label:  3\n",
      "Label:  1\n",
      "Label:  1\n",
      "Label:  8\n",
      "dict:  dict_keys([6, 9, 4, 1, 2, 7, 8, 3, 5, 0]) Label 8 2\n",
      "Labels:  []\n",
      "Este set ya esta preparado\n"
     ]
    },
    {
     "data": {
      "image/png": "[encoded data removed]",
      "text/plain": [
       "<Figure size 432x288 with 2 Axes>"
      ]
     },
     "metadata": {
      "needs_background": "light"
     },
     "output_type": "display_data"
    },
    {
     "data": {
      "image/png": "[encoded data removed]",
      "text/plain": [
       "<Figure size 432x288 with 2 Axes>"
      ]
     },
     "metadata": {
      "needs_background": "light"
     },
     "output_type": "display_data"
    },
    {
     "data": {
      "image/png": "[encoded data removed]",
      "text/plain": [
       "<Figure size 432x288 with 2 Axes>"
      ]
     },
     "metadata": {
      "needs_background": "light"
     },
     "output_type": "display_data"
    },
    {
     "data": {
      "image/png": "[encoded data removed]",
      "text/plain": [
       "<Figure size 432x288 with 2 Axes>"
      ]
     },
     "metadata": {
      "needs_background": "light"
     },
     "output_type": "display_data"
    },
    {
     "data": {
      "image/png": "[encoded data removed]",
      "text/plain": [
       "<Figure size 432x288 with 2 Axes>"
      ]
     },
     "metadata": {
      "needs_background": "light"
     },
     "output_type": "display_data"
    },
    {
     "data": {
      "image/png": "[encoded data removed]",
      "text/plain": [
       "<Figure size 432x288 with 2 Axes>"
      ]
     },
     "metadata": {
      "needs_background": "light"
     },
     "output_type": "display_data"
    },
    {
     "data": {
      "image/png": "[encoded data removed]",
      "text/plain": [
       "<Figure size 432x288 with 2 Axes>"
      ]
     },
     "metadata": {
      "needs_background": "light"
     },
     "output_type": "display_data"
    },
    {
     "data": {
      "image/png": "[encoded data removed]",
      "text/plain": [
       "<Figure size 432x288 with 2 Axes>"
      ]
     },
     "metadata": {
      "needs_background": "light"
     },
     "output_type": "display_data"
    },
    {
     "data": {
      "image/png": "[encoded data removed]",
      "text/plain": [
       "<Figure size 432x288 with 2 Axes>"
      ]
     },
     "metadata": {
      "needs_background": "light"
     },
     "output_type": "display_data"
    },
    {
     "data": {
      "image/png": "[encoded data removed]",
      "text/plain": [
       "<Figure size 432x288 with 2 Axes>"
      ]
     },
     "metadata": {
      "needs_background": "light"
     },
     "output_type": "display_data"
    }
   ],
   "source": [
    "createGroupedPicDictionary(X_train, 2, \"train\")\n",
    "groupedSample = unpickle(input_path+dataset_name+\"-groupedtrain\")\n",
    "showGroupedPicDictionary(groupedSample)"
   ]
  },
  {
   "cell_type": "code",
   "execution_count": 18,
   "metadata": {},
   "outputs": [
    {
     "name": "stdout",
     "output_type": "stream",
     "text": [
      "Label:  3\n",
      "dict:  dict_keys([3]) Label 3 1\n",
      "Label:  8\n",
      "dict:  dict_keys([3, 8]) Label 8 1\n",
      "Label:  8\n",
      "dict:  dict_keys([3, 8]) Label 8 2\n",
      "Labels:  [0, 1, 2, 3, 4, 5, 6, 7, 9]\n",
      "Label:  0\n",
      "dict:  dict_keys([3, 8, 0]) Label 0 1\n",
      "Label:  6\n",
      "dict:  dict_keys([3, 8, 0, 6]) Label 6 1\n",
      "Label:  6\n",
      "dict:  dict_keys([3, 8, 0, 6]) Label 6 2\n",
      "Labels:  [0, 1, 2, 3, 4, 5, 7, 9]\n",
      "Label:  1\n",
      "dict:  dict_keys([3, 8, 0, 6, 1]) Label 1 1\n",
      "Label:  6\n",
      "Label:  3\n",
      "dict:  dict_keys([3, 8, 0, 6, 1]) Label 3 2\n",
      "Labels:  [0, 1, 2, 4, 5, 7, 9]\n",
      "Label:  1\n",
      "dict:  dict_keys([3, 8, 0, 6, 1]) Label 1 2\n",
      "Labels:  [0, 2, 4, 5, 7, 9]\n",
      "Label:  0\n",
      "dict:  dict_keys([3, 8, 0, 6, 1]) Label 0 2\n",
      "Labels:  [2, 4, 5, 7, 9]\n",
      "Label:  9\n",
      "dict:  dict_keys([3, 8, 0, 6, 1, 9]) Label 9 1\n",
      "Label:  5\n",
      "dict:  dict_keys([3, 8, 0, 6, 1, 9, 5]) Label 5 1\n",
      "Label:  7\n",
      "dict:  dict_keys([3, 8, 0, 6, 1, 9, 5, 7]) Label 7 1\n",
      "Label:  9\n",
      "dict:  dict_keys([3, 8, 0, 6, 1, 9, 5, 7]) Label 9 2\n",
      "Labels:  [2, 4, 5, 7]\n",
      "Label:  8\n",
      "Label:  5\n",
      "dict:  dict_keys([3, 8, 0, 6, 1, 9, 5, 7]) Label 5 2\n",
      "Labels:  [2, 4, 7]\n",
      "Label:  7\n",
      "dict:  dict_keys([3, 8, 0, 6, 1, 9, 5, 7]) Label 7 2\n",
      "Labels:  [2, 4]\n",
      "Label:  8\n",
      "Label:  6\n",
      "Label:  7\n",
      "Label:  0\n",
      "Label:  4\n",
      "dict:  dict_keys([3, 8, 0, 6, 1, 9, 5, 7, 4]) Label 4 1\n",
      "Label:  9\n",
      "Label:  5\n",
      "Label:  2\n",
      "dict:  dict_keys([3, 8, 0, 6, 1, 9, 5, 7, 4, 2]) Label 2 1\n",
      "Label:  4\n",
      "dict:  dict_keys([3, 8, 0, 6, 1, 9, 5, 7, 4, 2]) Label 4 2\n",
      "Labels:  [2]\n",
      "Label:  0\n",
      "Label:  9\n",
      "Label:  6\n",
      "Label:  6\n",
      "Label:  5\n",
      "Label:  4\n",
      "Label:  5\n",
      "Label:  9\n",
      "Label:  2\n",
      "dict:  dict_keys([3, 8, 0, 6, 1, 9, 5, 7, 4, 2]) Label 2 2\n",
      "Labels:  []\n",
      "Este set ya esta preparado\n"
     ]
    },
    {
     "data": {
      "image/png": "[encoded data removed]",
      "text/plain": [
       "<Figure size 432x288 with 2 Axes>"
      ]
     },
     "metadata": {
      "needs_background": "light"
     },
     "output_type": "display_data"
    },
    {
     "data": {
      "image/png": "[encoded data removed]",
      "text/plain": [
       "<Figure size 432x288 with 2 Axes>"
      ]
     },
     "metadata": {
      "needs_background": "light"
     },
     "output_type": "display_data"
    },
    {
     "data": {
      "image/png": "[encoded data removed]",
      "text/plain": [
       "<Figure size 432x288 with 2 Axes>"
      ]
     },
     "metadata": {
      "needs_background": "light"
     },
     "output_type": "display_data"
    },
    {
     "data": {
      "image/png": "[encoded data removed]",
      "text/plain": [
       "<Figure size 432x288 with 2 Axes>"
      ]
     },
     "metadata": {
      "needs_background": "light"
     },
     "output_type": "display_data"
    },
    {
     "data": {
      "image/png": "[encoded data removed]",
      "text/plain": [
       "<Figure size 432x288 with 2 Axes>"
      ]
     },
     "metadata": {
      "needs_background": "light"
     },
     "output_type": "display_data"
    },
    {
     "data": {
      "image/png": "[encoded data removed]",
      "text/plain": [
       "<Figure size 432x288 with 2 Axes>"
      ]
     },
     "metadata": {
      "needs_background": "light"
     },
     "output_type": "display_data"
    },
    {
     "data": {
      "image/png": "[encoded data removed]",
      "text/plain": [
       "<Figure size 432x288 with 2 Axes>"
      ]
     },
     "metadata": {
      "needs_background": "light"
     },
     "output_type": "display_data"
    },
    {
     "data": {
      "image/png": "[encoded data removed]",
      "text/plain": [
       "<Figure size 432x288 with 2 Axes>"
      ]
     },
     "metadata": {
      "needs_background": "light"
     },
     "output_type": "display_data"
    },
    {
     "data": {
      "image/png": "[encoded data removed]",
      "text/plain": [
       "<Figure size 432x288 with 2 Axes>"
      ]
     },
     "metadata": {
      "needs_background": "light"
     },
     "output_type": "display_data"
    },
    {
     "data": {
      "image/png": "[encoded data removed]",
      "text/plain": [
       "<Figure size 432x288 with 2 Axes>"
      ]
     },
     "metadata": {
      "needs_background": "light"
     },
     "output_type": "display_data"
    }
   ],
   "source": [
    "createGroupedPicDictionary(X_test, 2, \"test\")\n",
    "groupedSample = unpickle(input_path+dataset_name+\"-groupedtest\")\n",
    "showGroupedPicDictionary(groupedSample)"
   ]
  },
  {
   "cell_type": "code",
   "execution_count": 19,
   "metadata": {},
   "outputs": [
    {
     "data": {
      "text/plain": [
       "{3: array([[[[0.61960784, 0.43921569, 0.19215686],\n",
       "          [0.62352941, 0.43529412, 0.18431373],\n",
       "          [0.64705882, 0.45490196, 0.2       ],\n",
       "          ...,\n",
       "          [0.5372549 , 0.37254902, 0.14117647],\n",
       "          [0.49411765, 0.35686275, 0.14117647],\n",
       "          [0.45490196, 0.33333333, 0.12941176]],\n",
       " \n",
       "         [[0.59607843, 0.43921569, 0.2       ],\n",
       "          [0.59215686, 0.43137255, 0.15686275],\n",
       "          [0.62352941, 0.44705882, 0.17647059],\n",
       "          ...,\n",
       "          [0.53333333, 0.37254902, 0.12156863],\n",
       "          [0.49019608, 0.35686275, 0.1254902 ],\n",
       "          [0.46666667, 0.34509804, 0.13333333]],\n",
       " \n",
       "         [[0.59215686, 0.43137255, 0.18431373],\n",
       "          [0.59215686, 0.42745098, 0.12941176],\n",
       "          [0.61960784, 0.43529412, 0.14117647],\n",
       "          ...,\n",
       "          [0.54509804, 0.38431373, 0.13333333],\n",
       "          [0.50980392, 0.37254902, 0.13333333],\n",
       "          [0.47058824, 0.34901961, 0.12941176]],\n",
       " \n",
       "         ...,\n",
       " \n",
       "         [[0.26666667, 0.48627451, 0.69411765],\n",
       "          [0.16470588, 0.39215686, 0.58039216],\n",
       "          [0.12156863, 0.34509804, 0.5372549 ],\n",
       "          ...,\n",
       "          [0.14901961, 0.38039216, 0.57254902],\n",
       "          [0.05098039, 0.25098039, 0.42352941],\n",
       "          [0.15686275, 0.33333333, 0.49803922]],\n",
       " \n",
       "         [[0.23921569, 0.45490196, 0.65882353],\n",
       "          [0.19215686, 0.4       , 0.58039216],\n",
       "          [0.1372549 , 0.33333333, 0.51764706],\n",
       "          ...,\n",
       "          [0.10196078, 0.32156863, 0.50980392],\n",
       "          [0.11372549, 0.32156863, 0.49411765],\n",
       "          [0.07843137, 0.25098039, 0.41960784]],\n",
       " \n",
       "         [[0.21176471, 0.41960784, 0.62745098],\n",
       "          [0.21960784, 0.41176471, 0.58431373],\n",
       "          [0.17647059, 0.34901961, 0.51764706],\n",
       "          ...,\n",
       "          [0.09411765, 0.30196078, 0.48627451],\n",
       "          [0.13333333, 0.32941176, 0.50588235],\n",
       "          [0.08235294, 0.2627451 , 0.43137255]]],\n",
       " \n",
       " \n",
       "        [[[0.09019608, 0.0745098 , 0.09019608],\n",
       "          [0.0745098 , 0.08235294, 0.10980392],\n",
       "          [0.08235294, 0.0627451 , 0.0745098 ],\n",
       "          ...,\n",
       "          [0.78431373, 0.60784314, 0.49019608],\n",
       "          [0.78039216, 0.59607843, 0.47843137],\n",
       "          [0.77254902, 0.59215686, 0.47058824]],\n",
       " \n",
       "         [[0.09019608, 0.07843137, 0.09411765],\n",
       "          [0.0745098 , 0.07843137, 0.10588235],\n",
       "          [0.08235294, 0.06666667, 0.07843137],\n",
       "          ...,\n",
       "          [0.80392157, 0.65882353, 0.52156863],\n",
       "          [0.8       , 0.64313725, 0.50588235],\n",
       "          [0.79215686, 0.63921569, 0.50196078]],\n",
       " \n",
       "         [[0.09019608, 0.07843137, 0.09411765],\n",
       "          [0.07843137, 0.07843137, 0.10196078],\n",
       "          [0.09019608, 0.07843137, 0.09019608],\n",
       "          ...,\n",
       "          [0.82745098, 0.67843137, 0.54509804],\n",
       "          [0.81568627, 0.6627451 , 0.53333333],\n",
       "          [0.80784314, 0.65098039, 0.51764706]],\n",
       " \n",
       "         ...,\n",
       " \n",
       "         [[0.76078431, 0.76862745, 0.63921569],\n",
       "          [0.69411765, 0.70196078, 0.56470588],\n",
       "          [0.69019608, 0.70196078, 0.55294118],\n",
       "          ...,\n",
       "          [0.58431373, 0.51372549, 0.45882353],\n",
       "          [0.58039216, 0.50980392, 0.45490196],\n",
       "          [0.55294118, 0.48235294, 0.43137255]],\n",
       " \n",
       "         [[0.6745098 , 0.69411765, 0.55686275],\n",
       "          [0.61568627, 0.63137255, 0.49411765],\n",
       "          [0.64705882, 0.66666667, 0.51372549],\n",
       "          ...,\n",
       "          [0.54901961, 0.47843137, 0.42352941],\n",
       "          [0.58431373, 0.50980392, 0.45490196],\n",
       "          [0.59607843, 0.5254902 , 0.46666667]],\n",
       " \n",
       "         [[0.59215686, 0.61568627, 0.48235294],\n",
       "          [0.5254902 , 0.54901961, 0.40784314],\n",
       "          [0.56470588, 0.59215686, 0.43921569],\n",
       "          ...,\n",
       "          [0.58431373, 0.51764706, 0.4627451 ],\n",
       "          [0.60784314, 0.5372549 , 0.48235294],\n",
       "          [0.58823529, 0.51764706, 0.4627451 ]]]]),\n",
       " 8: array([[[[0.92156863, 0.92156863, 0.92156863],\n",
       "          [0.90588235, 0.90588235, 0.90588235],\n",
       "          [0.90980392, 0.90980392, 0.90980392],\n",
       "          ...,\n",
       "          [0.91372549, 0.91372549, 0.91372549],\n",
       "          [0.91372549, 0.91372549, 0.91372549],\n",
       "          [0.90980392, 0.90980392, 0.90980392]],\n",
       " \n",
       "         [[0.93333333, 0.93333333, 0.93333333],\n",
       "          [0.92156863, 0.92156863, 0.92156863],\n",
       "          [0.92156863, 0.92156863, 0.92156863],\n",
       "          ...,\n",
       "          [0.9254902 , 0.9254902 , 0.9254902 ],\n",
       "          [0.9254902 , 0.9254902 , 0.9254902 ],\n",
       "          [0.92156863, 0.92156863, 0.92156863]],\n",
       " \n",
       "         [[0.92941176, 0.92941176, 0.92941176],\n",
       "          [0.91764706, 0.91764706, 0.91764706],\n",
       "          [0.91764706, 0.91764706, 0.91764706],\n",
       "          ...,\n",
       "          [0.92156863, 0.92156863, 0.92156863],\n",
       "          [0.92156863, 0.92156863, 0.92156863],\n",
       "          [0.91764706, 0.91764706, 0.91764706]],\n",
       " \n",
       "         ...,\n",
       " \n",
       "         [[0.34117647, 0.38823529, 0.34901961],\n",
       "          [0.16862745, 0.2       , 0.14509804],\n",
       "          [0.0745098 , 0.09019608, 0.04313725],\n",
       "          ...,\n",
       "          [0.6627451 , 0.72156863, 0.70196078],\n",
       "          [0.71372549, 0.77254902, 0.75686275],\n",
       "          [0.7372549 , 0.79215686, 0.78823529]],\n",
       " \n",
       "         [[0.32156863, 0.37647059, 0.32156863],\n",
       "          [0.18039216, 0.22352941, 0.14117647],\n",
       "          [0.14117647, 0.17254902, 0.08627451],\n",
       "          ...,\n",
       "          [0.68235294, 0.74117647, 0.71764706],\n",
       "          [0.7254902 , 0.78431373, 0.76862745],\n",
       "          [0.73333333, 0.79215686, 0.78431373]],\n",
       " \n",
       "         [[0.33333333, 0.39607843, 0.3254902 ],\n",
       "          [0.24313725, 0.29411765, 0.18823529],\n",
       "          [0.22745098, 0.2627451 , 0.14901961],\n",
       "          ...,\n",
       "          [0.65882353, 0.71764706, 0.69803922],\n",
       "          [0.70588235, 0.76470588, 0.74901961],\n",
       "          [0.72941176, 0.78431373, 0.78039216]]],\n",
       " \n",
       " \n",
       "        [[[0.61960784, 0.74509804, 0.87058824],\n",
       "          [0.61960784, 0.73333333, 0.85490196],\n",
       "          [0.54509804, 0.65098039, 0.76078431],\n",
       "          ...,\n",
       "          [0.89411765, 0.90588235, 0.91764706],\n",
       "          [0.92941176, 0.9372549 , 0.95294118],\n",
       "          [0.93333333, 0.94509804, 0.96470588]],\n",
       " \n",
       "         [[0.66666667, 0.78431373, 0.89803922],\n",
       "          [0.6745098 , 0.78039216, 0.88627451],\n",
       "          [0.59215686, 0.69019608, 0.78823529],\n",
       "          ...,\n",
       "          [0.90980392, 0.90980392, 0.9254902 ],\n",
       "          [0.96470588, 0.96470588, 0.98039216],\n",
       "          [0.96470588, 0.96862745, 0.98431373]],\n",
       " \n",
       "         [[0.68235294, 0.78823529, 0.88235294],\n",
       "          [0.69019608, 0.78431373, 0.87058824],\n",
       "          [0.61568627, 0.70196078, 0.78039216],\n",
       "          ...,\n",
       "          [0.90196078, 0.89803922, 0.90980392],\n",
       "          [0.98039216, 0.97647059, 0.98431373],\n",
       "          [0.96078431, 0.95686275, 0.96862745]],\n",
       " \n",
       "         ...,\n",
       " \n",
       "         [[0.12156863, 0.15686275, 0.17647059],\n",
       "          [0.11764706, 0.15294118, 0.17254902],\n",
       "          [0.10196078, 0.1372549 , 0.15686275],\n",
       "          ...,\n",
       "          [0.14509804, 0.15686275, 0.18039216],\n",
       "          [0.03529412, 0.05098039, 0.05490196],\n",
       "          [0.01568627, 0.02745098, 0.01960784]],\n",
       " \n",
       "         [[0.09019608, 0.13333333, 0.15294118],\n",
       "          [0.10588235, 0.14901961, 0.16862745],\n",
       "          [0.09803922, 0.14117647, 0.16078431],\n",
       "          ...,\n",
       "          [0.0745098 , 0.07843137, 0.09411765],\n",
       "          [0.01568627, 0.02352941, 0.01176471],\n",
       "          [0.01960784, 0.02745098, 0.01176471]],\n",
       " \n",
       "         [[0.10980392, 0.16078431, 0.18431373],\n",
       "          [0.11764706, 0.16862745, 0.19607843],\n",
       "          [0.1254902 , 0.17647059, 0.20392157],\n",
       "          ...,\n",
       "          [0.01960784, 0.02352941, 0.03137255],\n",
       "          [0.01568627, 0.01960784, 0.01176471],\n",
       "          [0.02745098, 0.03137255, 0.02745098]]]]),\n",
       " 0: array([[[[0.60784314, 0.61176471, 0.58431373],\n",
       "          [0.65490196, 0.69019608, 0.73333333],\n",
       "          [0.69019608, 0.70196078, 0.75686275],\n",
       "          ...,\n",
       "          [0.78823529, 0.76862745, 0.81960784],\n",
       "          [0.79215686, 0.79215686, 0.83137255],\n",
       "          [0.75294118, 0.71764706, 0.67058824]],\n",
       " \n",
       "         [[0.6       , 0.60784314, 0.61568627],\n",
       "          [0.63921569, 0.70196078, 0.8       ],\n",
       "          [0.67058824, 0.72156863, 0.84313725],\n",
       "          ...,\n",
       "          [0.79215686, 0.81568627, 0.87058824],\n",
       "          [0.79607843, 0.84313725, 0.89019608],\n",
       "          [0.74117647, 0.74509804, 0.71764706]],\n",
       " \n",
       "         [[0.60784314, 0.60392157, 0.6       ],\n",
       "          [0.62745098, 0.69803922, 0.78823529],\n",
       "          [0.65882353, 0.7254902 , 0.83529412],\n",
       "          ...,\n",
       "          [0.80784314, 0.81568627, 0.84313725],\n",
       "          [0.8       , 0.84313725, 0.87843137],\n",
       "          [0.74117647, 0.74901961, 0.72156863]],\n",
       " \n",
       "         ...,\n",
       " \n",
       "         [[0.34901961, 0.30980392, 0.24313725],\n",
       "          [0.22352941, 0.20784314, 0.20392157],\n",
       "          [0.23921569, 0.23921569, 0.23137255],\n",
       "          ...,\n",
       "          [0.34901961, 0.46666667, 0.39607843],\n",
       "          [0.23137255, 0.30980392, 0.24313725],\n",
       "          [0.2627451 , 0.29019608, 0.19607843]],\n",
       " \n",
       "         [[0.34901961, 0.32156863, 0.24313725],\n",
       "          [0.23529412, 0.22745098, 0.20784314],\n",
       "          [0.24705882, 0.25882353, 0.22745098],\n",
       "          ...,\n",
       "          [0.22352941, 0.25882353, 0.22745098],\n",
       "          [0.23921569, 0.25098039, 0.21176471],\n",
       "          [0.29411765, 0.27058824, 0.2       ]],\n",
       " \n",
       "         [[0.36078431, 0.30588235, 0.25098039],\n",
       "          [0.23529412, 0.20392157, 0.2       ],\n",
       "          [0.23921569, 0.22745098, 0.2       ],\n",
       "          ...,\n",
       "          [0.23529412, 0.24705882, 0.19607843],\n",
       "          [0.25098039, 0.25490196, 0.20392157],\n",
       "          [0.28627451, 0.26666667, 0.19607843]]],\n",
       " \n",
       " \n",
       "        [[[0.35294118, 0.48627451, 0.58431373],\n",
       "          [0.35294118, 0.48627451, 0.58431373],\n",
       "          [0.35686275, 0.49019608, 0.58823529],\n",
       "          ...,\n",
       "          [0.40392157, 0.51372549, 0.58039216],\n",
       "          [0.39215686, 0.50196078, 0.57254902],\n",
       "          [0.39215686, 0.50588235, 0.57254902]],\n",
       " \n",
       "         [[0.36078431, 0.49803922, 0.6       ],\n",
       "          [0.36470588, 0.49803922, 0.59607843],\n",
       "          [0.36862745, 0.50196078, 0.6       ],\n",
       "          ...,\n",
       "          [0.44705882, 0.5372549 , 0.59215686],\n",
       "          [0.40392157, 0.50980392, 0.58039216],\n",
       "          [0.4       , 0.51764706, 0.59607843]],\n",
       " \n",
       "         [[0.36470588, 0.50196078, 0.6       ],\n",
       "          [0.36470588, 0.49803922, 0.59607843],\n",
       "          [0.36862745, 0.50196078, 0.59607843],\n",
       "          ...,\n",
       "          [0.44705882, 0.52156863, 0.56862745],\n",
       "          [0.40392157, 0.50588235, 0.57647059],\n",
       "          [0.39607843, 0.51764706, 0.59607843]],\n",
       " \n",
       "         ...,\n",
       " \n",
       "         [[0.39607843, 0.52156863, 0.60392157],\n",
       "          [0.39607843, 0.51764706, 0.6       ],\n",
       "          [0.4       , 0.52156863, 0.60392157],\n",
       "          ...,\n",
       "          [0.36862745, 0.48627451, 0.58823529],\n",
       "          [0.36078431, 0.47843137, 0.58039216],\n",
       "          [0.35686275, 0.47843137, 0.58039216]],\n",
       " \n",
       "         [[0.39215686, 0.51372549, 0.6       ],\n",
       "          [0.39607843, 0.51764706, 0.6       ],\n",
       "          [0.4       , 0.52156863, 0.60392157],\n",
       "          ...,\n",
       "          [0.36470588, 0.48235294, 0.58431373],\n",
       "          [0.35294118, 0.47058824, 0.57254902],\n",
       "          [0.35294118, 0.4745098 , 0.57647059]],\n",
       " \n",
       "         [[0.38823529, 0.50980392, 0.59607843],\n",
       "          [0.39215686, 0.50980392, 0.59215686],\n",
       "          [0.39607843, 0.51764706, 0.6       ],\n",
       "          ...,\n",
       "          [0.36078431, 0.47843137, 0.58039216],\n",
       "          [0.35294118, 0.47058824, 0.57254902],\n",
       "          [0.34901961, 0.47058824, 0.57254902]]]]),\n",
       " 6: array([[[[0.25490196, 0.26666667, 0.19607843],\n",
       "          [0.2745098 , 0.31764706, 0.25098039],\n",
       "          [0.18823529, 0.25098039, 0.18039216],\n",
       "          ...,\n",
       "          [0.2       , 0.2627451 , 0.16078431],\n",
       "          [0.21176471, 0.29803922, 0.20784314],\n",
       "          [0.2627451 , 0.34117647, 0.25882353]],\n",
       " \n",
       "         [[0.27058824, 0.31372549, 0.22745098],\n",
       "          [0.30980392, 0.4       , 0.31764706],\n",
       "          [0.23529412, 0.29019608, 0.22352941],\n",
       "          ...,\n",
       "          [0.21176471, 0.25882353, 0.17254902],\n",
       "          [0.25490196, 0.35294118, 0.27058824],\n",
       "          [0.23921569, 0.31764706, 0.25882353]],\n",
       " \n",
       "         [[0.28627451, 0.37254902, 0.28235294],\n",
       "          [0.32941176, 0.42745098, 0.34117647],\n",
       "          [0.28235294, 0.34509804, 0.2745098 ],\n",
       "          ...,\n",
       "          [0.30588235, 0.38431373, 0.29411765],\n",
       "          [0.28627451, 0.38431373, 0.30196078],\n",
       "          [0.18823529, 0.23137255, 0.2       ]],\n",
       " \n",
       "         ...,\n",
       " \n",
       "         [[0.37254902, 0.49803922, 0.36078431],\n",
       "          [0.35686275, 0.48235294, 0.3372549 ],\n",
       "          [0.22352941, 0.30980392, 0.17647059],\n",
       "          ...,\n",
       "          [0.56470588, 0.6745098 , 0.42352941],\n",
       "          [0.66666667, 0.78823529, 0.5254902 ],\n",
       "          [0.47843137, 0.56078431, 0.38431373]],\n",
       " \n",
       "         [[0.36862745, 0.49019608, 0.32156863],\n",
       "          [0.29411765, 0.40784314, 0.27843137],\n",
       "          [0.1254902 , 0.20392157, 0.09411765],\n",
       "          ...,\n",
       "          [0.56078431, 0.70980392, 0.45490196],\n",
       "          [0.60392157, 0.7372549 , 0.48235294],\n",
       "          [0.41568627, 0.50588235, 0.34901961]],\n",
       " \n",
       "         [[0.30588235, 0.4       , 0.25490196],\n",
       "          [0.1372549 , 0.2       , 0.10588235],\n",
       "          [0.09411765, 0.15686275, 0.06666667],\n",
       "          ...,\n",
       "          [0.56078431, 0.70196078, 0.53333333],\n",
       "          [0.60392157, 0.7254902 , 0.57254902],\n",
       "          [0.50196078, 0.61176471, 0.45882353]]],\n",
       " \n",
       " \n",
       "        [[[0.70196078, 0.4627451 , 0.3254902 ],\n",
       "          [0.54509804, 0.37647059, 0.23921569],\n",
       "          [0.30196078, 0.19215686, 0.10196078],\n",
       "          ...,\n",
       "          [0.34117647, 0.20784314, 0.18039216],\n",
       "          [0.29803922, 0.18431373, 0.16078431],\n",
       "          [0.30196078, 0.18431373, 0.16078431]],\n",
       " \n",
       "         [[0.72156863, 0.50980392, 0.38039216],\n",
       "          [0.52156863, 0.34509804, 0.20784314],\n",
       "          [0.50196078, 0.34901961, 0.22745098],\n",
       "          ...,\n",
       "          [0.38431373, 0.23921569, 0.20784314],\n",
       "          [0.35686275, 0.22745098, 0.2       ],\n",
       "          [0.35294118, 0.22352941, 0.19215686]],\n",
       " \n",
       "         [[0.70588235, 0.51764706, 0.39215686],\n",
       "          [0.59607843, 0.40784314, 0.27843137],\n",
       "          [0.69019608, 0.50588235, 0.36078431],\n",
       "          ...,\n",
       "          [0.39607843, 0.24313725, 0.20784314],\n",
       "          [0.36470588, 0.21960784, 0.18431373],\n",
       "          [0.37254902, 0.22352941, 0.19215686]],\n",
       " \n",
       "         ...,\n",
       " \n",
       "         [[0.55686275, 0.28627451, 0.23921569],\n",
       "          [0.58431373, 0.32941176, 0.29411765],\n",
       "          [0.56470588, 0.31764706, 0.28627451],\n",
       "          ...,\n",
       "          [0.46666667, 0.26666667, 0.21960784],\n",
       "          [0.54509804, 0.34117647, 0.30588235],\n",
       "          [0.62352941, 0.39215686, 0.34901961]],\n",
       " \n",
       "         [[0.59607843, 0.3254902 , 0.2745098 ],\n",
       "          [0.65098039, 0.37647059, 0.31764706],\n",
       "          [0.70196078, 0.41568627, 0.35294118],\n",
       "          ...,\n",
       "          [0.51372549, 0.30196078, 0.25490196],\n",
       "          [0.56470588, 0.34117647, 0.30196078],\n",
       "          [0.6       , 0.35294118, 0.30980392]],\n",
       " \n",
       "         [[0.62352941, 0.36078431, 0.30980392],\n",
       "          [0.69803922, 0.41960784, 0.36470588],\n",
       "          [0.71764706, 0.44313725, 0.37254902],\n",
       "          ...,\n",
       "          [0.58823529, 0.35294118, 0.29803922],\n",
       "          [0.6       , 0.35686275, 0.30980392],\n",
       "          [0.59607843, 0.34117647, 0.28627451]]]]),\n",
       " 1: array([[[[0.62745098, 0.14509804, 0.05098039],\n",
       "          [0.7254902 , 0.19215686, 0.04313725],\n",
       "          [0.81960784, 0.22352941, 0.05490196],\n",
       "          ...,\n",
       "          [0.39607843, 0.07058824, 0.03137255],\n",
       "          [0.35686275, 0.08235294, 0.02352941],\n",
       "          [0.36862745, 0.0745098 , 0.01960784]],\n",
       " \n",
       "         [[0.88235294, 0.2627451 , 0.05098039],\n",
       "          [0.9372549 , 0.28235294, 0.04705882],\n",
       "          [0.94901961, 0.30196078, 0.03921569],\n",
       "          ...,\n",
       "          [0.41960784, 0.08235294, 0.03137255],\n",
       "          [0.38039216, 0.08627451, 0.01568627],\n",
       "          [0.39215686, 0.07058824, 0.02352941]],\n",
       " \n",
       "         [[0.98823529, 0.28235294, 0.02745098],\n",
       "          [0.97647059, 0.26666667, 0.01568627],\n",
       "          [0.94509804, 0.28235294, 0.01176471],\n",
       "          ...,\n",
       "          [0.45098039, 0.07843137, 0.02352941],\n",
       "          [0.41176471, 0.0745098 , 0.01176471],\n",
       "          [0.41176471, 0.06666667, 0.02352941]],\n",
       " \n",
       "         ...,\n",
       " \n",
       "         [[0.31372549, 0.12941176, 0.12941176],\n",
       "          [0.34901961, 0.14509804, 0.15686275],\n",
       "          [0.31764706, 0.15294118, 0.17254902],\n",
       "          ...,\n",
       "          [0.04313725, 0.05490196, 0.04313725],\n",
       "          [0.08235294, 0.09411765, 0.08235294],\n",
       "          [0.12941176, 0.11372549, 0.10980392]],\n",
       " \n",
       "         [[0.28627451, 0.1372549 , 0.14509804],\n",
       "          [0.30980392, 0.14509804, 0.16078431],\n",
       "          [0.28627451, 0.16078431, 0.18823529],\n",
       "          ...,\n",
       "          [0.05882353, 0.07843137, 0.07058824],\n",
       "          [0.10588235, 0.12156863, 0.11372549],\n",
       "          [0.12156863, 0.11764706, 0.10980392]],\n",
       " \n",
       "         [[0.27058824, 0.16470588, 0.17254902],\n",
       "          [0.28235294, 0.16470588, 0.19215686],\n",
       "          [0.29803922, 0.23137255, 0.2745098 ],\n",
       "          ...,\n",
       "          [0.10196078, 0.10980392, 0.12156863],\n",
       "          [0.11764706, 0.1254902 , 0.13333333],\n",
       "          [0.11372549, 0.11764706, 0.10980392]]],\n",
       " \n",
       " \n",
       "        [[[0.85098039, 0.84313725, 0.81960784],\n",
       "          [0.82352941, 0.81568627, 0.79215686],\n",
       "          [0.80392157, 0.81568627, 0.74901961],\n",
       "          ...,\n",
       "          [0.66666667, 0.72156863, 0.61568627],\n",
       "          [0.63137255, 0.69019608, 0.58431373],\n",
       "          [0.63529412, 0.64705882, 0.58431373]],\n",
       " \n",
       "         [[0.87058824, 0.88627451, 0.83137255],\n",
       "          [0.86666667, 0.87843137, 0.83137255],\n",
       "          [0.8627451 , 0.88235294, 0.82352941],\n",
       "          ...,\n",
       "          [0.71764706, 0.74509804, 0.66666667],\n",
       "          [0.72941176, 0.74901961, 0.67843137],\n",
       "          [0.78431373, 0.77254902, 0.72941176]],\n",
       " \n",
       "         [[0.91764706, 0.92156863, 0.90196078],\n",
       "          [0.91372549, 0.91764706, 0.89803922],\n",
       "          [0.90588235, 0.91764706, 0.89019608],\n",
       "          ...,\n",
       "          [0.79215686, 0.80784314, 0.7372549 ],\n",
       "          [0.81568627, 0.81960784, 0.77254902],\n",
       "          [0.82745098, 0.82352941, 0.77647059]],\n",
       " \n",
       "         ...,\n",
       " \n",
       "         [[0.63529412, 0.62745098, 0.78039216],\n",
       "          [0.59215686, 0.58039216, 0.76078431],\n",
       "          [0.57647059, 0.57254902, 0.76078431],\n",
       "          ...,\n",
       "          [0.38431373, 0.38431373, 0.52156863],\n",
       "          [0.68235294, 0.68627451, 0.8745098 ],\n",
       "          [0.72941176, 0.72941176, 0.90980392]],\n",
       " \n",
       "         [[0.58039216, 0.57647059, 0.75686275],\n",
       "          [0.55294118, 0.55294118, 0.7372549 ],\n",
       "          [0.55686275, 0.55686275, 0.74509804],\n",
       "          ...,\n",
       "          [0.51372549, 0.51764706, 0.67843137],\n",
       "          [0.70196078, 0.71372549, 0.90980392],\n",
       "          [0.70588235, 0.70980392, 0.90588235]],\n",
       " \n",
       "         [[0.56470588, 0.57254902, 0.76862745],\n",
       "          [0.58431373, 0.58823529, 0.78039216],\n",
       "          [0.62745098, 0.63137255, 0.81568627],\n",
       "          ...,\n",
       "          [0.64313725, 0.63921569, 0.8       ],\n",
       "          [0.71372549, 0.71372549, 0.88235294],\n",
       "          [0.72941176, 0.7254902 , 0.8745098 ]]]]),\n",
       " 9: array([[[[1.        , 1.        , 0.98431373],\n",
       "          [0.98823529, 0.99215686, 0.97254902],\n",
       "          [0.98431373, 0.98823529, 0.96862745],\n",
       "          ...,\n",
       "          [0.99607843, 1.        , 0.98039216],\n",
       "          [0.99215686, 0.99607843, 0.97647059],\n",
       "          [0.99607843, 1.        , 0.98039216]],\n",
       " \n",
       "         [[0.98431373, 0.99215686, 0.97254902],\n",
       "          [0.97254902, 0.97647059, 0.95686275],\n",
       "          [0.82352941, 0.81568627, 0.80392157],\n",
       "          ...,\n",
       "          [0.98431373, 0.99215686, 0.97254902],\n",
       "          [0.98431373, 0.98823529, 0.96862745],\n",
       "          [0.98823529, 0.99215686, 0.97254902]],\n",
       " \n",
       "         [[0.98039216, 0.99215686, 0.97254902],\n",
       "          [0.97254902, 0.97647059, 0.96078431],\n",
       "          [0.74509804, 0.71764706, 0.70980392],\n",
       "          ...,\n",
       "          [0.98823529, 0.99607843, 0.97647059],\n",
       "          [0.98431373, 0.98823529, 0.96862745],\n",
       "          [0.98823529, 0.98823529, 0.97254902]],\n",
       " \n",
       "         ...,\n",
       " \n",
       "         [[0.76470588, 0.69411765, 0.65098039],\n",
       "          [0.7254902 , 0.65882353, 0.61568627],\n",
       "          [0.70588235, 0.63529412, 0.59215686],\n",
       "          ...,\n",
       "          [0.63529412, 0.57254902, 0.52941176],\n",
       "          [0.6745098 , 0.60392157, 0.56078431],\n",
       "          [0.69803922, 0.61176471, 0.57647059]],\n",
       " \n",
       "         [[0.8       , 0.69411765, 0.61568627],\n",
       "          [0.78431373, 0.67843137, 0.6       ],\n",
       "          [0.78431373, 0.67843137, 0.6       ],\n",
       "          ...,\n",
       "          [0.67058824, 0.57647059, 0.50980392],\n",
       "          [0.70588235, 0.61176471, 0.54509804],\n",
       "          [0.73333333, 0.63137255, 0.56862745]],\n",
       " \n",
       "         [[0.81176471, 0.69803922, 0.61568627],\n",
       "          [0.81568627, 0.70588235, 0.61960784],\n",
       "          [0.81568627, 0.70196078, 0.61960784],\n",
       "          ...,\n",
       "          [0.74901961, 0.63921569, 0.56470588],\n",
       "          [0.77254902, 0.66666667, 0.59215686],\n",
       "          [0.79607843, 0.69019608, 0.61568627]]],\n",
       " \n",
       " \n",
       "        [[[0.78431373, 0.6627451 , 0.29411765],\n",
       "          [0.70980392, 0.56078431, 0.19215686],\n",
       "          [0.77647059, 0.65490196, 0.26666667],\n",
       "          ...,\n",
       "          [0.97254902, 0.96862745, 1.        ],\n",
       "          [0.96470588, 0.96078431, 0.99215686],\n",
       "          [0.96470588, 0.96078431, 0.99215686]],\n",
       " \n",
       "         [[0.82745098, 0.71764706, 0.29411765],\n",
       "          [0.76078431, 0.63137255, 0.21568627],\n",
       "          [0.78039216, 0.6627451 , 0.26666667],\n",
       "          ...,\n",
       "          [0.95294118, 0.94901961, 0.98039216],\n",
       "          [0.94901961, 0.94509804, 0.97647059],\n",
       "          [0.94901961, 0.94509804, 0.97647059]],\n",
       " \n",
       "         [[0.80392157, 0.70196078, 0.32941176],\n",
       "          [0.76862745, 0.65490196, 0.23137255],\n",
       "          [0.80392157, 0.69803922, 0.28627451],\n",
       "          ...,\n",
       "          [0.94901961, 0.94509804, 0.97647059],\n",
       "          [0.94901961, 0.94509804, 0.97647059],\n",
       "          [0.94901961, 0.94509804, 0.97647059]],\n",
       " \n",
       "         ...,\n",
       " \n",
       "         [[0.40784314, 0.35686275, 0.24705882],\n",
       "          [0.37647059, 0.3254902 , 0.21568627],\n",
       "          [0.3372549 , 0.28235294, 0.18823529],\n",
       "          ...,\n",
       "          [0.49019608, 0.44313725, 0.31764706],\n",
       "          [0.47843137, 0.43529412, 0.3254902 ],\n",
       "          [0.49803922, 0.48235294, 0.35294118]],\n",
       " \n",
       "         [[0.46666667, 0.39607843, 0.32941176],\n",
       "          [0.45882353, 0.38823529, 0.30196078],\n",
       "          [0.45882353, 0.38823529, 0.29019608],\n",
       "          ...,\n",
       "          [0.4745098 , 0.44313725, 0.3372549 ],\n",
       "          [0.46666667, 0.43529412, 0.3372549 ],\n",
       "          [0.52156863, 0.50588235, 0.40392157]],\n",
       " \n",
       "         [[0.55686275, 0.50588235, 0.45098039],\n",
       "          [0.54117647, 0.47058824, 0.42352941],\n",
       "          [0.54509804, 0.47058824, 0.40784314],\n",
       "          ...,\n",
       "          [0.47058824, 0.42352941, 0.32941176],\n",
       "          [0.4745098 , 0.42745098, 0.34117647],\n",
       "          [0.51764706, 0.4745098 , 0.36862745]]]]),\n",
       " 5: array([[[[0.35686275, 0.25098039, 0.11764706],\n",
       "          [0.32156863, 0.22745098, 0.11764706],\n",
       "          [0.34117647, 0.28627451, 0.23137255],\n",
       "          ...,\n",
       "          [0.08627451, 0.05098039, 0.05098039],\n",
       "          [0.08627451, 0.05882353, 0.05098039],\n",
       "          [0.07058824, 0.05098039, 0.03921569]],\n",
       " \n",
       "         [[0.36862745, 0.25490196, 0.13333333],\n",
       "          [0.30980392, 0.21960784, 0.11764706],\n",
       "          [0.35294118, 0.30588235, 0.23137255],\n",
       "          ...,\n",
       "          [0.14117647, 0.0745098 , 0.02745098],\n",
       "          [0.23921569, 0.18039216, 0.1254902 ],\n",
       "          [0.18431373, 0.14117647, 0.10196078]],\n",
       " \n",
       "         [[0.36862745, 0.25882353, 0.15294118],\n",
       "          [0.3372549 , 0.25490196, 0.15686275],\n",
       "          [0.47058824, 0.41176471, 0.32156863],\n",
       "          ...,\n",
       "          [0.21176471, 0.12941176, 0.05490196],\n",
       "          [0.32156863, 0.25098039, 0.16470588],\n",
       "          [0.23137255, 0.18039216, 0.1254902 ]],\n",
       " \n",
       "         ...,\n",
       " \n",
       "         [[0.41568627, 0.38039216, 0.34509804],\n",
       "          [0.40392157, 0.37647059, 0.3372549 ],\n",
       "          [0.40392157, 0.38823529, 0.34509804],\n",
       "          ...,\n",
       "          [0.07843137, 0.13333333, 0.20392157],\n",
       "          [0.05490196, 0.14509804, 0.16862745],\n",
       "          [0.08235294, 0.1254902 , 0.21568627]],\n",
       " \n",
       "         [[0.44705882, 0.40392157, 0.35686275],\n",
       "          [0.44705882, 0.40784314, 0.36078431],\n",
       "          [0.47058824, 0.43137255, 0.38431373],\n",
       "          ...,\n",
       "          [0.14117647, 0.18431373, 0.23921569],\n",
       "          [0.14509804, 0.19607843, 0.21568627],\n",
       "          [0.08627451, 0.11764706, 0.2       ]],\n",
       " \n",
       "         [[0.53333333, 0.4745098 , 0.41568627],\n",
       "          [0.51372549, 0.45098039, 0.39215686],\n",
       "          [0.52156863, 0.44705882, 0.39215686],\n",
       "          ...,\n",
       "          [0.31372549, 0.32941176, 0.36078431],\n",
       "          [0.30588235, 0.28235294, 0.29803922],\n",
       "          [0.10980392, 0.12156863, 0.19607843]]],\n",
       " \n",
       " \n",
       "        [[[0.37254902, 0.29803922, 0.30588235],\n",
       "          [0.36078431, 0.30196078, 0.30588235],\n",
       "          [0.34901961, 0.30196078, 0.30196078],\n",
       "          ...,\n",
       "          [0.11764706, 0.10980392, 0.14901961],\n",
       "          [0.68627451, 0.71764706, 0.74901961],\n",
       "          [0.88235294, 0.91764706, 0.94117647]],\n",
       " \n",
       "         [[0.35294118, 0.27843137, 0.28627451],\n",
       "          [0.3372549 , 0.28235294, 0.28235294],\n",
       "          [0.3254902 , 0.27843137, 0.27843137],\n",
       "          ...,\n",
       "          [0.        , 0.        , 0.05098039],\n",
       "          [0.23529412, 0.24705882, 0.30980392],\n",
       "          [0.64705882, 0.67058824, 0.74117647]],\n",
       " \n",
       "         [[0.34509804, 0.27058824, 0.27843137],\n",
       "          [0.32941176, 0.2745098 , 0.2745098 ],\n",
       "          [0.32156863, 0.2745098 , 0.2745098 ],\n",
       "          ...,\n",
       "          [0.01960784, 0.        , 0.04705882],\n",
       "          [0.09411765, 0.10196078, 0.18823529],\n",
       "          [0.49803922, 0.54509804, 0.64705882]],\n",
       " \n",
       "         ...,\n",
       " \n",
       "         [[0.79607843, 0.69019608, 0.63137255],\n",
       "          [0.83529412, 0.68627451, 0.61176471],\n",
       "          [0.79215686, 0.64705882, 0.60784314],\n",
       "          ...,\n",
       "          [0.71372549, 0.71764706, 0.74117647],\n",
       "          [0.4627451 , 0.47058824, 0.49019608],\n",
       "          [0.14509804, 0.1254902 , 0.18039216]],\n",
       " \n",
       "         [[0.48235294, 0.36862745, 0.35294118],\n",
       "          [0.82352941, 0.66666667, 0.61568627],\n",
       "          [0.82745098, 0.67058824, 0.62745098],\n",
       "          ...,\n",
       "          [0.45490196, 0.45490196, 0.47058824],\n",
       "          [0.17254902, 0.17647059, 0.18431373],\n",
       "          [0.04313725, 0.01176471, 0.05882353]],\n",
       " \n",
       "         [[0.4       , 0.33333333, 0.32941176],\n",
       "          [0.81568627, 0.71764706, 0.68627451],\n",
       "          [0.84313725, 0.72941176, 0.69019608],\n",
       "          ...,\n",
       "          [0.14509804, 0.12941176, 0.16862745],\n",
       "          [0.06666667, 0.05098039, 0.08627451],\n",
       "          [0.08627451, 0.04313725, 0.10980392]]]]),\n",
       " 7: array([[[[0.1372549 , 0.14117647, 0.12156863],\n",
       "          [0.24705882, 0.25098039, 0.21568627],\n",
       "          [0.15294118, 0.16078431, 0.11372549],\n",
       "          ...,\n",
       "          [0.0745098 , 0.04313725, 0.03137255],\n",
       "          [0.05098039, 0.01960784, 0.01960784],\n",
       "          [0.07058824, 0.03137255, 0.03529412]],\n",
       " \n",
       "         [[0.05098039, 0.05490196, 0.03529412],\n",
       "          [0.09411765, 0.10196078, 0.0627451 ],\n",
       "          [0.19215686, 0.2       , 0.15294118],\n",
       "          ...,\n",
       "          [0.05098039, 0.02745098, 0.01568627],\n",
       "          [0.04705882, 0.02352941, 0.01960784],\n",
       "          [0.06666667, 0.03921569, 0.03921569]],\n",
       " \n",
       "         [[0.21568627, 0.22352941, 0.18823529],\n",
       "          [0.0627451 , 0.07058824, 0.03137255],\n",
       "          [0.11764706, 0.1254902 , 0.08235294],\n",
       "          ...,\n",
       "          [0.04705882, 0.03137255, 0.01960784],\n",
       "          [0.05882353, 0.04313725, 0.03137255],\n",
       "          [0.0745098 , 0.05882353, 0.05098039]],\n",
       " \n",
       "         ...,\n",
       " \n",
       "         [[0.03137255, 0.03137255, 0.03137255],\n",
       "          [0.03137255, 0.03137255, 0.03137255],\n",
       "          [0.02745098, 0.02745098, 0.02745098],\n",
       "          ...,\n",
       "          [0.03137255, 0.01176471, 0.00392157],\n",
       "          [0.03529412, 0.01568627, 0.00392157],\n",
       "          [0.03529412, 0.01176471, 0.00392157]],\n",
       " \n",
       "         [[0.03921569, 0.03921569, 0.03921569],\n",
       "          [0.03529412, 0.03529412, 0.03529412],\n",
       "          [0.02745098, 0.02745098, 0.02745098],\n",
       "          ...,\n",
       "          [0.01176471, 0.01176471, 0.00392157],\n",
       "          [0.01568627, 0.01568627, 0.        ],\n",
       "          [0.01960784, 0.01568627, 0.00392157]],\n",
       " \n",
       "         [[0.04313725, 0.04313725, 0.04313725],\n",
       "          [0.03137255, 0.03137255, 0.03137255],\n",
       "          [0.02352941, 0.02352941, 0.02352941],\n",
       "          ...,\n",
       "          [0.01960784, 0.02745098, 0.01176471],\n",
       "          [0.01568627, 0.01568627, 0.01176471],\n",
       "          [0.02745098, 0.01568627, 0.01568627]]],\n",
       " \n",
       " \n",
       "        [[[0.23529412, 0.50196078, 0.57647059],\n",
       "          [0.27058824, 0.5254902 , 0.61568627],\n",
       "          [0.27843137, 0.49803922, 0.58823529],\n",
       "          ...,\n",
       "          [0.3372549 , 0.43529412, 0.42352941],\n",
       "          [0.3254902 , 0.40784314, 0.42352941],\n",
       "          [0.41176471, 0.48627451, 0.52156863]],\n",
       " \n",
       "         [[0.24313725, 0.51764706, 0.57647059],\n",
       "          [0.2745098 , 0.5372549 , 0.61176471],\n",
       "          [0.30980392, 0.54117647, 0.61568627],\n",
       "          ...,\n",
       "          [0.34117647, 0.42745098, 0.42352941],\n",
       "          [0.36862745, 0.44313725, 0.45098039],\n",
       "          [0.55294118, 0.61960784, 0.64705882]],\n",
       " \n",
       "         [[0.23921569, 0.49411765, 0.54901961],\n",
       "          [0.2745098 , 0.51764706, 0.59215686],\n",
       "          [0.33333333, 0.54901961, 0.61960784],\n",
       "          ...,\n",
       "          [0.4627451 , 0.54117647, 0.54117647],\n",
       "          [0.52941176, 0.59607843, 0.60392157],\n",
       "          [0.7254902 , 0.78431373, 0.79607843]],\n",
       " \n",
       "         ...,\n",
       " \n",
       "         [[0.39215686, 0.35294118, 0.29411765],\n",
       "          [0.75686275, 0.76470588, 0.70196078],\n",
       "          [0.84705882, 0.8627451 , 0.81568627],\n",
       "          ...,\n",
       "          [0.81960784, 0.81176471, 0.77254902],\n",
       "          [0.80784314, 0.8       , 0.74901961],\n",
       "          [0.80784314, 0.8       , 0.74117647]],\n",
       " \n",
       "         [[0.66666667, 0.65098039, 0.62352941],\n",
       "          [0.83921569, 0.83137255, 0.80784314],\n",
       "          [0.82352941, 0.81568627, 0.79215686],\n",
       "          ...,\n",
       "          [0.80784314, 0.79607843, 0.75686275],\n",
       "          [0.8       , 0.79215686, 0.74509804],\n",
       "          [0.81176471, 0.80392157, 0.74901961]],\n",
       " \n",
       "         [[0.80784314, 0.79607843, 0.78039216],\n",
       "          [0.82745098, 0.81568627, 0.8       ],\n",
       "          [0.83529412, 0.82352941, 0.80392157],\n",
       "          ...,\n",
       "          [0.82745098, 0.81568627, 0.77647059],\n",
       "          [0.82352941, 0.81568627, 0.76470588],\n",
       "          [0.83137255, 0.82352941, 0.76862745]]]]),\n",
       " 4: array([[[[0.1372549 , 0.23921569, 0.34901961],\n",
       "          [0.14509804, 0.25882353, 0.36470588],\n",
       "          [0.15294118, 0.2745098 , 0.38039216],\n",
       "          ...,\n",
       "          [0.16078431, 0.2627451 , 0.36470588],\n",
       "          [0.15686275, 0.25098039, 0.35294118],\n",
       "          [0.15294118, 0.23529412, 0.32941176]],\n",
       " \n",
       "         [[0.2       , 0.29411765, 0.44705882],\n",
       "          [0.23137255, 0.3372549 , 0.48235294],\n",
       "          [0.23529412, 0.34901961, 0.49019608],\n",
       "          ...,\n",
       "          [0.14901961, 0.25882353, 0.36470588],\n",
       "          [0.14901961, 0.25098039, 0.34901961],\n",
       "          [0.14117647, 0.23529412, 0.32941176]],\n",
       " \n",
       "         [[0.23921569, 0.33333333, 0.50196078],\n",
       "          [0.24313725, 0.34901961, 0.51372549],\n",
       "          [0.2627451 , 0.37254902, 0.53333333],\n",
       "          ...,\n",
       "          [0.13333333, 0.24705882, 0.35294118],\n",
       "          [0.1372549 , 0.24313725, 0.3372549 ],\n",
       "          [0.13333333, 0.23137255, 0.32156863]],\n",
       " \n",
       "         ...,\n",
       " \n",
       "         [[0.17647059, 0.24313725, 0.33333333],\n",
       "          [0.18431373, 0.24705882, 0.34901961],\n",
       "          [0.14901961, 0.20784314, 0.31372549],\n",
       "          ...,\n",
       "          [0.08235294, 0.16862745, 0.26666667],\n",
       "          [0.11764706, 0.17254902, 0.25490196],\n",
       "          [0.15686275, 0.2       , 0.2745098 ]],\n",
       " \n",
       "         [[0.17254902, 0.23921569, 0.33333333],\n",
       "          [0.17254902, 0.23921569, 0.34901961],\n",
       "          [0.16078431, 0.23529412, 0.35294118],\n",
       "          ...,\n",
       "          [0.09411765, 0.19607843, 0.29803922],\n",
       "          [0.12941176, 0.19607843, 0.27843137],\n",
       "          [0.14117647, 0.21176471, 0.28627451]],\n",
       " \n",
       "         [[0.18039216, 0.25882353, 0.36078431],\n",
       "          [0.21176471, 0.30196078, 0.43529412],\n",
       "          [0.23529412, 0.34117647, 0.4745098 ],\n",
       "          ...,\n",
       "          [0.10980392, 0.19215686, 0.27058824],\n",
       "          [0.18039216, 0.21176471, 0.2627451 ],\n",
       "          [0.14901961, 0.21568627, 0.25490196]]],\n",
       " \n",
       " \n",
       "        [[[0.41960784, 0.43529412, 0.38431373],\n",
       "          [0.48627451, 0.50196078, 0.44705882],\n",
       "          [0.49803922, 0.51372549, 0.45882353],\n",
       "          ...,\n",
       "          [0.37647059, 0.37254902, 0.31764706],\n",
       "          [0.31764706, 0.31764706, 0.2745098 ],\n",
       "          [0.27058824, 0.27058824, 0.23921569]],\n",
       " \n",
       "         [[0.34509804, 0.36078431, 0.30980392],\n",
       "          [0.43137255, 0.44705882, 0.39215686],\n",
       "          [0.49019608, 0.50588235, 0.45098039],\n",
       "          ...,\n",
       "          [0.36078431, 0.35686275, 0.30196078],\n",
       "          [0.26666667, 0.26666667, 0.22352941],\n",
       "          [0.23921569, 0.23921569, 0.20784314]],\n",
       " \n",
       "         [[0.36078431, 0.37647059, 0.32156863],\n",
       "          [0.41176471, 0.42745098, 0.36862745],\n",
       "          [0.45490196, 0.46666667, 0.40784314],\n",
       "          ...,\n",
       "          [0.41568627, 0.4       , 0.3372549 ],\n",
       "          [0.28627451, 0.27843137, 0.22745098],\n",
       "          [0.23921569, 0.23529412, 0.2       ]],\n",
       " \n",
       "         ...,\n",
       " \n",
       "         [[0.56078431, 0.45098039, 0.32941176],\n",
       "          [0.57254902, 0.46666667, 0.34509804],\n",
       "          [0.59607843, 0.49803922, 0.37254902],\n",
       "          ...,\n",
       "          [0.90196078, 0.87058824, 0.83137255],\n",
       "          [0.65882353, 0.58431373, 0.50980392],\n",
       "          [0.40392157, 0.29803922, 0.20784314]],\n",
       " \n",
       "         [[0.53333333, 0.41960784, 0.30196078],\n",
       "          [0.52156863, 0.41568627, 0.30196078],\n",
       "          [0.5254902 , 0.42352941, 0.32156863],\n",
       "          ...,\n",
       "          [0.96078431, 0.94117647, 0.90980392],\n",
       "          [0.77254902, 0.71372549, 0.64705882],\n",
       "          [0.50588235, 0.41568627, 0.32941176]],\n",
       " \n",
       "         [[0.49019608, 0.37647059, 0.26666667],\n",
       "          [0.44313725, 0.33333333, 0.23137255],\n",
       "          [0.42352941, 0.31764706, 0.22745098],\n",
       "          ...,\n",
       "          [0.96862745, 0.96078431, 0.94117647],\n",
       "          [0.83529412, 0.79215686, 0.74117647],\n",
       "          [0.57647059, 0.50196078, 0.42745098]]]]),\n",
       " 2: array([[[[0.39215686, 0.40392157, 0.29019608],\n",
       "          [0.26666667, 0.35686275, 0.25490196],\n",
       "          [0.45490196, 0.63529412, 0.42745098],\n",
       "          ...,\n",
       "          [0.45098039, 0.68235294, 0.38823529],\n",
       "          [0.45882353, 0.67843137, 0.41568627],\n",
       "          [0.45098039, 0.66666667, 0.42352941]],\n",
       " \n",
       "         [[0.37647059, 0.47058824, 0.30980392],\n",
       "          [0.45098039, 0.61176471, 0.39215686],\n",
       "          [0.49019608, 0.68627451, 0.44313725],\n",
       "          ...,\n",
       "          [0.47058824, 0.68627451, 0.43137255],\n",
       "          [0.4745098 , 0.68235294, 0.44705882],\n",
       "          [0.4627451 , 0.6745098 , 0.45098039]],\n",
       " \n",
       "         [[0.4745098 , 0.66666667, 0.42352941],\n",
       "          [0.48627451, 0.71372549, 0.43921569],\n",
       "          [0.50196078, 0.74509804, 0.43529412],\n",
       "          ...,\n",
       "          [0.4745098 , 0.69411765, 0.45098039],\n",
       "          [0.47058824, 0.69019608, 0.44313725],\n",
       "          [0.4745098 , 0.69019608, 0.45098039]],\n",
       " \n",
       "         ...,\n",
       " \n",
       "         [[0.41568627, 0.59215686, 0.38039216],\n",
       "          [0.41960784, 0.6       , 0.39607843],\n",
       "          [0.42745098, 0.61960784, 0.40784314],\n",
       "          ...,\n",
       "          [0.77254902, 0.51372549, 0.4745098 ],\n",
       "          [0.7372549 , 0.54117647, 0.57254902],\n",
       "          [0.69803922, 0.67058824, 0.72941176]],\n",
       " \n",
       "         [[0.41960784, 0.61176471, 0.36862745],\n",
       "          [0.42745098, 0.6       , 0.38039216],\n",
       "          [0.44313725, 0.62745098, 0.42352941],\n",
       "          ...,\n",
       "          [0.7372549 , 0.49019608, 0.42745098],\n",
       "          [0.78823529, 0.55686275, 0.49803922],\n",
       "          [0.79215686, 0.62352941, 0.57254902]],\n",
       " \n",
       "         [[0.34901961, 0.54901961, 0.29411765],\n",
       "          [0.47058824, 0.62745098, 0.42352941],\n",
       "          [0.49019608, 0.58823529, 0.40784314],\n",
       "          ...,\n",
       "          [0.48627451, 0.35686275, 0.26666667],\n",
       "          [0.58431373, 0.44705882, 0.36862745],\n",
       "          [0.62745098, 0.4745098 , 0.39215686]]],\n",
       " \n",
       " \n",
       "        [[[0.25882353, 0.28627451, 0.32941176],\n",
       "          [0.25882353, 0.27843137, 0.31764706],\n",
       "          [0.25098039, 0.2627451 , 0.29411765],\n",
       "          ...,\n",
       "          [0.40784314, 0.38039216, 0.31764706],\n",
       "          [0.40784314, 0.38039216, 0.31764706],\n",
       "          [0.40784314, 0.38039216, 0.31764706]],\n",
       " \n",
       "         [[0.2       , 0.22352941, 0.2627451 ],\n",
       "          [0.21568627, 0.23137255, 0.26666667],\n",
       "          [0.19215686, 0.2       , 0.22745098],\n",
       "          ...,\n",
       "          [0.36862745, 0.34117647, 0.27843137],\n",
       "          [0.37254902, 0.34509804, 0.28235294],\n",
       "          [0.37647059, 0.34901961, 0.28627451]],\n",
       " \n",
       "         [[0.19215686, 0.20784314, 0.24705882],\n",
       "          [0.21568627, 0.22745098, 0.2627451 ],\n",
       "          [0.18823529, 0.19215686, 0.21568627],\n",
       "          ...,\n",
       "          [0.30588235, 0.27058824, 0.21568627],\n",
       "          [0.30196078, 0.26666667, 0.21176471],\n",
       "          [0.30588235, 0.27058824, 0.21960784]],\n",
       " \n",
       "         ...,\n",
       " \n",
       "         [[0.6       , 0.61176471, 0.52156863],\n",
       "          [0.50196078, 0.50588235, 0.41960784],\n",
       "          [0.31372549, 0.30980392, 0.24705882],\n",
       "          ...,\n",
       "          [0.72156863, 0.72156863, 0.54901961],\n",
       "          [0.71764706, 0.71764706, 0.54509804],\n",
       "          [0.71372549, 0.71372549, 0.54117647]],\n",
       " \n",
       "         [[0.62745098, 0.64313725, 0.53333333],\n",
       "          [0.55686275, 0.56862745, 0.45882353],\n",
       "          [0.39215686, 0.38823529, 0.30980392],\n",
       "          ...,\n",
       "          [0.72156863, 0.74117647, 0.56078431],\n",
       "          [0.72156863, 0.7372549 , 0.56078431],\n",
       "          [0.71764706, 0.73333333, 0.55686275]],\n",
       " \n",
       "         [[0.64705882, 0.67058824, 0.54509804],\n",
       "          [0.6       , 0.61176471, 0.48235294],\n",
       "          [0.47058824, 0.47058824, 0.38039216],\n",
       "          ...,\n",
       "          [0.72156863, 0.75686275, 0.57254902],\n",
       "          [0.72156863, 0.75294118, 0.56862745],\n",
       "          [0.71764706, 0.74901961, 0.56470588]]]])}"
      ]
     },
     "execution_count": 19,
     "metadata": {},
     "output_type": "execute_result"
    }
   ],
   "source": [
    "groupedSample"
   ]
  }
 ],
 "metadata": {
  "interpreter": {
   "hash": "20fa4f0f3884cdb253ada201871cf8c3f8a990e4bbc1c7fce1b9b4c9c33df28e"
  },
  "kernelspec": {
   "display_name": "Python 3.8.2 64-bit",
   "language": "python",
   "name": "python3"
  },
  "language_info": {
   "codemirror_mode": {
    "name": "ipython",
    "version": 3
   },
   "file_extension": ".py",
   "mimetype": "text/x-python",
   "name": "python",
   "nbconvert_exporter": "python",
   "pygments_lexer": "ipython3",
   "version": "3.8.2"
  },
  "orig_nbformat": 4
 },
 "nbformat": 4,
 "nbformat_minor": 2
}
