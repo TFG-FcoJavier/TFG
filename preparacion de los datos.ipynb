{
 "cells": [
  {
   "cell_type": "markdown",
   "metadata": {},
   "source": [
    "# Preparacion de los datos"
   ]
  },
  {
   "cell_type": "markdown",
   "metadata": {},
   "source": [
    "En este cuadernillo se van a extraer los datos de los dataset, se van atratar y se van a volver a guardar para ser usados en otros cuadernillos."
   ]
  },
  {
   "cell_type": "code",
   "execution_count": 70,
   "metadata": {},
   "outputs": [],
   "source": [
    "import pickle\n",
    "import matplotlib.pyplot as plt\n",
    "import numpy as np\n",
    "import os"
   ]
  },
  {
   "cell_type": "code",
   "execution_count": 81,
   "metadata": {},
   "outputs": [],
   "source": [
    "input_path = \"Input/\"\n",
    "dataset_name = \"cifar-10\""
   ]
  },
  {
   "cell_type": "markdown",
   "metadata": {},
   "source": [
    "Funcion para extraer los datos de los ficheros"
   ]
  },
  {
   "cell_type": "code",
   "execution_count": 72,
   "metadata": {},
   "outputs": [],
   "source": [
    "# https://www.cs.toronto.edu/~kriz/cifar.html\n",
    "def unpickle(file):\n",
    "    import pickle\n",
    "    with open(file, 'rb') as fo:\n",
    "        dict = pickle.load(fo, encoding='latin')\n",
    "    return dict"
   ]
  },
  {
   "cell_type": "markdown",
   "metadata": {},
   "source": [
    "Extraemos los datos del fichero."
   ]
  },
  {
   "cell_type": "code",
   "execution_count": 73,
   "metadata": {},
   "outputs": [],
   "source": [
    "batch1 = unpickle(\"Input/cifar-10-batches-py/data_batch_1\")\n",
    "batch2 = unpickle(\"Input/cifar-10-batches-py/data_batch_2\")\n",
    "batch3 = unpickle(\"Input/cifar-10-batches-py/data_batch_3\")\n",
    "batch4 = unpickle(\"Input/cifar-10-batches-py/data_batch_4\")\n",
    "batch5 = unpickle(\"Input/cifar-10-batches-py/data_batch_5\")"
   ]
  },
  {
   "cell_type": "markdown",
   "metadata": {},
   "source": [
    "En cifar10 los datos estan almacenados en un diccionario que contiene el nombre del lote, las etiquetas para clasificacion, los datos (imagenes) y los nombres de fichero correspondientes."
   ]
  },
  {
   "cell_type": "code",
   "execution_count": 74,
   "metadata": {},
   "outputs": [
    {
     "name": "stdout",
     "output_type": "stream",
     "text": [
      "dict_keys(['batch_label', 'labels', 'data', 'filenames'])\n",
      "batch_label <class 'str'>\n",
      "labels <class 'list'>\n",
      "data <class 'numpy.ndarray'>\n",
      "filenames <class 'list'>\n"
     ]
    }
   ],
   "source": [
    "print(batch1.keys())\n",
    "for i in batch1:\n",
    "    print(i, type(batch1[i]))"
   ]
  },
  {
   "cell_type": "markdown",
   "metadata": {},
   "source": [
    "Las imagenes vienen en el modo ``channelsfirst``, en este modo, tenemos 3 matrices de la dimension de la imagen, una para cada canal. Muchas de las funciones admiten por defecto el modo ``chanelslast`` en el que tenemos una matriz de la dimension de la imagen y cada posicion tiene un vector con los codigos de color de cada punto.\n",
    "\n",
    "Por simplicidad, como paso de preprocesamiento, voy a transformar las imagenes de ``channelsfirst`` a ``channelslast``."
   ]
  },
  {
   "cell_type": "code",
   "execution_count": 75,
   "metadata": {},
   "outputs": [
    {
     "name": "stdout",
     "output_type": "stream",
     "text": [
      "(32, 32, 3)\n"
     ]
    }
   ],
   "source": [
    "# https://www.binarystudy.com/2021/09/how-to-load-preprocess-visualize-CIFAR-10-and-CIFAR-100.html\n",
    "imagen = batch1[\"data\"][0]\n",
    "imagen = imagen.reshape(3,32,32)\n",
    "imagen=imagen.transpose(1,2,0)\n",
    "print(imagen.shape)"
   ]
  },
  {
   "cell_type": "code",
   "execution_count": 76,
   "metadata": {},
   "outputs": [
    {
     "data": {
      "image/png": "[encoded data removed]",
      "text/plain": [
       "<Figure size 432x288 with 1 Axes>"
      ]
     },
     "metadata": {
      "needs_background": "light"
     },
     "output_type": "display_data"
    }
   ],
   "source": [
    "plt.imshow(imagen)\n",
    "plt.axis(\"off\")\n",
    "del imagen"
   ]
  },
  {
   "cell_type": "markdown",
   "metadata": {},
   "source": [
    "# Preparacion de los datos"
   ]
  },
  {
   "cell_type": "markdown",
   "metadata": {},
   "source": [
    "Cargamos todas las imagenes de entrenamiento en la variable ``X_train`` y borramos todo lo demás, excepto las etiquetas, ya que no lo vamos a utilizar."
   ]
  },
  {
   "cell_type": "code",
   "execution_count": 77,
   "metadata": {},
   "outputs": [
    {
     "name": "stdout",
     "output_type": "stream",
     "text": [
      "(10000, 3072)\n"
     ]
    }
   ],
   "source": [
    "print(batch1[\"data\"].shape)\n",
    "X_train = {}\n",
    "X_train[\"data\"] = batch1[\"data\"].reshape(10000, 3, 32, 32)\n",
    "X_train[\"labels\"] = batch1[\"labels\"]\n",
    "del batch1\n",
    "X_train[\"data\"] = np.concatenate((X_train[\"data\"], batch2[\"data\"].reshape(10000, 3, 32, 32)))\n",
    "X_train[\"labels\"] = np.concatenate((X_train[\"labels\"], batch2[\"labels\"]))\n",
    "del batch2\n",
    "X_train[\"data\"] = np.concatenate((X_train[\"data\"], batch3[\"data\"].reshape(10000, 3, 32, 32)))\n",
    "X_train[\"labels\"] = np.concatenate((X_train[\"labels\"], batch3[\"labels\"]))\n",
    "del batch3\n",
    "X_train[\"data\"] = np.concatenate((X_train[\"data\"], batch4[\"data\"].reshape(10000, 3, 32, 32)))\n",
    "X_train[\"labels\"] = np.concatenate((X_train[\"labels\"], batch4[\"labels\"]))\n",
    "del batch4\n",
    "X_train[\"data\"] = np.concatenate((X_train[\"data\"], batch5[\"data\"].reshape(10000, 3, 32, 32)))\n",
    "X_train[\"labels\"] = np.concatenate((X_train[\"labels\"], batch5[\"labels\"]))\n",
    "del batch5\n",
    "X_train[\"data\"] = X_train[\"data\"].transpose(0,2,3,1)\n",
    "X_train[\"data\"]=X_train[\"data\"]/255"
   ]
  },
  {
   "cell_type": "code",
   "execution_count": 78,
   "metadata": {},
   "outputs": [
    {
     "name": "stdout",
     "output_type": "stream",
     "text": [
      "(50000, 32, 32, 3)\n"
     ]
    },
    {
     "data": {
      "image/png": "[encoded data removed]",
      "text/plain": [
       "<Figure size 432x288 with 2 Axes>"
      ]
     },
     "metadata": {
      "needs_background": "light"
     },
     "output_type": "display_data"
    }
   ],
   "source": [
    "def tryDataset(dataset):\n",
    "    print(dataset[\"data\"].shape)\n",
    "    #plt.figure()\n",
    "    f, arrx = plt.subplots(1,2)\n",
    "    i = np.random.randint(0,dataset[\"data\"].shape[0])\n",
    "    arrx[0].imshow(dataset[\"data\"][i])\n",
    "    arrx[0].set_title(dataset[\"labels\"][i])\n",
    "    i = np.random.randint(0,dataset[\"data\"].shape[0])\n",
    "    arrx[1].imshow(dataset[\"data\"][i])\n",
    "    arrx[1].set_title(dataset[\"labels\"][i])\n",
    "    for a in arrx:\n",
    "        a.axis(\"off\")\n",
    "    plt.show()\n",
    "    plt.close()\n",
    "tryDataset(X_train)"
   ]
  },
  {
   "cell_type": "code",
   "execution_count": 82,
   "metadata": {},
   "outputs": [],
   "source": [
    "def saveDataset(dataset, name):\n",
    "    savefile = input_path+dataset_name+\"-\"+name\n",
    "    if os.path.isfile(savefile):\n",
    "        print(\"Este set ya esta preparado\")\n",
    "    else:\n",
    "        pickle.dump(dataset, open(savefile, \"wb\"))\n",
    "\n"
   ]
  },
  {
   "cell_type": "code",
   "execution_count": 83,
   "metadata": {},
   "outputs": [
    {
     "name": "stdout",
     "output_type": "stream",
     "text": [
      "Este set ya esta preparado\n"
     ]
    }
   ],
   "source": [
    "saveDataset(X_train, \"train\")\n",
    "del X_train"
   ]
  },
  {
   "cell_type": "code",
   "execution_count": 85,
   "metadata": {},
   "outputs": [
    {
     "name": "stdout",
     "output_type": "stream",
     "text": [
      "(50000, 32, 32, 3)\n"
     ]
    },
    {
     "data": {
      "image/png": "[encoded data removed]",
      "text/plain": [
       "<Figure size 432x288 with 2 Axes>"
      ]
     },
     "metadata": {
      "needs_background": "light"
     },
     "output_type": "display_data"
    }
   ],
   "source": [
    "X_train = unpickle(input_path+dataset_name+\"-train\")\n",
    "tryDataset(X_train)"
   ]
  },
  {
   "cell_type": "markdown",
   "metadata": {},
   "source": [
    "Imagenes para testing"
   ]
  },
  {
   "cell_type": "code",
   "execution_count": 88,
   "metadata": {},
   "outputs": [
    {
     "name": "stdout",
     "output_type": "stream",
     "text": [
      "(10000, 32, 32, 3)\n"
     ]
    },
    {
     "data": {
      "image/png": "[encoded data removed]",
      "text/plain": [
       "<Figure size 432x288 with 2 Axes>"
      ]
     },
     "metadata": {
      "needs_background": "light"
     },
     "output_type": "display_data"
    },
    {
     "name": "stdout",
     "output_type": "stream",
     "text": [
      "Este set ya esta preparado\n",
      "(10000, 32, 32, 3)\n"
     ]
    },
    {
     "data": {
      "image/png": "[encoded data removed]",
      "text/plain": [
       "<Figure size 432x288 with 2 Axes>"
      ]
     },
     "metadata": {
      "needs_background": "light"
     },
     "output_type": "display_data"
    }
   ],
   "source": [
    "sample_from = unpickle(\"Input\\cifar-10-batches-py\\\\test_batch\")\n",
    "X_test = {}\n",
    "X_test[\"data\"] = sample_from[\"data\"].reshape(10000, 3, 32, 32)\n",
    "X_test[\"labels\"] = sample_from[\"labels\"]\n",
    "X_test[\"data\"] = X_test[\"data\"].transpose(0,2,3,1)\n",
    "X_test[\"data\"]=X_test[\"data\"]/255\n",
    "del sample_from\n",
    "tryDataset(X_test)\n",
    "saveDataset(X_test, \"test\")\n",
    "X_test=unpickle(input_path+dataset_name+\"-test\")\n",
    "tryDataset(X_test)"
   ]
  }
 ],
 "metadata": {
  "interpreter": {
   "hash": "20fa4f0f3884cdb253ada201871cf8c3f8a990e4bbc1c7fce1b9b4c9c33df28e"
  },
  "kernelspec": {
   "display_name": "Python 3.8.2 64-bit",
   "language": "python",
   "name": "python3"
  },
  "language_info": {
   "codemirror_mode": {
    "name": "ipython",
    "version": 3
   },
   "file_extension": ".py",
   "mimetype": "text/x-python",
   "name": "python",
   "nbconvert_exporter": "python",
   "pygments_lexer": "ipython3",
   "version": "3.8.2"
  },
  "orig_nbformat": 4
 },
 "nbformat": 4,
 "nbformat_minor": 2
}
