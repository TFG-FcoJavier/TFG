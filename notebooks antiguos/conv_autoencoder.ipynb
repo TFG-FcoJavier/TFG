{
 "cells": [
  {
   "cell_type": "markdown",
   "metadata": {},
   "source": [
    "# Autoencoder"
   ]
  },
  {
   "cell_type": "markdown",
   "metadata": {},
   "source": [
    "Primero quiero ver simplemente el funcionamiento de un autoencoder."
   ]
  },
  {
   "cell_type": "markdown",
   "metadata": {},
   "source": [
    "## Preparacion del entorno"
   ]
  },
  {
   "cell_type": "code",
   "execution_count": 1,
   "metadata": {},
   "outputs": [
    {
     "name": "stdout",
     "output_type": "stream",
     "text": [
      "Num GPUs Available:  1\n"
     ]
    }
   ],
   "source": [
    "import tensorflow as tf\n",
    "from tensorflow import keras\n",
    "import numpy as np\n",
    "\n",
    "print(\"Num GPUs Available: \", len(tf.config.list_physical_devices('GPU')))"
   ]
  },
  {
   "cell_type": "code",
   "execution_count": 2,
   "metadata": {},
   "outputs": [],
   "source": [
    "# https://www.cs.toronto.edu/~kriz/cifar.html\n",
    "def unpickle(file):\n",
    "    import pickle\n",
    "    with open(file, 'rb') as fo:\n",
    "        dict = pickle.load(fo, encoding='latin')\n",
    "    return dict"
   ]
  },
  {
   "cell_type": "markdown",
   "metadata": {},
   "source": [
    "Extraemos los datos del fichero."
   ]
  },
  {
   "cell_type": "code",
   "execution_count": 3,
   "metadata": {},
   "outputs": [],
   "source": [
    "batch1 = unpickle(\"Input\\cifar-10-batches-py\\data_batch_1\")\n",
    "batch2 = unpickle(\"Input\\cifar-10-batches-py\\data_batch_2\")\n",
    "batch3 = unpickle(\"Input\\cifar-10-batches-py\\data_batch_3\")\n",
    "batch4 = unpickle(\"Input\\cifar-10-batches-py\\data_batch_4\")\n",
    "batch5 = unpickle(\"Input\\cifar-10-batches-py\\data_batch_5\")"
   ]
  },
  {
   "cell_type": "markdown",
   "metadata": {},
   "source": [
    "En cifar10 los datos estan almacenados en un diccionario que contiene el nombre del lote, las etiquetas para clasificacion, los datos (imagenes) y los nombres de fichero correspondientes."
   ]
  },
  {
   "cell_type": "code",
   "execution_count": 4,
   "metadata": {},
   "outputs": [
    {
     "name": "stdout",
     "output_type": "stream",
     "text": [
      "dict_keys(['batch_label', 'labels', 'data', 'filenames'])\n",
      "batch_label <class 'str'>\n",
      "labels <class 'list'>\n",
      "data <class 'numpy.ndarray'>\n",
      "filenames <class 'list'>\n"
     ]
    }
   ],
   "source": [
    "print(batch1.keys())\n",
    "for i in batch1:\n",
    "    print(i, type(batch1[i]))"
   ]
  },
  {
   "cell_type": "markdown",
   "metadata": {},
   "source": [
    "Las imagenes vienen en el modo ``channelsfirst``, en este modo, tenemos 3 matrices de la dimension de la imagen, una para cada canal. Muchas de las funciones admiten por defecto el modo ``chanelslast`` en el que tenemos una matriz de la dimension de la imagen y cada posicion tiene un vector con los codigos de color de cada punto.\n",
    "\n",
    "Por simplicidad, como paso de preprocesamiento, voy a transformar las imagenes de ``channelsfirst`` a ``channelslast``."
   ]
  },
  {
   "cell_type": "code",
   "execution_count": 5,
   "metadata": {},
   "outputs": [
    {
     "name": "stdout",
     "output_type": "stream",
     "text": [
      "(32, 32, 3)\n"
     ]
    }
   ],
   "source": [
    "# https://www.binarystudy.com/2021/09/how-to-load-preprocess-visualize-CIFAR-10-and-CIFAR-100.html\n",
    "imagen = batch1[\"data\"][0]\n",
    "imagen = imagen.reshape(3,32,32)\n",
    "imagen=imagen.transpose(1,2,0)\n",
    "print(imagen.shape)"
   ]
  },
  {
   "cell_type": "code",
   "execution_count": 6,
   "metadata": {},
   "outputs": [
    {
     "data": {
      "text/plain": [
       "<matplotlib.image.AxesImage at 0x267ccb24940>"
      ]
     },
     "execution_count": 6,
     "metadata": {},
     "output_type": "execute_result"
    },
    {
     "data": {
      "image/png": "[encoded data removed]",
      "text/plain": [
       "<Figure size 432x288 with 1 Axes>"
      ]
     },
     "metadata": {
      "needs_background": "light"
     },
     "output_type": "display_data"
    }
   ],
   "source": [
    "import matplotlib.pyplot as plt\n",
    "plt.imshow(imagen)"
   ]
  },
  {
   "cell_type": "markdown",
   "metadata": {},
   "source": [
    "## Preparacion de los datos"
   ]
  },
  {
   "cell_type": "markdown",
   "metadata": {},
   "source": [
    "Transformo todas las imagenes del lote de ``channelsfirst`` a ``channelslast``."
   ]
  },
  {
   "cell_type": "code",
   "execution_count": 7,
   "metadata": {},
   "outputs": [
    {
     "name": "stdout",
     "output_type": "stream",
     "text": [
      "(10000, 3072)\n"
     ]
    }
   ],
   "source": [
    "print(batch1[\"data\"].shape)\n",
    "X_train = batch1[\"data\"].reshape(10000, 3, 32, 32)\n",
    "X_train = np.concatenate((X_train, batch2[\"data\"].reshape(10000, 3, 32, 32)))\n",
    "X_train = np.concatenate((X_train, batch3[\"data\"].reshape(10000, 3, 32, 32)))\n",
    "X_train = np.concatenate((X_train, batch4[\"data\"].reshape(10000, 3, 32, 32)))\n",
    "X_train = np.concatenate((X_train, batch5[\"data\"].reshape(10000, 3, 32, 32)))\n",
    "X_train = X_train.transpose(0,2,3,1)\n",
    "X_train=X_train/255"
   ]
  },
  {
   "cell_type": "code",
   "execution_count": 8,
   "metadata": {},
   "outputs": [
    {
     "name": "stdout",
     "output_type": "stream",
     "text": [
      "(50000, 32, 32, 3)\n"
     ]
    },
    {
     "data": {
      "text/plain": [
       "<matplotlib.image.AxesImage at 0x267cec06d30>"
      ]
     },
     "execution_count": 8,
     "metadata": {},
     "output_type": "execute_result"
    },
    {
     "data": {
      "text/plain": [
       "<Figure size 432x288 with 0 Axes>"
      ]
     },
     "metadata": {},
     "output_type": "display_data"
    },
    {
     "data": {
      "image/png": "[encoded data removed]",
      "text/plain": [
       "<Figure size 432x288 with 2 Axes>"
      ]
     },
     "metadata": {
      "needs_background": "light"
     },
     "output_type": "display_data"
    }
   ],
   "source": [
    "print(X_train.shape)\n",
    "plt.figure()\n",
    "f, arrx = plt.subplots(1,2)\n",
    "arrx[0].imshow(X_train[np.random.randint(0,X_train.shape[0])])\n",
    "arrx[1].imshow(X_train[np.random.randint(0,X_train.shape[0])])"
   ]
  },
  {
   "cell_type": "markdown",
   "metadata": {},
   "source": [
    "## Arquitectura del ``Autoencoder``"
   ]
  },
  {
   "cell_type": "markdown",
   "metadata": {},
   "source": [
    "El ``encoder`` va a ser un modelo basado en ``transfer learning``, vamos a tomar la red de ``mobilenet``, entranada para imagenes de ``imagenet`` sin las capa de clasificacion final, con una entrada de tamaño _img\\_shape_ y en el output colocamos la 'representacion latente' una codificacion de la imagen que nos permitiría reconstruirla con un ``decoder``."
   ]
  },
  {
   "cell_type": "code",
   "execution_count": 9,
   "metadata": {},
   "outputs": [],
   "source": [
    "# https://www.tensorflow.org/api_docs/python/tf/keras/applications/mobilenet/preprocess_input\n",
    "# https://keras.io/guides/transfer_learning/\n",
    "def build_encoder(dim_latente, img_shape):\n",
    "    inputs = keras.Input(shape=img_shape)\n",
    "    x=tf.cast(inputs, tf.float32)\n",
    "    #x=keras.applications.mobilenet.preprocess_input(x)  #dataformat por defecto es chanel last\n",
    "    core = keras.applications.MobileNet(input_shape=(img_shape), weights=\"imagenet\", include_top=False)\n",
    "    #core.trainable = False\n",
    "    model = core(x, training=False)\n",
    "    model = keras.layers.GlobalAveragePooling2D()(model)\n",
    "    repr_latente = keras.layers.Dense(dim_latente)(model)\n",
    "    return keras.Model(inputs, repr_latente)\n"
   ]
  },
  {
   "cell_type": "markdown",
   "metadata": {},
   "source": [
    "Para el ``decoder``, de momento, estoy tomado prestada una arquitectura de un ejemplo de **mrquincle** en github de un ``decoder`` para imagenes de ``MNIST``."
   ]
  },
  {
   "cell_type": "code",
   "execution_count": 10,
   "metadata": {},
   "outputs": [],
   "source": [
    "# https://github.com/mrquincle/keras-adversarial-autoencoders/blob/master/Keras%20Adversarial%20Autoencoder%20MNIST.ipynb\n",
    "def build_decoder(latent_dim, img_shape):\n",
    "    model = keras.Sequential()\n",
    "    model.add(keras.layers.Dense(512, input_dim=latent_dim))\n",
    "    model.add(keras.layers.LeakyReLU(alpha=0.2))\n",
    "    model.add(keras.layers.Dense(512))\n",
    "    model.add(keras.layers.LeakyReLU(alpha=0.2))\n",
    "    model.add(keras.layers.Dense(np.prod(img_shape), activation='tanh'))\n",
    "    model.add(keras.layers.Reshape(img_shape))\n",
    "    z = keras.layers.Input(shape=(latent_dim,))\n",
    "    img = model(z)\n",
    "    return keras.Model(z, img)"
   ]
  },
  {
   "cell_type": "markdown",
   "metadata": {},
   "source": [
    "``Decoder`` alternativo:"
   ]
  },
  {
   "cell_type": "code",
   "execution_count": 11,
   "metadata": {},
   "outputs": [],
   "source": [
    "def build_myDecoder(dim_latente, img_shape):\n",
    "    model=keras.Sequential()\n",
    "    model.add(keras.layers.Dense(512, input_dim=dim_latente))\n",
    "    model.add(keras.layers.LeakyReLU(alpha=0.2))\n",
    "    model.add(keras.layers.Dense(768, input_dim=dim_latente))\n",
    "    model.add(keras.layers.LeakyReLU(alpha=0.2))\n",
    "    model.add(keras.layers.Dense(1024, input_dim=dim_latente))\n",
    "    model.add(keras.layers.LeakyReLU(alpha=0.2))\n",
    "    model.add(keras.layers.Dense(np.prod(img_shape), activation=keras.activations.tanh))\n",
    "    model.add(keras.layers.Reshape(img_shape))\n",
    "    z = keras.layers.Input(shape=(dim_latente))\n",
    "    img =  model(z)\n",
    "    return keras.Model(z,img)"
   ]
  },
  {
   "cell_type": "markdown",
   "metadata": {},
   "source": [
    "Construimos la red"
   ]
  },
  {
   "cell_type": "code",
   "execution_count": 12,
   "metadata": {},
   "outputs": [
    {
     "name": "stdout",
     "output_type": "stream",
     "text": [
      "WARNING:tensorflow:`input_shape` is undefined or non-square, or `rows` is not in [128, 160, 192, 224]. Weights for input shape (224, 224) will be loaded as the default.\n"
     ]
    }
   ],
   "source": [
    "img_shape = X_train[0].shape\n",
    "dim_latente = 20\n",
    "optimizer = keras.optimizers.Adam(0.0002, 0.5)\n",
    "\n",
    "encoder = build_encoder(dim_latente, img_shape)\n",
    "decoder = build_myDecoder(dim_latente, img_shape)\n",
    "img = keras.layers.Input(img_shape)\n",
    "\n",
    "encoder_rep = encoder(img)\n",
    "autoencoder_out = decoder(encoder_rep)\n",
    "\n",
    "autoencoder = keras.Model(img, autoencoder_out)\n",
    "autoencoder.compile(loss='mse', optimizer=optimizer, metrics=[\"accuracy\"])"
   ]
  },
  {
   "cell_type": "code",
   "execution_count": 13,
   "metadata": {},
   "outputs": [
    {
     "name": "stdout",
     "output_type": "stream",
     "text": [
      "Model: \"model\"\n",
      "_________________________________________________________________\n",
      " Layer (type)                Output Shape              Param #   \n",
      "=================================================================\n",
      " input_1 (InputLayer)        [(None, 32, 32, 3)]       0         \n",
      "                                                                 \n",
      " tf.cast (TFOpLambda)        (None, 32, 32, 3)         0         \n",
      "                                                                 \n",
      " mobilenet_1.00_224 (Functio  (None, 1, 1, 1024)       3228864   \n",
      " nal)                                                            \n",
      "                                                                 \n",
      " global_average_pooling2d (G  (None, 1024)             0         \n",
      " lobalAveragePooling2D)                                          \n",
      "                                                                 \n",
      " dense (Dense)               (None, 20)                20500     \n",
      "                                                                 \n",
      "=================================================================\n",
      "Total params: 3,249,364\n",
      "Trainable params: 3,227,476\n",
      "Non-trainable params: 21,888\n",
      "_________________________________________________________________\n"
     ]
    }
   ],
   "source": [
    "encoder.summary()"
   ]
  },
  {
   "cell_type": "code",
   "execution_count": 14,
   "metadata": {},
   "outputs": [
    {
     "name": "stdout",
     "output_type": "stream",
     "text": [
      "Model: \"model_1\"\n",
      "_________________________________________________________________\n",
      " Layer (type)                Output Shape              Param #   \n",
      "=================================================================\n",
      " input_3 (InputLayer)        [(None, 20)]              0         \n",
      "                                                                 \n",
      " sequential (Sequential)     (None, 32, 32, 3)         4340992   \n",
      "                                                                 \n",
      "=================================================================\n",
      "Total params: 4,340,992\n",
      "Trainable params: 4,340,992\n",
      "Non-trainable params: 0\n",
      "_________________________________________________________________\n"
     ]
    }
   ],
   "source": [
    "decoder.summary()"
   ]
  },
  {
   "cell_type": "code",
   "execution_count": 15,
   "metadata": {},
   "outputs": [
    {
     "name": "stdout",
     "output_type": "stream",
     "text": [
      "Model: \"model_2\"\n",
      "_________________________________________________________________\n",
      " Layer (type)                Output Shape              Param #   \n",
      "=================================================================\n",
      " input_4 (InputLayer)        [(None, 32, 32, 3)]       0         \n",
      "                                                                 \n",
      " model (Functional)          (None, 20)                3249364   \n",
      "                                                                 \n",
      " model_1 (Functional)        (None, 32, 32, 3)         4340992   \n",
      "                                                                 \n",
      "=================================================================\n",
      "Total params: 7,590,356\n",
      "Trainable params: 7,568,468\n",
      "Non-trainable params: 21,888\n",
      "_________________________________________________________________\n"
     ]
    }
   ],
   "source": [
    "autoencoder.summary()"
   ]
  },
  {
   "cell_type": "markdown",
   "metadata": {},
   "source": [
    "## Entrenamiento"
   ]
  },
  {
   "cell_type": "markdown",
   "metadata": {},
   "source": [
    "Imagenes para muestreo visual"
   ]
  },
  {
   "cell_type": "code",
   "execution_count": 16,
   "metadata": {},
   "outputs": [],
   "source": [
    "def sample_imgs(dataset, model, epoch, sample_size=5, save_imgs=True):\n",
    "    # Tomamos sample_size imagenes de muestra\n",
    "    ids = np.random.randint(0,dataset.shape[0], sample_size)\n",
    "    sample=dataset[ids]\n",
    "    # Intentamos regenerar las imagenes\n",
    "    gen_img = model.predict(sample)\n",
    "    # Guardamos una grafica con la muestra (arriba) y las imagenes generadas (abajo)\n",
    "    f, axxs = plt.subplots(2,sample_size)\n",
    "    for j in range(sample_size):\n",
    "        axxs[0,j].imshow(sample[j])\n",
    "        axxs[1,j].imshow(gen_img[j])\n",
    "    if save_imgs:\n",
    "        f.savefig(\"output/autoencoderCIFAR10_e%d.png\" % (epoch))\n",
    "        plt.close()\n",
    "    "
   ]
  },
  {
   "cell_type": "code",
   "execution_count": 17,
   "metadata": {},
   "outputs": [
    {
     "data": {
      "text/plain": [
       "(10000, 3072)"
      ]
     },
     "execution_count": 17,
     "metadata": {},
     "output_type": "execute_result"
    }
   ],
   "source": [
    "sample_from = unpickle(\"Input\\cifar-10-batches-py\\\\test_batch\")\n",
    "sample_from = sample_from[\"data\"]\n",
    "sample_from.shape"
   ]
  },
  {
   "cell_type": "code",
   "execution_count": 18,
   "metadata": {},
   "outputs": [],
   "source": [
    "sample_from = sample_from.reshape(10000,3,32,32)\n",
    "sample_from = sample_from.transpose(0,2,3,1)\n",
    "sample_from = sample_from/255\n"
   ]
  },
  {
   "cell_type": "code",
   "execution_count": 19,
   "metadata": {},
   "outputs": [
    {
     "data": {
      "text/plain": [
       "<matplotlib.image.AxesImage at 0x2682ba5a190>"
      ]
     },
     "execution_count": 19,
     "metadata": {},
     "output_type": "execute_result"
    },
    {
     "data": {
      "image/png": "[encoded data removed]",
      "text/plain": [
       "<Figure size 432x288 with 1 Axes>"
      ]
     },
     "metadata": {
      "needs_background": "light"
     },
     "output_type": "display_data"
    }
   ],
   "source": [
    "plt.imshow(sample_from[np.random.randint(0,sample_from.shape[0])])"
   ]
  },
  {
   "cell_type": "markdown",
   "metadata": {},
   "source": [
    "Entrenamiento"
   ]
  },
  {
   "cell_type": "code",
   "execution_count": 20,
   "metadata": {},
   "outputs": [
    {
     "name": "stdout",
     "output_type": "stream",
     "text": [
      "Epoch: 0 loss = 0.295470, acc = 33.00%\n"
     ]
    },
    {
     "name": "stderr",
     "output_type": "stream",
     "text": [
      "Clipping input data to the valid range for imshow with RGB data ([0..1] for floats or [0..255] for integers).\n",
      "Clipping input data to the valid range for imshow with RGB data ([0..1] for floats or [0..255] for integers).\n",
      "Clipping input data to the valid range for imshow with RGB data ([0..1] for floats or [0..255] for integers).\n",
      "Clipping input data to the valid range for imshow with RGB data ([0..1] for floats or [0..255] for integers).\n",
      "Clipping input data to the valid range for imshow with RGB data ([0..1] for floats or [0..255] for integers).\n"
     ]
    },
    {
     "name": "stdout",
     "output_type": "stream",
     "text": [
      "Epoch: 10 loss = 0.067786, acc = 36.95%\n",
      "Epoch: 20 loss = 0.062500, acc = 40.52%\n",
      "Epoch: 30 loss = 0.063642, acc = 38.50%\n",
      "Epoch: 40 loss = 0.062099, acc = 40.89%\n",
      "Epoch: 50 loss = 0.055004, acc = 42.56%\n",
      "Epoch: 60 loss = 0.054404, acc = 42.49%\n",
      "Epoch: 70 loss = 0.051799, acc = 42.02%\n",
      "Epoch: 80 loss = 0.051031, acc = 43.27%\n",
      "Epoch: 90 loss = 0.051089, acc = 43.74%\n",
      "Epoch: 100 loss = 0.059730, acc = 42.81%\n",
      "Epoch: 110 loss = 0.047619, acc = 42.72%\n",
      "Epoch: 120 loss = 0.048429, acc = 44.53%\n",
      "Epoch: 130 loss = 0.055018, acc = 42.75%\n",
      "Epoch: 140 loss = 0.061128, acc = 44.04%\n",
      "Epoch: 150 loss = 0.044501, acc = 45.08%\n",
      "Epoch: 160 loss = 0.046693, acc = 44.78%\n",
      "Epoch: 170 loss = 0.043988, acc = 44.99%\n",
      "Epoch: 180 loss = 0.044267, acc = 43.56%\n",
      "Epoch: 190 loss = 0.043697, acc = 44.21%\n",
      "Epoch: 200 loss = 0.043521, acc = 44.89%\n",
      "Epoch: 210 loss = 0.042786, acc = 43.76%\n",
      "Epoch: 220 loss = 0.055832, acc = 41.25%\n",
      "Epoch: 230 loss = 0.039488, acc = 45.50%\n",
      "Epoch: 240 loss = 0.041709, acc = 44.29%\n",
      "Epoch: 250 loss = 0.042334, acc = 42.40%\n",
      "Epoch: 260 loss = 0.039185, acc = 45.60%\n",
      "Epoch: 270 loss = 0.044167, acc = 43.34%\n",
      "Epoch: 280 loss = 0.041759, acc = 44.44%\n",
      "Epoch: 290 loss = 0.038950, acc = 44.90%\n",
      "Epoch: 300 loss = 0.039595, acc = 44.31%\n",
      "Epoch: 310 loss = 0.044002, acc = 44.48%\n",
      "Epoch: 320 loss = 0.043618, acc = 44.68%\n",
      "Epoch: 330 loss = 0.040047, acc = 43.24%\n",
      "Epoch: 340 loss = 0.037620, acc = 44.24%\n",
      "Epoch: 350 loss = 0.043817, acc = 44.54%\n",
      "Epoch: 360 loss = 0.041504, acc = 44.64%\n",
      "Epoch: 370 loss = 0.041155, acc = 45.83%\n",
      "Epoch: 380 loss = 0.035655, acc = 45.67%\n",
      "Epoch: 390 loss = 0.040668, acc = 43.06%\n",
      "Epoch: 400 loss = 0.036185, acc = 45.20%\n",
      "Epoch: 410 loss = 0.039178, acc = 44.90%\n",
      "Epoch: 420 loss = 0.038447, acc = 45.52%\n",
      "Epoch: 430 loss = 0.038501, acc = 44.68%\n",
      "Epoch: 440 loss = 0.037083, acc = 43.88%\n",
      "Epoch: 450 loss = 0.036118, acc = 44.85%\n",
      "Epoch: 460 loss = 0.035007, acc = 44.68%\n",
      "Epoch: 470 loss = 0.035476, acc = 44.53%\n",
      "Epoch: 480 loss = 0.037489, acc = 45.96%\n",
      "Epoch: 490 loss = 0.035733, acc = 45.69%\n",
      "Epoch: 500 loss = 0.035745, acc = 45.90%\n",
      "Epoch: 510 loss = 0.035403, acc = 46.63%\n",
      "Epoch: 520 loss = 0.032970, acc = 45.98%\n",
      "Epoch: 530 loss = 0.034533, acc = 45.57%\n",
      "Epoch: 540 loss = 0.035056, acc = 45.72%\n",
      "Epoch: 550 loss = 0.033683, acc = 47.19%\n",
      "Epoch: 560 loss = 0.036349, acc = 46.29%\n",
      "Epoch: 570 loss = 0.034191, acc = 46.77%\n",
      "Epoch: 580 loss = 0.035245, acc = 47.82%\n",
      "Epoch: 590 loss = 0.034362, acc = 47.06%\n",
      "Epoch: 600 loss = 0.036045, acc = 46.44%\n",
      "Epoch: 610 loss = 0.033411, acc = 45.91%\n",
      "Epoch: 620 loss = 0.033154, acc = 46.82%\n",
      "Epoch: 630 loss = 0.035095, acc = 47.72%\n",
      "Epoch: 640 loss = 0.035322, acc = 46.67%\n",
      "Epoch: 650 loss = 0.035730, acc = 47.43%\n",
      "Epoch: 660 loss = 0.033350, acc = 48.62%\n",
      "Epoch: 670 loss = 0.034007, acc = 48.60%\n",
      "Epoch: 680 loss = 0.034907, acc = 47.62%\n",
      "Epoch: 690 loss = 0.033553, acc = 48.42%\n",
      "Epoch: 700 loss = 0.034120, acc = 47.73%\n",
      "Epoch: 710 loss = 0.034692, acc = 49.15%\n",
      "Epoch: 720 loss = 0.033116, acc = 48.09%\n",
      "Epoch: 730 loss = 0.036015, acc = 49.68%\n",
      "Epoch: 740 loss = 0.034034, acc = 48.40%\n",
      "Epoch: 750 loss = 0.033030, acc = 49.20%\n",
      "Epoch: 760 loss = 0.035244, acc = 48.61%\n",
      "Epoch: 770 loss = 0.033585, acc = 48.58%\n",
      "Epoch: 780 loss = 0.036806, acc = 48.28%\n",
      "Epoch: 790 loss = 0.033547, acc = 49.32%\n",
      "Epoch: 800 loss = 0.033243, acc = 50.13%\n",
      "Epoch: 810 loss = 0.034097, acc = 50.60%\n",
      "Epoch: 820 loss = 0.039300, acc = 49.18%\n",
      "Epoch: 830 loss = 0.032566, acc = 50.57%\n",
      "Epoch: 840 loss = 0.034621, acc = 50.74%\n",
      "Epoch: 850 loss = 0.032160, acc = 49.80%\n",
      "Epoch: 860 loss = 0.033131, acc = 50.47%\n",
      "Epoch: 870 loss = 0.034390, acc = 52.06%\n",
      "Epoch: 880 loss = 0.032617, acc = 51.54%\n",
      "Epoch: 890 loss = 0.034958, acc = 51.06%\n",
      "Epoch: 900 loss = 0.032661, acc = 51.83%\n",
      "Epoch: 910 loss = 0.033153, acc = 52.48%\n",
      "Epoch: 920 loss = 0.032559, acc = 52.53%\n",
      "Epoch: 930 loss = 0.039486, acc = 52.18%\n",
      "Epoch: 940 loss = 0.036319, acc = 50.77%\n",
      "Epoch: 950 loss = 0.034116, acc = 54.32%\n",
      "Epoch: 960 loss = 0.033844, acc = 54.05%\n",
      "Epoch: 970 loss = 0.031970, acc = 56.00%\n",
      "Epoch: 980 loss = 0.032228, acc = 54.73%\n",
      "Epoch: 990 loss = 0.034213, acc = 52.59%\n",
      "Epoch: 1000 loss = 0.032917, acc = 59.09%\n",
      "Epoch: 1010 loss = 0.038465, acc = 44.41%\n",
      "Epoch: 1020 loss = 0.036342, acc = 48.13%\n",
      "Epoch: 1030 loss = 0.032111, acc = 49.14%\n",
      "Epoch: 1040 loss = 0.033193, acc = 53.71%\n",
      "Epoch: 1050 loss = 0.033796, acc = 57.40%\n",
      "Epoch: 1060 loss = 0.031881, acc = 59.61%\n",
      "Epoch: 1070 loss = 0.033735, acc = 56.88%\n",
      "Epoch: 1080 loss = 0.032337, acc = 54.17%\n",
      "Epoch: 1090 loss = 0.033517, acc = 57.23%\n",
      "Epoch: 1100 loss = 0.032641, acc = 57.65%\n",
      "Epoch: 1110 loss = 0.032032, acc = 57.59%\n",
      "Epoch: 1120 loss = 0.033991, acc = 53.15%\n",
      "Epoch: 1130 loss = 0.033741, acc = 58.05%\n",
      "Epoch: 1140 loss = 0.031744, acc = 58.49%\n",
      "Epoch: 1150 loss = 0.031075, acc = 59.86%\n",
      "Epoch: 1160 loss = 0.031975, acc = 58.60%\n",
      "Epoch: 1170 loss = 0.032175, acc = 59.74%\n",
      "Epoch: 1180 loss = 0.032176, acc = 59.16%\n",
      "Epoch: 1190 loss = 0.033657, acc = 55.13%\n",
      "Epoch: 1200 loss = 0.032328, acc = 58.46%\n",
      "Epoch: 1210 loss = 0.032074, acc = 52.46%\n",
      "Epoch: 1220 loss = 0.030937, acc = 59.36%\n",
      "Epoch: 1230 loss = 0.031715, acc = 57.32%\n",
      "Epoch: 1240 loss = 0.032889, acc = 59.21%\n",
      "Epoch: 1250 loss = 0.032046, acc = 54.95%\n",
      "Epoch: 1260 loss = 0.031891, acc = 58.23%\n",
      "Epoch: 1270 loss = 0.031643, acc = 57.58%\n",
      "Epoch: 1280 loss = 0.032668, acc = 56.82%\n",
      "Epoch: 1290 loss = 0.033069, acc = 57.39%\n",
      "Epoch: 1300 loss = 0.032059, acc = 58.47%\n",
      "Epoch: 1310 loss = 0.033312, acc = 51.31%\n",
      "Epoch: 1320 loss = 0.030995, acc = 57.65%\n",
      "Epoch: 1330 loss = 0.031023, acc = 55.97%\n",
      "Epoch: 1340 loss = 0.033606, acc = 54.29%\n",
      "Epoch: 1350 loss = 0.031741, acc = 58.31%\n",
      "Epoch: 1360 loss = 0.033752, acc = 58.37%\n",
      "Epoch: 1370 loss = 0.031921, acc = 58.19%\n",
      "Epoch: 1380 loss = 0.030886, acc = 59.22%\n",
      "Epoch: 1390 loss = 0.031515, acc = 57.53%\n",
      "Epoch: 1400 loss = 0.032086, acc = 58.31%\n",
      "Epoch: 1410 loss = 0.031534, acc = 53.75%\n",
      "Epoch: 1420 loss = 0.030434, acc = 57.15%\n",
      "Epoch: 1430 loss = 0.031084, acc = 56.84%\n",
      "Epoch: 1440 loss = 0.030763, acc = 58.15%\n",
      "Epoch: 1450 loss = 0.035684, acc = 57.18%\n",
      "Epoch: 1460 loss = 0.029473, acc = 58.91%\n",
      "Epoch: 1470 loss = 0.030151, acc = 58.75%\n",
      "Epoch: 1480 loss = 0.029998, acc = 57.85%\n",
      "Epoch: 1490 loss = 0.034523, acc = 48.05%\n",
      "Epoch: 1500 loss = 0.031186, acc = 57.75%\n",
      "Epoch: 1510 loss = 0.030651, acc = 59.34%\n",
      "Epoch: 1520 loss = 0.030510, acc = 58.21%\n",
      "Epoch: 1530 loss = 0.031012, acc = 59.25%\n",
      "Epoch: 1540 loss = 0.030622, acc = 57.42%\n",
      "Epoch: 1550 loss = 0.030302, acc = 59.01%\n",
      "Epoch: 1560 loss = 0.030070, acc = 56.31%\n",
      "Epoch: 1570 loss = 0.031975, acc = 58.16%\n",
      "Epoch: 1580 loss = 0.029337, acc = 58.98%\n",
      "Epoch: 1590 loss = 0.030967, acc = 59.03%\n",
      "Epoch: 1600 loss = 0.030066, acc = 59.22%\n",
      "Epoch: 1610 loss = 0.030051, acc = 59.94%\n",
      "Epoch: 1620 loss = 0.030069, acc = 59.80%\n",
      "Epoch: 1630 loss = 0.029121, acc = 59.65%\n",
      "Epoch: 1640 loss = 0.029890, acc = 57.82%\n",
      "Epoch: 1650 loss = 0.034609, acc = 56.70%\n",
      "Epoch: 1660 loss = 0.029830, acc = 57.68%\n",
      "Epoch: 1670 loss = 0.029546, acc = 59.59%\n",
      "Epoch: 1680 loss = 0.029212, acc = 57.59%\n",
      "Epoch: 1690 loss = 0.030237, acc = 58.32%\n",
      "Epoch: 1700 loss = 0.033589, acc = 56.14%\n",
      "Epoch: 1710 loss = 0.029949, acc = 58.54%\n",
      "Epoch: 1720 loss = 0.029209, acc = 57.77%\n",
      "Epoch: 1730 loss = 0.029835, acc = 56.59%\n",
      "Epoch: 1740 loss = 0.028997, acc = 57.43%\n",
      "Epoch: 1750 loss = 0.029169, acc = 58.89%\n",
      "Epoch: 1760 loss = 0.029005, acc = 57.34%\n",
      "Epoch: 1770 loss = 0.028804, acc = 57.96%\n",
      "Epoch: 1780 loss = 0.029255, acc = 55.60%\n",
      "Epoch: 1790 loss = 0.029116, acc = 58.92%\n",
      "Epoch: 1800 loss = 0.029301, acc = 60.26%\n",
      "Epoch: 1810 loss = 0.029501, acc = 57.36%\n",
      "Epoch: 1820 loss = 0.029515, acc = 59.85%\n",
      "Epoch: 1830 loss = 0.029555, acc = 58.30%\n",
      "Epoch: 1840 loss = 0.033337, acc = 59.80%\n",
      "Epoch: 1850 loss = 0.036546, acc = 51.34%\n",
      "Epoch: 1860 loss = 0.029372, acc = 58.13%\n",
      "Epoch: 1870 loss = 0.030190, acc = 57.82%\n",
      "Epoch: 1880 loss = 0.029062, acc = 57.09%\n",
      "Epoch: 1890 loss = 0.029520, acc = 56.08%\n",
      "Epoch: 1900 loss = 0.028609, acc = 59.00%\n",
      "Epoch: 1910 loss = 0.031698, acc = 57.16%\n",
      "Epoch: 1920 loss = 0.031713, acc = 58.60%\n",
      "Epoch: 1930 loss = 0.028914, acc = 59.76%\n",
      "Epoch: 1940 loss = 0.028198, acc = 56.94%\n",
      "Epoch: 1950 loss = 0.030770, acc = 57.62%\n",
      "Epoch: 1960 loss = 0.030416, acc = 56.70%\n",
      "Epoch: 1970 loss = 0.028638, acc = 57.62%\n",
      "Epoch: 1980 loss = 0.029224, acc = 59.32%\n",
      "Epoch: 1990 loss = 0.029696, acc = 57.35%\n",
      "Epoch: 2000 loss = 0.028639, acc = 58.04%\n",
      "Epoch: 2010 loss = 0.028915, acc = 58.34%\n",
      "Epoch: 2020 loss = 0.029421, acc = 58.05%\n",
      "Epoch: 2030 loss = 0.029405, acc = 58.19%\n",
      "Epoch: 2040 loss = 0.030008, acc = 57.59%\n",
      "Epoch: 2050 loss = 0.027740, acc = 59.23%\n",
      "Epoch: 2060 loss = 0.028770, acc = 58.76%\n",
      "Epoch: 2070 loss = 0.031321, acc = 56.47%\n",
      "Epoch: 2080 loss = 0.030089, acc = 53.99%\n",
      "Epoch: 2090 loss = 0.027605, acc = 60.21%\n",
      "Epoch: 2100 loss = 0.035276, acc = 56.96%\n",
      "Epoch: 2110 loss = 0.027987, acc = 56.72%\n",
      "Epoch: 2120 loss = 0.028100, acc = 57.76%\n",
      "Epoch: 2130 loss = 0.028359, acc = 59.25%\n",
      "Epoch: 2140 loss = 0.030801, acc = 57.26%\n",
      "Epoch: 2150 loss = 0.029660, acc = 55.40%\n",
      "Epoch: 2160 loss = 0.027378, acc = 58.77%\n",
      "Epoch: 2170 loss = 0.028898, acc = 58.24%\n",
      "Epoch: 2180 loss = 0.027251, acc = 56.63%\n",
      "Epoch: 2190 loss = 0.026749, acc = 58.65%\n",
      "Epoch: 2200 loss = 0.029209, acc = 57.54%\n",
      "Epoch: 2210 loss = 0.028569, acc = 56.99%\n",
      "Epoch: 2220 loss = 0.026782, acc = 56.55%\n",
      "Epoch: 2230 loss = 0.026920, acc = 57.70%\n",
      "Epoch: 2240 loss = 0.028835, acc = 57.18%\n",
      "Epoch: 2250 loss = 0.027399, acc = 57.63%\n",
      "Epoch: 2260 loss = 0.027643, acc = 58.21%\n",
      "Epoch: 2270 loss = 0.026820, acc = 57.26%\n",
      "Epoch: 2280 loss = 0.029263, acc = 58.22%\n",
      "Epoch: 2290 loss = 0.028402, acc = 57.65%\n",
      "Epoch: 2300 loss = 0.025780, acc = 57.43%\n",
      "Epoch: 2310 loss = 0.027304, acc = 58.67%\n",
      "Epoch: 2320 loss = 0.027717, acc = 57.18%\n",
      "Epoch: 2330 loss = 0.027676, acc = 59.80%\n",
      "Epoch: 2340 loss = 0.026380, acc = 57.62%\n",
      "Epoch: 2350 loss = 0.026074, acc = 58.03%\n",
      "Epoch: 2360 loss = 0.026756, acc = 58.56%\n",
      "Epoch: 2370 loss = 0.027395, acc = 53.34%\n",
      "Epoch: 2380 loss = 0.025670, acc = 57.57%\n",
      "Epoch: 2390 loss = 0.026718, acc = 56.52%\n",
      "Epoch: 2400 loss = 0.026633, acc = 56.85%\n",
      "Epoch: 2410 loss = 0.026446, acc = 56.69%\n",
      "Epoch: 2420 loss = 0.027272, acc = 57.00%\n",
      "Epoch: 2430 loss = 0.027820, acc = 57.23%\n",
      "Epoch: 2440 loss = 0.028353, acc = 56.17%\n",
      "Epoch: 2450 loss = 0.025501, acc = 57.19%\n",
      "Epoch: 2460 loss = 0.026559, acc = 57.38%\n",
      "Epoch: 2470 loss = 0.026134, acc = 56.98%\n",
      "Epoch: 2480 loss = 0.025473, acc = 59.44%\n",
      "Epoch: 2490 loss = 0.026547, acc = 58.70%\n"
     ]
    },
    {
     "name": "stderr",
     "output_type": "stream",
     "text": [
      "Clipping input data to the valid range for imshow with RGB data ([0..1] for floats or [0..255] for integers).\n"
     ]
    },
    {
     "name": "stdout",
     "output_type": "stream",
     "text": [
      "Epoch: 2500 loss = 0.026381, acc = 57.19%\n",
      "Epoch: 2510 loss = 0.025072, acc = 58.71%\n",
      "Epoch: 2520 loss = 0.025596, acc = 56.72%\n",
      "Epoch: 2530 loss = 0.027589, acc = 58.74%\n",
      "Epoch: 2540 loss = 0.035176, acc = 52.47%\n",
      "Epoch: 2550 loss = 0.028315, acc = 57.16%\n",
      "Epoch: 2560 loss = 0.025203, acc = 58.91%\n",
      "Epoch: 2570 loss = 0.026412, acc = 58.36%\n",
      "Epoch: 2580 loss = 0.026552, acc = 56.46%\n",
      "Epoch: 2590 loss = 0.025293, acc = 58.42%\n",
      "Epoch: 2600 loss = 0.025086, acc = 61.05%\n",
      "Epoch: 2610 loss = 0.027587, acc = 57.12%\n",
      "Epoch: 2620 loss = 0.026082, acc = 59.69%\n",
      "Epoch: 2630 loss = 0.024683, acc = 59.11%\n",
      "Epoch: 2640 loss = 0.025179, acc = 59.24%\n",
      "Epoch: 2650 loss = 0.025737, acc = 57.07%\n",
      "Epoch: 2660 loss = 0.026676, acc = 57.51%\n",
      "Epoch: 2670 loss = 0.025948, acc = 59.41%\n",
      "Epoch: 2680 loss = 0.027169, acc = 57.21%\n",
      "Epoch: 2690 loss = 0.026004, acc = 59.22%\n",
      "Epoch: 2700 loss = 0.025585, acc = 57.96%\n",
      "Epoch: 2710 loss = 0.025089, acc = 56.98%\n",
      "Epoch: 2720 loss = 0.026730, acc = 57.39%\n",
      "Epoch: 2730 loss = 0.025766, acc = 55.60%\n",
      "Epoch: 2740 loss = 0.024813, acc = 58.31%\n",
      "Epoch: 2750 loss = 0.025902, acc = 59.09%\n",
      "Epoch: 2760 loss = 0.025766, acc = 58.59%\n",
      "Epoch: 2770 loss = 0.025869, acc = 58.22%\n",
      "Epoch: 2780 loss = 0.026355, acc = 55.25%\n",
      "Epoch: 2790 loss = 0.026343, acc = 56.55%\n",
      "Epoch: 2800 loss = 0.024836, acc = 58.88%\n",
      "Epoch: 2810 loss = 0.027169, acc = 57.74%\n",
      "Epoch: 2820 loss = 0.026272, acc = 58.14%\n",
      "Epoch: 2830 loss = 0.027166, acc = 54.15%\n",
      "Epoch: 2840 loss = 0.025844, acc = 55.76%\n",
      "Epoch: 2850 loss = 0.024809, acc = 59.50%\n",
      "Epoch: 2860 loss = 0.024490, acc = 58.42%\n",
      "Epoch: 2870 loss = 0.025329, acc = 56.58%\n",
      "Epoch: 2880 loss = 0.025626, acc = 57.83%\n",
      "Epoch: 2890 loss = 0.029586, acc = 57.55%\n",
      "Epoch: 2900 loss = 0.026615, acc = 57.00%\n",
      "Epoch: 2910 loss = 0.024457, acc = 58.90%\n",
      "Epoch: 2920 loss = 0.026008, acc = 59.50%\n",
      "Epoch: 2930 loss = 0.023896, acc = 59.14%\n",
      "Epoch: 2940 loss = 0.025571, acc = 56.72%\n",
      "Epoch: 2950 loss = 0.024418, acc = 59.92%\n",
      "Epoch: 2960 loss = 0.025340, acc = 57.52%\n",
      "Epoch: 2970 loss = 0.028682, acc = 55.68%\n",
      "Epoch: 2980 loss = 0.025618, acc = 58.64%\n",
      "Epoch: 2990 loss = 0.025065, acc = 59.17%\n",
      "Epoch: 3000 loss = 0.024707, acc = 57.47%\n"
     ]
    },
    {
     "name": "stderr",
     "output_type": "stream",
     "text": [
      "Clipping input data to the valid range for imshow with RGB data ([0..1] for floats or [0..255] for integers).\n"
     ]
    },
    {
     "name": "stdout",
     "output_type": "stream",
     "text": [
      "Epoch: 3010 loss = 0.024239, acc = 58.56%\n",
      "Epoch: 3020 loss = 0.025310, acc = 57.26%\n",
      "Epoch: 3030 loss = 0.026496, acc = 58.72%\n",
      "Epoch: 3040 loss = 0.030733, acc = 58.45%\n",
      "Epoch: 3050 loss = 0.031974, acc = 55.06%\n",
      "Epoch: 3060 loss = 0.024730, acc = 57.29%\n",
      "Epoch: 3070 loss = 0.024118, acc = 58.04%\n",
      "Epoch: 3080 loss = 0.023914, acc = 58.89%\n",
      "Epoch: 3090 loss = 0.024472, acc = 58.04%\n",
      "Epoch: 3100 loss = 0.024448, acc = 59.69%\n",
      "Epoch: 3110 loss = 0.024356, acc = 59.37%\n",
      "Epoch: 3120 loss = 0.023650, acc = 54.66%\n",
      "Epoch: 3130 loss = 0.023955, acc = 58.71%\n",
      "Epoch: 3140 loss = 0.025985, acc = 56.00%\n",
      "Epoch: 3150 loss = 0.024895, acc = 59.21%\n",
      "Epoch: 3160 loss = 0.024258, acc = 58.59%\n",
      "Epoch: 3170 loss = 0.023777, acc = 58.77%\n",
      "Epoch: 3180 loss = 0.023650, acc = 57.98%\n",
      "Epoch: 3190 loss = 0.024047, acc = 59.12%\n",
      "Epoch: 3200 loss = 0.025056, acc = 59.91%\n",
      "Epoch: 3210 loss = 0.023338, acc = 59.97%\n",
      "Epoch: 3220 loss = 0.023989, acc = 57.16%\n",
      "Epoch: 3230 loss = 0.024872, acc = 58.65%\n",
      "Epoch: 3240 loss = 0.024357, acc = 59.66%\n",
      "Epoch: 3250 loss = 0.024106, acc = 59.04%\n",
      "Epoch: 3260 loss = 0.024433, acc = 59.76%\n",
      "Epoch: 3270 loss = 0.024512, acc = 57.47%\n",
      "Epoch: 3280 loss = 0.024326, acc = 57.60%\n",
      "Epoch: 3290 loss = 0.024307, acc = 58.62%\n",
      "Epoch: 3300 loss = 0.026878, acc = 56.49%\n",
      "Epoch: 3310 loss = 0.024424, acc = 57.96%\n",
      "Epoch: 3320 loss = 0.024382, acc = 57.11%\n",
      "Epoch: 3330 loss = 0.023113, acc = 57.93%\n",
      "Epoch: 3340 loss = 0.023872, acc = 58.02%\n",
      "Epoch: 3350 loss = 0.024301, acc = 55.36%\n",
      "Epoch: 3360 loss = 0.024554, acc = 58.70%\n",
      "Epoch: 3370 loss = 0.023773, acc = 59.06%\n",
      "Epoch: 3380 loss = 0.023969, acc = 58.00%\n",
      "Epoch: 3390 loss = 0.023716, acc = 58.87%\n",
      "Epoch: 3400 loss = 0.023770, acc = 59.26%\n",
      "Epoch: 3410 loss = 0.023895, acc = 59.06%\n",
      "Epoch: 3420 loss = 0.024325, acc = 57.91%\n",
      "Epoch: 3430 loss = 0.023322, acc = 59.71%\n",
      "Epoch: 3440 loss = 0.024810, acc = 58.30%\n",
      "Epoch: 3450 loss = 0.026420, acc = 59.46%\n",
      "Epoch: 3460 loss = 0.024934, acc = 60.21%\n",
      "Epoch: 3470 loss = 0.024196, acc = 56.91%\n",
      "Epoch: 3480 loss = 0.022965, acc = 58.77%\n",
      "Epoch: 3490 loss = 0.022968, acc = 57.07%\n"
     ]
    },
    {
     "name": "stderr",
     "output_type": "stream",
     "text": [
      "Clipping input data to the valid range for imshow with RGB data ([0..1] for floats or [0..255] for integers).\n",
      "Clipping input data to the valid range for imshow with RGB data ([0..1] for floats or [0..255] for integers).\n"
     ]
    },
    {
     "name": "stdout",
     "output_type": "stream",
     "text": [
      "Epoch: 3500 loss = 0.023783, acc = 57.73%\n",
      "Epoch: 3510 loss = 0.024696, acc = 55.24%\n",
      "Epoch: 3520 loss = 0.026915, acc = 54.35%\n",
      "Epoch: 3530 loss = 0.026379, acc = 58.42%\n",
      "Epoch: 3540 loss = 0.023535, acc = 56.59%\n",
      "Epoch: 3550 loss = 0.022584, acc = 58.84%\n",
      "Epoch: 3560 loss = 0.023069, acc = 60.08%\n",
      "Epoch: 3570 loss = 0.023246, acc = 57.23%\n",
      "Epoch: 3580 loss = 0.023445, acc = 57.72%\n",
      "Epoch: 3590 loss = 0.023451, acc = 59.80%\n",
      "Epoch: 3600 loss = 0.023074, acc = 58.75%\n",
      "Epoch: 3610 loss = 0.024692, acc = 58.61%\n",
      "Epoch: 3620 loss = 0.030405, acc = 58.09%\n",
      "Epoch: 3630 loss = 0.031686, acc = 58.49%\n",
      "Epoch: 3640 loss = 0.025896, acc = 56.63%\n",
      "Epoch: 3650 loss = 0.023456, acc = 57.03%\n",
      "Epoch: 3660 loss = 0.023125, acc = 58.52%\n",
      "Epoch: 3670 loss = 0.023125, acc = 59.86%\n",
      "Epoch: 3680 loss = 0.022285, acc = 57.50%\n",
      "Epoch: 3690 loss = 0.022532, acc = 59.49%\n",
      "Epoch: 3700 loss = 0.023534, acc = 58.19%\n",
      "Epoch: 3710 loss = 0.023317, acc = 59.10%\n",
      "Epoch: 3720 loss = 0.022805, acc = 59.01%\n",
      "Epoch: 3730 loss = 0.022737, acc = 59.31%\n",
      "Epoch: 3740 loss = 0.022653, acc = 58.66%\n",
      "Epoch: 3750 loss = 0.022925, acc = 59.41%\n",
      "Epoch: 3760 loss = 0.022439, acc = 56.68%\n",
      "Epoch: 3770 loss = 0.023343, acc = 58.39%\n",
      "Epoch: 3780 loss = 0.024481, acc = 58.01%\n",
      "Epoch: 3790 loss = 0.025003, acc = 56.17%\n",
      "Epoch: 3800 loss = 0.023138, acc = 58.39%\n",
      "Epoch: 3810 loss = 0.022512, acc = 61.54%\n",
      "Epoch: 3820 loss = 0.022900, acc = 58.16%\n",
      "Epoch: 3830 loss = 0.023838, acc = 56.51%\n",
      "Epoch: 3840 loss = 0.023862, acc = 59.07%\n",
      "Epoch: 3850 loss = 0.024161, acc = 57.51%\n",
      "Epoch: 3860 loss = 0.022653, acc = 59.62%\n",
      "Epoch: 3870 loss = 0.022476, acc = 58.61%\n",
      "Epoch: 3880 loss = 0.023548, acc = 58.77%\n",
      "Epoch: 3890 loss = 0.022387, acc = 58.85%\n",
      "Epoch: 3900 loss = 0.022695, acc = 56.72%\n",
      "Epoch: 3910 loss = 0.022170, acc = 59.38%\n",
      "Epoch: 3920 loss = 0.025656, acc = 53.74%\n",
      "Epoch: 3930 loss = 0.024268, acc = 57.58%\n",
      "Epoch: 3940 loss = 0.023023, acc = 57.31%\n",
      "Epoch: 3950 loss = 0.022382, acc = 58.77%\n",
      "Epoch: 3960 loss = 0.022979, acc = 60.11%\n",
      "Epoch: 3970 loss = 0.023658, acc = 57.15%\n",
      "Epoch: 3980 loss = 0.023780, acc = 58.56%\n",
      "Epoch: 3990 loss = 0.023709, acc = 59.18%\n",
      "Epoch: 4000 loss = 0.022559, acc = 58.55%\n",
      "Epoch: 4010 loss = 0.021927, acc = 60.99%\n",
      "Epoch: 4020 loss = 0.022473, acc = 60.18%\n",
      "Epoch: 4030 loss = 0.023272, acc = 59.29%\n",
      "Epoch: 4040 loss = 0.022582, acc = 58.12%\n",
      "Epoch: 4050 loss = 0.023002, acc = 57.77%\n",
      "Epoch: 4060 loss = 0.032265, acc = 59.28%\n",
      "Epoch: 4070 loss = 0.028373, acc = 55.56%\n",
      "Epoch: 4080 loss = 0.024328, acc = 57.08%\n",
      "Epoch: 4090 loss = 0.022238, acc = 59.27%\n",
      "Epoch: 4100 loss = 0.022996, acc = 59.64%\n",
      "Epoch: 4110 loss = 0.022021, acc = 57.96%\n",
      "Epoch: 4120 loss = 0.022328, acc = 59.32%\n",
      "Epoch: 4130 loss = 0.022499, acc = 58.72%\n",
      "Epoch: 4140 loss = 0.022188, acc = 57.98%\n",
      "Epoch: 4150 loss = 0.023148, acc = 57.56%\n",
      "Epoch: 4160 loss = 0.022255, acc = 59.85%\n",
      "Epoch: 4170 loss = 0.022403, acc = 58.03%\n",
      "Epoch: 4180 loss = 0.022267, acc = 58.81%\n",
      "Epoch: 4190 loss = 0.022902, acc = 57.61%\n",
      "Epoch: 4200 loss = 0.023411, acc = 59.75%\n",
      "Epoch: 4210 loss = 0.022387, acc = 59.11%\n",
      "Epoch: 4220 loss = 0.022032, acc = 59.25%\n",
      "Epoch: 4230 loss = 0.023102, acc = 59.16%\n",
      "Epoch: 4240 loss = 0.022609, acc = 58.67%\n",
      "Epoch: 4250 loss = 0.024273, acc = 59.47%\n",
      "Epoch: 4260 loss = 0.024844, acc = 58.52%\n",
      "Epoch: 4270 loss = 0.022304, acc = 59.52%\n",
      "Epoch: 4280 loss = 0.021955, acc = 59.36%\n",
      "Epoch: 4290 loss = 0.022574, acc = 58.98%\n",
      "Epoch: 4300 loss = 0.022393, acc = 57.38%\n",
      "Epoch: 4310 loss = 0.021930, acc = 59.75%\n",
      "Epoch: 4320 loss = 0.022813, acc = 58.30%\n",
      "Epoch: 4330 loss = 0.022205, acc = 59.69%\n",
      "Epoch: 4340 loss = 0.022555, acc = 58.58%\n",
      "Epoch: 4350 loss = 0.023564, acc = 58.44%\n",
      "Epoch: 4360 loss = 0.023004, acc = 59.51%\n",
      "Epoch: 4370 loss = 0.023621, acc = 56.51%\n",
      "Epoch: 4380 loss = 0.023234, acc = 56.48%\n",
      "Epoch: 4390 loss = 0.022002, acc = 57.54%\n",
      "Epoch: 4400 loss = 0.023288, acc = 58.92%\n",
      "Epoch: 4410 loss = 0.022565, acc = 59.28%\n",
      "Epoch: 4420 loss = 0.022686, acc = 60.22%\n",
      "Epoch: 4430 loss = 0.024037, acc = 59.44%\n",
      "Epoch: 4440 loss = 0.023370, acc = 58.96%\n",
      "Epoch: 4450 loss = 0.022189, acc = 59.90%\n",
      "Epoch: 4460 loss = 0.022524, acc = 60.44%\n",
      "Epoch: 4470 loss = 0.022588, acc = 59.79%\n",
      "Epoch: 4480 loss = 0.022280, acc = 58.60%\n",
      "Epoch: 4490 loss = 0.022164, acc = 56.73%\n",
      "Epoch: 4500 loss = 0.022258, acc = 60.62%\n",
      "Epoch: 4510 loss = 0.024774, acc = 58.35%\n",
      "Epoch: 4520 loss = 0.038684, acc = 56.57%\n",
      "Epoch: 4530 loss = 0.034087, acc = 59.93%\n",
      "Epoch: 4540 loss = 0.025104, acc = 56.63%\n",
      "Epoch: 4550 loss = 0.023901, acc = 58.51%\n",
      "Epoch: 4560 loss = 0.022354, acc = 57.75%\n",
      "Epoch: 4570 loss = 0.022814, acc = 58.90%\n",
      "Epoch: 4580 loss = 0.022477, acc = 58.92%\n",
      "Epoch: 4590 loss = 0.022225, acc = 59.08%\n",
      "Epoch: 4600 loss = 0.022542, acc = 58.22%\n",
      "Epoch: 4610 loss = 0.022452, acc = 57.64%\n",
      "Epoch: 4620 loss = 0.022133, acc = 60.82%\n",
      "Epoch: 4630 loss = 0.022395, acc = 59.48%\n",
      "Epoch: 4640 loss = 0.021696, acc = 59.62%\n",
      "Epoch: 4650 loss = 0.022750, acc = 59.44%\n",
      "Epoch: 4660 loss = 0.022774, acc = 59.72%\n",
      "Epoch: 4670 loss = 0.022139, acc = 60.40%\n",
      "Epoch: 4680 loss = 0.022913, acc = 58.71%\n",
      "Epoch: 4690 loss = 0.022333, acc = 55.36%\n",
      "Epoch: 4700 loss = 0.022388, acc = 59.29%\n",
      "Epoch: 4710 loss = 0.023313, acc = 57.71%\n",
      "Epoch: 4720 loss = 0.022256, acc = 59.15%\n",
      "Epoch: 4730 loss = 0.023338, acc = 60.64%\n",
      "Epoch: 4740 loss = 0.022416, acc = 58.59%\n",
      "Epoch: 4750 loss = 0.021883, acc = 58.82%\n",
      "Epoch: 4760 loss = 0.022380, acc = 60.07%\n",
      "Epoch: 4770 loss = 0.023374, acc = 58.89%\n",
      "Epoch: 4780 loss = 0.024511, acc = 58.51%\n",
      "Epoch: 4790 loss = 0.021618, acc = 60.53%\n",
      "Epoch: 4800 loss = 0.022405, acc = 56.73%\n",
      "Epoch: 4810 loss = 0.021964, acc = 57.49%\n",
      "Epoch: 4820 loss = 0.022345, acc = 57.42%\n",
      "Epoch: 4830 loss = 0.024522, acc = 59.97%\n",
      "Epoch: 4840 loss = 0.024797, acc = 59.04%\n",
      "Epoch: 4850 loss = 0.022746, acc = 58.97%\n",
      "Epoch: 4860 loss = 0.022371, acc = 58.13%\n",
      "Epoch: 4870 loss = 0.022185, acc = 58.90%\n",
      "Epoch: 4880 loss = 0.022199, acc = 58.58%\n",
      "Epoch: 4890 loss = 0.022370, acc = 59.31%\n",
      "Epoch: 4900 loss = 0.022331, acc = 59.28%\n",
      "Epoch: 4910 loss = 0.022174, acc = 58.79%\n",
      "Epoch: 4920 loss = 0.024606, acc = 58.15%\n",
      "Epoch: 4930 loss = 0.034579, acc = 57.00%\n",
      "Epoch: 4940 loss = 0.023291, acc = 57.02%\n",
      "Epoch: 4950 loss = 0.022384, acc = 58.28%\n",
      "Epoch: 4960 loss = 0.021906, acc = 58.95%\n",
      "Epoch: 4970 loss = 0.022310, acc = 57.54%\n",
      "Epoch: 4980 loss = 0.022440, acc = 58.42%\n",
      "Epoch: 4990 loss = 0.022384, acc = 59.92%\n",
      "Epoch: 5000 loss = 0.021887, acc = 59.38%\n",
      "Epoch: 5010 loss = 0.021982, acc = 58.16%\n",
      "Epoch: 5020 loss = 0.021956, acc = 59.79%\n",
      "Epoch: 5030 loss = 0.021873, acc = 59.88%\n",
      "Epoch: 5040 loss = 0.022363, acc = 58.73%\n",
      "Epoch: 5050 loss = 0.022843, acc = 58.81%\n",
      "Epoch: 5060 loss = 0.023024, acc = 56.12%\n",
      "Epoch: 5070 loss = 0.023039, acc = 58.64%\n",
      "Epoch: 5080 loss = 0.021612, acc = 60.20%\n",
      "Epoch: 5090 loss = 0.022361, acc = 60.26%\n",
      "Epoch: 5100 loss = 0.022255, acc = 58.57%\n",
      "Epoch: 5110 loss = 0.022289, acc = 59.47%\n",
      "Epoch: 5120 loss = 0.022451, acc = 54.57%\n",
      "Epoch: 5130 loss = 0.023614, acc = 55.57%\n",
      "Epoch: 5140 loss = 0.023978, acc = 55.73%\n",
      "Epoch: 5150 loss = 0.021651, acc = 58.10%\n",
      "Epoch: 5160 loss = 0.021628, acc = 59.25%\n",
      "Epoch: 5170 loss = 0.022644, acc = 59.95%\n",
      "Epoch: 5180 loss = 0.021520, acc = 59.58%\n",
      "Epoch: 5190 loss = 0.022505, acc = 59.34%\n",
      "Epoch: 5200 loss = 0.023640, acc = 58.57%\n",
      "Epoch: 5210 loss = 0.023640, acc = 59.69%\n",
      "Epoch: 5220 loss = 0.021934, acc = 58.99%\n",
      "Epoch: 5230 loss = 0.022355, acc = 60.36%\n",
      "Epoch: 5240 loss = 0.022523, acc = 58.99%\n",
      "Epoch: 5250 loss = 0.021654, acc = 60.45%\n",
      "Epoch: 5260 loss = 0.022076, acc = 60.07%\n",
      "Epoch: 5270 loss = 0.021774, acc = 59.64%\n",
      "Epoch: 5280 loss = 0.021943, acc = 57.89%\n",
      "Epoch: 5290 loss = 0.021799, acc = 58.60%\n",
      "Epoch: 5300 loss = 0.024786, acc = 56.96%\n",
      "Epoch: 5310 loss = 0.028565, acc = 59.40%\n",
      "Epoch: 5320 loss = 0.023154, acc = 58.72%\n",
      "Epoch: 5330 loss = 0.021410, acc = 59.24%\n",
      "Epoch: 5340 loss = 0.021703, acc = 59.81%\n",
      "Epoch: 5350 loss = 0.021852, acc = 59.08%\n",
      "Epoch: 5360 loss = 0.022033, acc = 59.92%\n",
      "Epoch: 5370 loss = 0.021368, acc = 60.45%\n",
      "Epoch: 5380 loss = 0.021387, acc = 61.04%\n",
      "Epoch: 5390 loss = 0.021823, acc = 59.18%\n",
      "Epoch: 5400 loss = 0.022218, acc = 59.95%\n",
      "Epoch: 5410 loss = 0.021101, acc = 58.62%\n",
      "Epoch: 5420 loss = 0.021944, acc = 58.20%\n",
      "Epoch: 5430 loss = 0.022293, acc = 59.65%\n",
      "Epoch: 5440 loss = 0.022920, acc = 59.32%\n",
      "Epoch: 5450 loss = 0.036218, acc = 51.92%\n",
      "Epoch: 5460 loss = 0.033350, acc = 58.31%\n",
      "Epoch: 5470 loss = 0.023005, acc = 60.14%\n",
      "Epoch: 5480 loss = 0.022048, acc = 59.91%\n",
      "Epoch: 5490 loss = 0.021855, acc = 59.10%\n",
      "Epoch: 5500 loss = 0.021740, acc = 60.04%\n",
      "Epoch: 5510 loss = 0.021474, acc = 60.03%\n",
      "Epoch: 5520 loss = 0.022555, acc = 59.75%\n",
      "Epoch: 5530 loss = 0.022143, acc = 59.01%\n",
      "Epoch: 5540 loss = 0.022001, acc = 59.06%\n",
      "Epoch: 5550 loss = 0.021810, acc = 60.04%\n",
      "Epoch: 5560 loss = 0.021500, acc = 56.07%\n",
      "Epoch: 5570 loss = 0.021907, acc = 58.85%\n",
      "Epoch: 5580 loss = 0.021590, acc = 61.09%\n",
      "Epoch: 5590 loss = 0.021878, acc = 60.48%\n",
      "Epoch: 5600 loss = 0.023037, acc = 60.35%\n",
      "Epoch: 5610 loss = 0.022331, acc = 60.93%\n",
      "Epoch: 5620 loss = 0.022509, acc = 54.97%\n",
      "Epoch: 5630 loss = 0.021595, acc = 59.93%\n",
      "Epoch: 5640 loss = 0.021141, acc = 58.92%\n",
      "Epoch: 5650 loss = 0.022377, acc = 60.61%\n",
      "Epoch: 5660 loss = 0.024989, acc = 58.28%\n",
      "Epoch: 5670 loss = 0.022659, acc = 58.75%\n",
      "Epoch: 5680 loss = 0.021049, acc = 60.47%\n",
      "Epoch: 5690 loss = 0.021595, acc = 58.46%\n",
      "Epoch: 5700 loss = 0.022796, acc = 59.73%\n",
      "Epoch: 5710 loss = 0.022561, acc = 56.90%\n",
      "Epoch: 5720 loss = 0.021684, acc = 58.28%\n",
      "Epoch: 5730 loss = 0.021671, acc = 59.89%\n",
      "Epoch: 5740 loss = 0.022606, acc = 59.70%\n",
      "Epoch: 5750 loss = 0.023601, acc = 59.22%\n",
      "Epoch: 5760 loss = 0.023887, acc = 58.90%\n",
      "Epoch: 5770 loss = 0.022506, acc = 60.39%\n",
      "Epoch: 5780 loss = 0.021336, acc = 59.94%\n",
      "Epoch: 5790 loss = 0.021691, acc = 58.89%\n",
      "Epoch: 5800 loss = 0.022091, acc = 59.25%\n",
      "Epoch: 5810 loss = 0.021292, acc = 60.04%\n",
      "Epoch: 5820 loss = 0.022062, acc = 59.26%\n",
      "Epoch: 5830 loss = 0.024014, acc = 57.11%\n",
      "Epoch: 5840 loss = 0.024111, acc = 58.85%\n",
      "Epoch: 5850 loss = 0.021660, acc = 58.36%\n",
      "Epoch: 5860 loss = 0.020757, acc = 59.81%\n",
      "Epoch: 5870 loss = 0.021578, acc = 59.76%\n",
      "Epoch: 5880 loss = 0.021783, acc = 61.02%\n",
      "Epoch: 5890 loss = 0.021237, acc = 58.00%\n",
      "Epoch: 5900 loss = 0.021246, acc = 60.89%\n",
      "Epoch: 5910 loss = 0.021713, acc = 57.98%\n",
      "Epoch: 5920 loss = 0.022965, acc = 59.27%\n",
      "Epoch: 5930 loss = 0.024089, acc = 56.01%\n",
      "Epoch: 5940 loss = 0.021533, acc = 59.59%\n",
      "Epoch: 5950 loss = 0.021741, acc = 60.87%\n",
      "Epoch: 5960 loss = 0.021246, acc = 60.09%\n",
      "Epoch: 5970 loss = 0.021356, acc = 59.31%\n",
      "Epoch: 5980 loss = 0.020826, acc = 59.91%\n",
      "Epoch: 5990 loss = 0.021528, acc = 58.93%\n",
      "Epoch: 6000 loss = 0.021369, acc = 59.96%\n",
      "Epoch: 6010 loss = 0.021126, acc = 60.65%\n",
      "Epoch: 6020 loss = 0.022811, acc = 59.39%\n",
      "Epoch: 6030 loss = 0.028484, acc = 54.68%\n",
      "Epoch: 6040 loss = 0.022140, acc = 59.99%\n",
      "Epoch: 6050 loss = 0.020913, acc = 59.80%\n",
      "Epoch: 6060 loss = 0.020841, acc = 60.75%\n",
      "Epoch: 6070 loss = 0.021601, acc = 59.53%\n",
      "Epoch: 6080 loss = 0.021268, acc = 60.36%\n",
      "Epoch: 6090 loss = 0.021210, acc = 59.97%\n",
      "Epoch: 6100 loss = 0.021849, acc = 59.86%\n",
      "Epoch: 6110 loss = 0.023620, acc = 59.69%\n",
      "Epoch: 6120 loss = 0.022993, acc = 59.42%\n",
      "Epoch: 6130 loss = 0.021052, acc = 58.67%\n",
      "Epoch: 6140 loss = 0.022285, acc = 58.29%\n",
      "Epoch: 6150 loss = 0.021123, acc = 59.44%\n",
      "Epoch: 6160 loss = 0.020906, acc = 60.35%\n",
      "Epoch: 6170 loss = 0.021521, acc = 59.71%\n",
      "Epoch: 6180 loss = 0.021945, acc = 59.77%\n",
      "Epoch: 6190 loss = 0.022350, acc = 58.52%\n",
      "Epoch: 6200 loss = 0.021818, acc = 60.68%\n",
      "Epoch: 6210 loss = 0.021549, acc = 59.80%\n",
      "Epoch: 6220 loss = 0.021648, acc = 59.26%\n",
      "Epoch: 6230 loss = 0.020878, acc = 59.60%\n",
      "Epoch: 6240 loss = 0.021634, acc = 60.27%\n",
      "Epoch: 6250 loss = 0.021671, acc = 59.95%\n",
      "Epoch: 6260 loss = 0.023614, acc = 59.25%\n",
      "Epoch: 6270 loss = 0.022345, acc = 60.08%\n",
      "Epoch: 6280 loss = 0.021774, acc = 59.75%\n",
      "Epoch: 6290 loss = 0.022390, acc = 59.49%\n",
      "Epoch: 6300 loss = 0.020909, acc = 62.07%\n",
      "Epoch: 6310 loss = 0.021568, acc = 59.40%\n",
      "Epoch: 6320 loss = 0.021220, acc = 56.73%\n",
      "Epoch: 6330 loss = 0.021879, acc = 59.89%\n",
      "Epoch: 6340 loss = 0.023320, acc = 59.39%\n",
      "Epoch: 6350 loss = 0.023415, acc = 58.56%\n",
      "Epoch: 6360 loss = 0.021716, acc = 60.24%\n",
      "Epoch: 6370 loss = 0.021893, acc = 58.18%\n",
      "Epoch: 6380 loss = 0.021642, acc = 60.39%\n",
      "Epoch: 6390 loss = 0.020916, acc = 60.78%\n",
      "Epoch: 6400 loss = 0.021553, acc = 59.76%\n",
      "Epoch: 6410 loss = 0.021541, acc = 57.14%\n",
      "Epoch: 6420 loss = 0.022224, acc = 59.63%\n",
      "Epoch: 6430 loss = 0.026927, acc = 57.20%\n",
      "Epoch: 6440 loss = 0.036976, acc = 50.50%\n",
      "Epoch: 6450 loss = 0.021878, acc = 58.52%\n",
      "Epoch: 6460 loss = 0.021401, acc = 59.33%\n",
      "Epoch: 6470 loss = 0.020906, acc = 59.67%\n",
      "Epoch: 6480 loss = 0.020719, acc = 60.93%\n",
      "Epoch: 6490 loss = 0.021239, acc = 59.26%\n",
      "Epoch: 6500 loss = 0.021049, acc = 59.67%\n",
      "Epoch: 6510 loss = 0.021269, acc = 57.70%\n",
      "Epoch: 6520 loss = 0.020707, acc = 59.65%\n",
      "Epoch: 6530 loss = 0.020411, acc = 58.94%\n",
      "Epoch: 6540 loss = 0.021067, acc = 59.94%\n",
      "Epoch: 6550 loss = 0.021078, acc = 59.14%\n",
      "Epoch: 6560 loss = 0.021327, acc = 58.84%\n",
      "Epoch: 6570 loss = 0.021346, acc = 59.54%\n",
      "Epoch: 6580 loss = 0.021350, acc = 59.81%\n",
      "Epoch: 6590 loss = 0.021032, acc = 60.35%\n",
      "Epoch: 6600 loss = 0.021728, acc = 58.57%\n",
      "Epoch: 6610 loss = 0.020692, acc = 59.80%\n",
      "Epoch: 6620 loss = 0.020728, acc = 61.70%\n",
      "Epoch: 6630 loss = 0.021125, acc = 60.38%\n",
      "Epoch: 6640 loss = 0.020989, acc = 59.63%\n",
      "Epoch: 6650 loss = 0.021592, acc = 59.54%\n",
      "Epoch: 6660 loss = 0.022175, acc = 57.83%\n",
      "Epoch: 6670 loss = 0.021728, acc = 60.44%\n",
      "Epoch: 6680 loss = 0.020795, acc = 58.88%\n",
      "Epoch: 6690 loss = 0.020713, acc = 59.08%\n",
      "Epoch: 6700 loss = 0.021425, acc = 60.13%\n",
      "Epoch: 6710 loss = 0.020523, acc = 60.11%\n",
      "Epoch: 6720 loss = 0.020858, acc = 58.50%\n",
      "Epoch: 6730 loss = 0.021804, acc = 58.84%\n",
      "Epoch: 6740 loss = 0.022987, acc = 60.00%\n",
      "Epoch: 6750 loss = 0.021689, acc = 61.28%\n",
      "Epoch: 6760 loss = 0.021092, acc = 60.73%\n",
      "Epoch: 6770 loss = 0.020507, acc = 60.82%\n",
      "Epoch: 6780 loss = 0.021355, acc = 58.17%\n",
      "Epoch: 6790 loss = 0.021089, acc = 59.28%\n",
      "Epoch: 6800 loss = 0.021400, acc = 57.12%\n",
      "Epoch: 6810 loss = 0.021478, acc = 58.73%\n",
      "Epoch: 6820 loss = 0.021019, acc = 59.34%\n",
      "Epoch: 6830 loss = 0.021703, acc = 59.92%\n",
      "Epoch: 6840 loss = 0.021309, acc = 61.12%\n",
      "Epoch: 6850 loss = 0.020493, acc = 61.30%\n",
      "Epoch: 6860 loss = 0.025126, acc = 59.14%\n",
      "Epoch: 6870 loss = 0.032968, acc = 58.92%\n",
      "Epoch: 6880 loss = 0.022425, acc = 60.03%\n",
      "Epoch: 6890 loss = 0.021200, acc = 60.36%\n",
      "Epoch: 6900 loss = 0.021253, acc = 60.97%\n",
      "Epoch: 6910 loss = 0.020505, acc = 61.18%\n",
      "Epoch: 6920 loss = 0.020678, acc = 58.55%\n",
      "Epoch: 6930 loss = 0.020851, acc = 60.01%\n",
      "Epoch: 6940 loss = 0.020994, acc = 61.24%\n",
      "Epoch: 6950 loss = 0.020873, acc = 60.86%\n",
      "Epoch: 6960 loss = 0.021129, acc = 62.13%\n",
      "Epoch: 6970 loss = 0.020906, acc = 60.60%\n",
      "Epoch: 6980 loss = 0.020252, acc = 59.36%\n",
      "Epoch: 6990 loss = 0.021386, acc = 60.37%\n",
      "Epoch: 7000 loss = 0.021236, acc = 60.42%\n",
      "Epoch: 7010 loss = 0.020925, acc = 59.86%\n",
      "Epoch: 7020 loss = 0.021726, acc = 60.01%\n",
      "Epoch: 7030 loss = 0.024170, acc = 59.29%\n",
      "Epoch: 7040 loss = 0.023266, acc = 60.32%\n",
      "Epoch: 7050 loss = 0.020721, acc = 60.71%\n",
      "Epoch: 7060 loss = 0.020386, acc = 59.99%\n",
      "Epoch: 7070 loss = 0.020625, acc = 60.49%\n",
      "Epoch: 7080 loss = 0.020298, acc = 59.93%\n",
      "Epoch: 7090 loss = 0.020520, acc = 60.70%\n",
      "Epoch: 7100 loss = 0.021034, acc = 59.11%\n",
      "Epoch: 7110 loss = 0.020628, acc = 58.05%\n",
      "Epoch: 7120 loss = 0.021208, acc = 61.16%\n",
      "Epoch: 7130 loss = 0.021049, acc = 60.97%\n",
      "Epoch: 7140 loss = 0.021490, acc = 59.45%\n",
      "Epoch: 7150 loss = 0.020381, acc = 61.54%\n",
      "Epoch: 7160 loss = 0.020510, acc = 59.71%\n",
      "Epoch: 7170 loss = 0.021072, acc = 59.64%\n",
      "Epoch: 7180 loss = 0.020373, acc = 58.22%\n",
      "Epoch: 7190 loss = 0.021768, acc = 60.66%\n",
      "Epoch: 7200 loss = 0.021079, acc = 60.44%\n",
      "Epoch: 7210 loss = 0.022336, acc = 59.63%\n",
      "Epoch: 7220 loss = 0.025328, acc = 59.79%\n",
      "Epoch: 7230 loss = 0.021097, acc = 59.84%\n",
      "Epoch: 7240 loss = 0.020836, acc = 60.14%\n",
      "Epoch: 7250 loss = 0.019970, acc = 61.43%\n",
      "Epoch: 7260 loss = 0.020310, acc = 59.40%\n",
      "Epoch: 7270 loss = 0.020244, acc = 60.52%\n",
      "Epoch: 7280 loss = 0.020510, acc = 59.90%\n",
      "Epoch: 7290 loss = 0.020059, acc = 60.33%\n",
      "Epoch: 7300 loss = 0.020589, acc = 59.57%\n",
      "Epoch: 7310 loss = 0.020503, acc = 60.62%\n",
      "Epoch: 7320 loss = 0.021275, acc = 57.83%\n",
      "Epoch: 7330 loss = 0.021850, acc = 59.69%\n",
      "Epoch: 7340 loss = 0.020875, acc = 57.89%\n",
      "Epoch: 7350 loss = 0.020328, acc = 61.21%\n",
      "Epoch: 7360 loss = 0.020344, acc = 60.67%\n",
      "Epoch: 7370 loss = 0.020429, acc = 60.01%\n",
      "Epoch: 7380 loss = 0.021168, acc = 60.11%\n",
      "Epoch: 7390 loss = 0.021798, acc = 60.04%\n",
      "Epoch: 7400 loss = 0.022175, acc = 58.12%\n",
      "Epoch: 7410 loss = 0.021043, acc = 57.99%\n",
      "Epoch: 7420 loss = 0.020314, acc = 59.88%\n",
      "Epoch: 7430 loss = 0.020513, acc = 59.58%\n",
      "Epoch: 7440 loss = 0.020361, acc = 59.98%\n",
      "Epoch: 7450 loss = 0.022574, acc = 58.14%\n",
      "Epoch: 7460 loss = 0.024246, acc = 58.67%\n",
      "Epoch: 7470 loss = 0.020905, acc = 60.46%\n",
      "Epoch: 7480 loss = 0.020136, acc = 59.99%\n",
      "Epoch: 7490 loss = 0.020314, acc = 59.55%\n"
     ]
    },
    {
     "name": "stderr",
     "output_type": "stream",
     "text": [
      "Clipping input data to the valid range for imshow with RGB data ([0..1] for floats or [0..255] for integers).\n"
     ]
    },
    {
     "name": "stdout",
     "output_type": "stream",
     "text": [
      "Epoch: 7500 loss = 0.020500, acc = 59.24%\n",
      "Epoch: 7510 loss = 0.019735, acc = 60.42%\n",
      "Epoch: 7520 loss = 0.019930, acc = 59.67%\n",
      "Epoch: 7530 loss = 0.020059, acc = 59.78%\n",
      "Epoch: 7540 loss = 0.020445, acc = 59.99%\n",
      "Epoch: 7550 loss = 0.020178, acc = 59.96%\n",
      "Epoch: 7560 loss = 0.020648, acc = 59.58%\n",
      "Epoch: 7570 loss = 0.020342, acc = 59.07%\n",
      "Epoch: 7580 loss = 0.023229, acc = 59.12%\n",
      "Epoch: 7590 loss = 0.030663, acc = 60.45%\n",
      "Epoch: 7600 loss = 0.023004, acc = 59.95%\n",
      "Epoch: 7610 loss = 0.020144, acc = 59.52%\n",
      "Epoch: 7620 loss = 0.019792, acc = 59.50%\n",
      "Epoch: 7630 loss = 0.020120, acc = 60.53%\n",
      "Epoch: 7640 loss = 0.020567, acc = 60.06%\n",
      "Epoch: 7650 loss = 0.020169, acc = 59.93%\n",
      "Epoch: 7660 loss = 0.020622, acc = 60.40%\n",
      "Epoch: 7670 loss = 0.020067, acc = 60.29%\n",
      "Epoch: 7680 loss = 0.020029, acc = 61.56%\n",
      "Epoch: 7690 loss = 0.019872, acc = 60.15%\n",
      "Epoch: 7700 loss = 0.020695, acc = 62.61%\n",
      "Epoch: 7710 loss = 0.020046, acc = 56.35%\n",
      "Epoch: 7720 loss = 0.020127, acc = 60.29%\n",
      "Epoch: 7730 loss = 0.019793, acc = 59.73%\n",
      "Epoch: 7740 loss = 0.020134, acc = 61.55%\n",
      "Epoch: 7750 loss = 0.019778, acc = 61.07%\n",
      "Epoch: 7760 loss = 0.020354, acc = 61.31%\n",
      "Epoch: 7770 loss = 0.019909, acc = 59.83%\n",
      "Epoch: 7780 loss = 0.020121, acc = 61.70%\n",
      "Epoch: 7790 loss = 0.020080, acc = 59.16%\n",
      "Epoch: 7800 loss = 0.021096, acc = 62.06%\n",
      "Epoch: 7810 loss = 0.020764, acc = 58.61%\n",
      "Epoch: 7820 loss = 0.023053, acc = 58.38%\n",
      "Epoch: 7830 loss = 0.039264, acc = 56.15%\n",
      "Epoch: 7840 loss = 0.023220, acc = 57.17%\n",
      "Epoch: 7850 loss = 0.021084, acc = 60.15%\n",
      "Epoch: 7860 loss = 0.021118, acc = 60.41%\n",
      "Epoch: 7870 loss = 0.020067, acc = 60.59%\n",
      "Epoch: 7880 loss = 0.020094, acc = 60.37%\n",
      "Epoch: 7890 loss = 0.019479, acc = 60.72%\n",
      "Epoch: 7900 loss = 0.020375, acc = 59.86%\n",
      "Epoch: 7910 loss = 0.020330, acc = 59.98%\n",
      "Epoch: 7920 loss = 0.019969, acc = 61.31%\n",
      "Epoch: 7930 loss = 0.020613, acc = 59.92%\n",
      "Epoch: 7940 loss = 0.019867, acc = 61.27%\n",
      "Epoch: 7950 loss = 0.019885, acc = 61.56%\n",
      "Epoch: 7960 loss = 0.020089, acc = 59.75%\n",
      "Epoch: 7970 loss = 0.019691, acc = 60.08%\n",
      "Epoch: 7980 loss = 0.020111, acc = 61.68%\n",
      "Epoch: 7990 loss = 0.020679, acc = 60.85%\n"
     ]
    },
    {
     "name": "stderr",
     "output_type": "stream",
     "text": [
      "Clipping input data to the valid range for imshow with RGB data ([0..1] for floats or [0..255] for integers).\n"
     ]
    },
    {
     "name": "stdout",
     "output_type": "stream",
     "text": [
      "Epoch: 8000 loss = 0.019789, acc = 60.75%\n",
      "Epoch: 8010 loss = 0.020339, acc = 61.78%\n",
      "Epoch: 8020 loss = 0.020159, acc = 60.21%\n",
      "Epoch: 8030 loss = 0.022265, acc = 59.75%\n",
      "Epoch: 8040 loss = 0.020950, acc = 58.08%\n",
      "Epoch: 8050 loss = 0.020528, acc = 60.83%\n",
      "Epoch: 8060 loss = 0.019761, acc = 60.69%\n",
      "Epoch: 8070 loss = 0.020126, acc = 59.67%\n",
      "Epoch: 8080 loss = 0.020338, acc = 61.12%\n",
      "Epoch: 8090 loss = 0.020548, acc = 60.14%\n",
      "Epoch: 8100 loss = 0.020995, acc = 59.95%\n",
      "Epoch: 8110 loss = 0.021035, acc = 59.92%\n",
      "Epoch: 8120 loss = 0.020419, acc = 60.12%\n",
      "Epoch: 8130 loss = 0.020273, acc = 60.78%\n",
      "Epoch: 8140 loss = 0.020475, acc = 59.59%\n",
      "Epoch: 8150 loss = 0.020458, acc = 60.30%\n",
      "Epoch: 8160 loss = 0.019536, acc = 61.31%\n",
      "Epoch: 8170 loss = 0.020620, acc = 60.72%\n",
      "Epoch: 8180 loss = 0.021515, acc = 60.51%\n",
      "Epoch: 8190 loss = 0.025236, acc = 57.48%\n",
      "Epoch: 8200 loss = 0.023100, acc = 59.35%\n",
      "Epoch: 8210 loss = 0.021051, acc = 59.99%\n",
      "Epoch: 8220 loss = 0.019603, acc = 59.82%\n",
      "Epoch: 8230 loss = 0.019509, acc = 61.16%\n",
      "Epoch: 8240 loss = 0.020260, acc = 61.61%\n",
      "Epoch: 8250 loss = 0.019750, acc = 60.50%\n",
      "Epoch: 8260 loss = 0.020022, acc = 60.55%\n",
      "Epoch: 8270 loss = 0.020539, acc = 61.10%\n",
      "Epoch: 8280 loss = 0.020113, acc = 59.62%\n",
      "Epoch: 8290 loss = 0.020792, acc = 62.66%\n",
      "Epoch: 8300 loss = 0.020404, acc = 61.79%\n",
      "Epoch: 8310 loss = 0.020239, acc = 60.47%\n",
      "Epoch: 8320 loss = 0.019795, acc = 61.60%\n",
      "Epoch: 8330 loss = 0.020603, acc = 61.58%\n",
      "Epoch: 8340 loss = 0.019994, acc = 61.77%\n",
      "Epoch: 8350 loss = 0.020115, acc = 59.40%\n",
      "Epoch: 8360 loss = 0.021263, acc = 57.76%\n",
      "Epoch: 8370 loss = 0.020202, acc = 62.03%\n",
      "Epoch: 8380 loss = 0.019769, acc = 61.94%\n",
      "Epoch: 8390 loss = 0.019706, acc = 60.89%\n",
      "Epoch: 8400 loss = 0.020361, acc = 60.09%\n",
      "Epoch: 8410 loss = 0.020128, acc = 61.74%\n",
      "Epoch: 8420 loss = 0.021858, acc = 62.28%\n",
      "Epoch: 8430 loss = 0.025370, acc = 60.27%\n",
      "Epoch: 8440 loss = 0.021660, acc = 60.49%\n",
      "Epoch: 8450 loss = 0.019622, acc = 60.25%\n",
      "Epoch: 8460 loss = 0.020482, acc = 60.86%\n",
      "Epoch: 8470 loss = 0.020067, acc = 60.01%\n",
      "Epoch: 8480 loss = 0.019509, acc = 61.47%\n",
      "Epoch: 8490 loss = 0.019776, acc = 59.83%\n",
      "Epoch: 8500 loss = 0.020500, acc = 59.92%\n"
     ]
    },
    {
     "name": "stderr",
     "output_type": "stream",
     "text": [
      "Clipping input data to the valid range for imshow with RGB data ([0..1] for floats or [0..255] for integers).\n"
     ]
    },
    {
     "name": "stdout",
     "output_type": "stream",
     "text": [
      "Epoch: 8510 loss = 0.020163, acc = 60.88%\n",
      "Epoch: 8520 loss = 0.021049, acc = 62.35%\n",
      "Epoch: 8530 loss = 0.020052, acc = 60.78%\n",
      "Epoch: 8540 loss = 0.020079, acc = 61.03%\n",
      "Epoch: 8550 loss = 0.019518, acc = 61.26%\n",
      "Epoch: 8560 loss = 0.019833, acc = 60.80%\n",
      "Epoch: 8570 loss = 0.021326, acc = 60.08%\n",
      "Epoch: 8580 loss = 0.020652, acc = 61.94%\n",
      "Epoch: 8590 loss = 0.020236, acc = 59.90%\n",
      "Epoch: 8600 loss = 0.020383, acc = 60.36%\n",
      "Epoch: 8610 loss = 0.019645, acc = 61.79%\n",
      "Epoch: 8620 loss = 0.019589, acc = 59.77%\n",
      "Epoch: 8630 loss = 0.020139, acc = 61.17%\n",
      "Epoch: 8640 loss = 0.023787, acc = 59.41%\n",
      "Epoch: 8650 loss = 0.034540, acc = 58.33%\n",
      "Epoch: 8660 loss = 0.023170, acc = 60.39%\n",
      "Epoch: 8670 loss = 0.020201, acc = 61.55%\n",
      "Epoch: 8680 loss = 0.019770, acc = 61.26%\n",
      "Epoch: 8690 loss = 0.019589, acc = 60.77%\n",
      "Epoch: 8700 loss = 0.019246, acc = 60.12%\n",
      "Epoch: 8710 loss = 0.020317, acc = 60.82%\n",
      "Epoch: 8720 loss = 0.019886, acc = 61.50%\n",
      "Epoch: 8730 loss = 0.019773, acc = 60.28%\n",
      "Epoch: 8740 loss = 0.019408, acc = 61.20%\n",
      "Epoch: 8750 loss = 0.019876, acc = 61.94%\n",
      "Epoch: 8760 loss = 0.019913, acc = 61.13%\n",
      "Epoch: 8770 loss = 0.020070, acc = 63.00%\n",
      "Epoch: 8780 loss = 0.019847, acc = 60.85%\n",
      "Epoch: 8790 loss = 0.020204, acc = 62.10%\n",
      "Epoch: 8800 loss = 0.019339, acc = 61.94%\n",
      "Epoch: 8810 loss = 0.019353, acc = 60.89%\n",
      "Epoch: 8820 loss = 0.020020, acc = 58.58%\n",
      "Epoch: 8830 loss = 0.019988, acc = 60.01%\n",
      "Epoch: 8840 loss = 0.021728, acc = 60.40%\n",
      "Epoch: 8850 loss = 0.021928, acc = 60.11%\n",
      "Epoch: 8860 loss = 0.020210, acc = 59.58%\n",
      "Epoch: 8870 loss = 0.019483, acc = 59.17%\n",
      "Epoch: 8880 loss = 0.019300, acc = 59.68%\n",
      "Epoch: 8890 loss = 0.020209, acc = 60.88%\n",
      "Epoch: 8900 loss = 0.019535, acc = 61.67%\n",
      "Epoch: 8910 loss = 0.020153, acc = 59.39%\n",
      "Epoch: 8920 loss = 0.020062, acc = 60.53%\n",
      "Epoch: 8930 loss = 0.020606, acc = 61.54%\n",
      "Epoch: 8940 loss = 0.027193, acc = 57.33%\n",
      "Epoch: 8950 loss = 0.042522, acc = 48.00%\n",
      "Epoch: 8960 loss = 0.023157, acc = 59.66%\n",
      "Epoch: 8970 loss = 0.020785, acc = 60.41%\n",
      "Epoch: 8980 loss = 0.019925, acc = 59.02%\n",
      "Epoch: 8990 loss = 0.020918, acc = 61.17%\n",
      "Epoch: 9000 loss = 0.020050, acc = 61.23%\n",
      "Epoch: 9010 loss = 0.019528, acc = 60.40%\n",
      "Epoch: 9020 loss = 0.019572, acc = 61.31%\n",
      "Epoch: 9030 loss = 0.019702, acc = 60.78%\n",
      "Epoch: 9040 loss = 0.019315, acc = 61.37%\n",
      "Epoch: 9050 loss = 0.019491, acc = 61.80%\n",
      "Epoch: 9060 loss = 0.019718, acc = 59.44%\n",
      "Epoch: 9070 loss = 0.020229, acc = 60.02%\n",
      "Epoch: 9080 loss = 0.019405, acc = 60.77%\n",
      "Epoch: 9090 loss = 0.019238, acc = 59.79%\n",
      "Epoch: 9100 loss = 0.019363, acc = 60.97%\n",
      "Epoch: 9110 loss = 0.020388, acc = 61.36%\n",
      "Epoch: 9120 loss = 0.019755, acc = 60.35%\n",
      "Epoch: 9130 loss = 0.018964, acc = 60.81%\n",
      "Epoch: 9140 loss = 0.019698, acc = 62.14%\n",
      "Epoch: 9150 loss = 0.020094, acc = 61.74%\n",
      "Epoch: 9160 loss = 0.020152, acc = 61.06%\n",
      "Epoch: 9170 loss = 0.020098, acc = 60.82%\n",
      "Epoch: 9180 loss = 0.020707, acc = 59.90%\n",
      "Epoch: 9190 loss = 0.019965, acc = 60.59%\n",
      "Epoch: 9200 loss = 0.020141, acc = 60.39%\n",
      "Epoch: 9210 loss = 0.020000, acc = 61.38%\n",
      "Epoch: 9220 loss = 0.020842, acc = 60.60%\n",
      "Epoch: 9230 loss = 0.019795, acc = 62.02%\n",
      "Epoch: 9240 loss = 0.020652, acc = 61.93%\n",
      "Epoch: 9250 loss = 0.019850, acc = 60.69%\n",
      "Epoch: 9260 loss = 0.019176, acc = 62.13%\n",
      "Epoch: 9270 loss = 0.019414, acc = 61.39%\n",
      "Epoch: 9280 loss = 0.019866, acc = 60.54%\n",
      "Epoch: 9290 loss = 0.020352, acc = 61.64%\n",
      "Epoch: 9300 loss = 0.019983, acc = 60.26%\n",
      "Epoch: 9310 loss = 0.019540, acc = 62.13%\n",
      "Epoch: 9320 loss = 0.020267, acc = 60.21%\n",
      "Epoch: 9330 loss = 0.020202, acc = 62.42%\n",
      "Epoch: 9340 loss = 0.020848, acc = 61.69%\n",
      "Epoch: 9350 loss = 0.019843, acc = 59.68%\n",
      "Epoch: 9360 loss = 0.019653, acc = 62.20%\n",
      "Epoch: 9370 loss = 0.019963, acc = 61.68%\n",
      "Epoch: 9380 loss = 0.019557, acc = 59.70%\n",
      "Epoch: 9390 loss = 0.019813, acc = 61.24%\n",
      "Epoch: 9400 loss = 0.025469, acc = 56.57%\n",
      "Epoch: 9410 loss = 0.023931, acc = 59.28%\n",
      "Epoch: 9420 loss = 0.019825, acc = 61.63%\n",
      "Epoch: 9430 loss = 0.019015, acc = 61.08%\n",
      "Epoch: 9440 loss = 0.019310, acc = 61.75%\n",
      "Epoch: 9450 loss = 0.019426, acc = 61.78%\n",
      "Epoch: 9460 loss = 0.019510, acc = 61.87%\n",
      "Epoch: 9470 loss = 0.019471, acc = 62.03%\n",
      "Epoch: 9480 loss = 0.019771, acc = 62.81%\n",
      "Epoch: 9490 loss = 0.019175, acc = 60.74%\n",
      "Epoch: 9500 loss = 0.019931, acc = 61.89%\n",
      "Epoch: 9510 loss = 0.019870, acc = 60.49%\n",
      "Epoch: 9520 loss = 0.018742, acc = 61.64%\n",
      "Epoch: 9530 loss = 0.020179, acc = 60.66%\n",
      "Epoch: 9540 loss = 0.021009, acc = 60.99%\n",
      "Epoch: 9550 loss = 0.021065, acc = 60.29%\n",
      "Epoch: 9560 loss = 0.019420, acc = 61.57%\n",
      "Epoch: 9570 loss = 0.019566, acc = 61.73%\n",
      "Epoch: 9580 loss = 0.019887, acc = 63.02%\n",
      "Epoch: 9590 loss = 0.019462, acc = 61.12%\n",
      "Epoch: 9600 loss = 0.021116, acc = 61.61%\n",
      "Epoch: 9610 loss = 0.021654, acc = 59.83%\n",
      "Epoch: 9620 loss = 0.019361, acc = 60.88%\n",
      "Epoch: 9630 loss = 0.019574, acc = 61.65%\n",
      "Epoch: 9640 loss = 0.019167, acc = 61.21%\n",
      "Epoch: 9650 loss = 0.019176, acc = 62.81%\n",
      "Epoch: 9660 loss = 0.020056, acc = 60.48%\n",
      "Epoch: 9670 loss = 0.019379, acc = 62.85%\n",
      "Epoch: 9680 loss = 0.020155, acc = 62.12%\n",
      "Epoch: 9690 loss = 0.019667, acc = 62.73%\n",
      "Epoch: 9700 loss = 0.019680, acc = 59.64%\n",
      "Epoch: 9710 loss = 0.019959, acc = 60.31%\n",
      "Epoch: 9720 loss = 0.020435, acc = 60.40%\n",
      "Epoch: 9730 loss = 0.020471, acc = 61.35%\n",
      "Epoch: 9740 loss = 0.019068, acc = 61.38%\n",
      "Epoch: 9750 loss = 0.019322, acc = 62.48%\n",
      "Epoch: 9760 loss = 0.019444, acc = 57.39%\n",
      "Epoch: 9770 loss = 0.019712, acc = 61.24%\n",
      "Epoch: 9780 loss = 0.020225, acc = 62.06%\n",
      "Epoch: 9790 loss = 0.019289, acc = 61.77%\n",
      "Epoch: 9800 loss = 0.019961, acc = 62.09%\n",
      "Epoch: 9810 loss = 0.019672, acc = 61.02%\n",
      "Epoch: 9820 loss = 0.019834, acc = 60.22%\n",
      "Epoch: 9830 loss = 0.025675, acc = 61.69%\n",
      "Epoch: 9840 loss = 0.069069, acc = 52.36%\n",
      "Epoch: 9850 loss = 0.033928, acc = 44.84%\n",
      "Epoch: 9860 loss = 0.027460, acc = 48.95%\n",
      "Epoch: 9870 loss = 0.024709, acc = 49.96%\n",
      "Epoch: 9880 loss = 0.025237, acc = 53.62%\n",
      "Epoch: 9890 loss = 0.022241, acc = 56.55%\n",
      "Epoch: 9900 loss = 0.021720, acc = 58.44%\n",
      "Epoch: 9910 loss = 0.022049, acc = 57.74%\n",
      "Epoch: 9920 loss = 0.021130, acc = 58.76%\n",
      "Epoch: 9930 loss = 0.021116, acc = 58.27%\n",
      "Epoch: 9940 loss = 0.020616, acc = 59.68%\n",
      "Epoch: 9950 loss = 0.020453, acc = 60.51%\n",
      "Epoch: 9960 loss = 0.020873, acc = 60.64%\n",
      "Epoch: 9970 loss = 0.021709, acc = 58.47%\n",
      "Epoch: 9980 loss = 0.020547, acc = 59.93%\n",
      "Epoch: 9990 loss = 0.020358, acc = 61.16%\n"
     ]
    },
    {
     "name": "stderr",
     "output_type": "stream",
     "text": [
      "Clipping input data to the valid range for imshow with RGB data ([0..1] for floats or [0..255] for integers).\n"
     ]
    },
    {
     "name": "stdout",
     "output_type": "stream",
     "text": [
      "Epoch: 10000 loss = 0.020362, acc = 61.93%\n"
     ]
    }
   ],
   "source": [
    "# https://github.com/mrquincle/keras-adversarial-autoencoders/blob/master/Keras%20Adversarial%20Autoencoder%20MNIST.ipynb\n",
    "epochs=10000\n",
    "batch_size=1000\n",
    "sample_interval=500\n",
    "\n",
    "for epoch in range(epochs+1):\n",
    "    # lote de imagenes\n",
    "    idx = np.random.randint(0, X_train.shape[0], batch_size)\n",
    "    imgs = X_train[idx]\n",
    "\n",
    "    # entrenamos al autoencoder\n",
    "    loss = autoencoder.train_on_batch(imgs,imgs)\n",
    "    \n",
    "    # monitorizamos el progreso\n",
    "    if epoch % 10==0:\n",
    "        print(\"Epoch: %d loss = %f, acc = %.2f%%\" % (epoch, loss[0], 100*loss[1]))\n",
    "    # Hacemos una muestra visual\n",
    "    if epoch % sample_interval==0:\n",
    "        sample_imgs(sample_from, autoencoder, epoch)\n"
   ]
  },
  {
   "cell_type": "code",
   "execution_count": 28,
   "metadata": {},
   "outputs": [
    {
     "data": {
      "image/png": "[encoded data removed]",
      "text/plain": [
       "<Figure size 432x288 with 8 Axes>"
      ]
     },
     "metadata": {
      "needs_background": "light"
     },
     "output_type": "display_data"
    }
   ],
   "source": [
    "sample_imgs(sample_from, autoencoder, 0, 4, False)\n"
   ]
  },
  {
   "cell_type": "code",
   "execution_count": 31,
   "metadata": {},
   "outputs": [
    {
     "data": {
      "image/png": "[encoded data removed]",
      "text/plain": [
       "<Figure size 432x288 with 8 Axes>"
      ]
     },
     "metadata": {
      "needs_background": "light"
     },
     "output_type": "display_data"
    }
   ],
   "source": [
    "sample_imgs(X_train, autoencoder, 0, 4, False)"
   ]
  }
 ],
 "metadata": {
  "interpreter": {
   "hash": "20fa4f0f3884cdb253ada201871cf8c3f8a990e4bbc1c7fce1b9b4c9c33df28e"
  },
  "kernelspec": {
   "display_name": "Python 3.8.2 64-bit",
   "language": "python",
   "name": "python3"
  },
  "language_info": {
   "codemirror_mode": {
    "name": "ipython",
    "version": 3
   },
   "file_extension": ".py",
   "mimetype": "text/x-python",
   "name": "python",
   "nbconvert_exporter": "python",
   "pygments_lexer": "ipython3",
   "version": "3.8.2"
  },
  "orig_nbformat": 4
 },
 "nbformat": 4,
 "nbformat_minor": 2
}
