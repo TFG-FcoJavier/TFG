{
 "cells": [
  {
   "cell_type": "markdown",
   "metadata": {},
   "source": [
    "# AutoEncoder Adversario"
   ]
  },
  {
   "cell_type": "markdown",
   "metadata": {},
   "source": [
    "## Preparacion del entorno"
   ]
  },
  {
   "cell_type": "markdown",
   "metadata": {},
   "source": [
    "Librerias"
   ]
  },
  {
   "cell_type": "code",
   "execution_count": 1,
   "metadata": {},
   "outputs": [
    {
     "name": "stdout",
     "output_type": "stream",
     "text": [
      "Num GPUs Available:  1\n"
     ]
    }
   ],
   "source": [
    "import tensorflow as tf\n",
    "from tensorflow import keras\n",
    "\n",
    "print(\"Num GPUs Available: \", len(tf.config.list_physical_devices('GPU')))\n",
    "from keras import Sequential\n",
    "from keras.applications import mobilenet\n",
    "from keras.layers import Input, Dense, LeakyReLU, GlobalAveragePooling2D, Reshape\n",
    "import numpy as np\n",
    "import matplotlib.pyplot as plt"
   ]
  },
  {
   "cell_type": "markdown",
   "metadata": {},
   "source": [
    "Funcion para extraer los datos de los ficheros"
   ]
  },
  {
   "cell_type": "code",
   "execution_count": 2,
   "metadata": {},
   "outputs": [],
   "source": [
    "# https://www.cs.toronto.edu/~kriz/cifar.html\n",
    "def unpickle(file):\n",
    "    import pickle\n",
    "    with open(file, 'rb') as fo:\n",
    "        dict = pickle.load(fo, encoding='latin')\n",
    "    return dict"
   ]
  },
  {
   "cell_type": "markdown",
   "metadata": {},
   "source": [
    "Extraemos los datos del fichero."
   ]
  },
  {
   "cell_type": "code",
   "execution_count": 3,
   "metadata": {},
   "outputs": [],
   "source": [
    "batch1 = unpickle(\"Input\\cifar-10-batches-py\\data_batch_1\")\n",
    "batch2 = unpickle(\"Input\\cifar-10-batches-py\\data_batch_2\")\n",
    "batch3 = unpickle(\"Input\\cifar-10-batches-py\\data_batch_3\")\n",
    "batch4 = unpickle(\"Input\\cifar-10-batches-py\\data_batch_4\")\n",
    "batch5 = unpickle(\"Input\\cifar-10-batches-py\\data_batch_5\")"
   ]
  },
  {
   "cell_type": "markdown",
   "metadata": {},
   "source": [
    "En cifar10 los datos estan almacenados en un diccionario que contiene el nombre del lote, las etiquetas para clasificacion, los datos (imagenes) y los nombres de fichero correspondientes."
   ]
  },
  {
   "cell_type": "code",
   "execution_count": 4,
   "metadata": {},
   "outputs": [
    {
     "name": "stdout",
     "output_type": "stream",
     "text": [
      "dict_keys(['batch_label', 'labels', 'data', 'filenames'])\n",
      "batch_label <class 'str'>\n",
      "labels <class 'list'>\n",
      "data <class 'numpy.ndarray'>\n",
      "filenames <class 'list'>\n"
     ]
    }
   ],
   "source": [
    "print(batch1.keys())\n",
    "for i in batch1:\n",
    "    print(i, type(batch1[i]))"
   ]
  },
  {
   "cell_type": "markdown",
   "metadata": {},
   "source": [
    "Las imagenes vienen en el modo ``channelsfirst``, en este modo, tenemos 3 matrices de la dimension de la imagen, una para cada canal. Muchas de las funciones admiten por defecto el modo ``chanelslast`` en el que tenemos una matriz de la dimension de la imagen y cada posicion tiene un vector con los codigos de color de cada punto.\n",
    "\n",
    "Por simplicidad, como paso de preprocesamiento, voy a transformar las imagenes de ``channelsfirst`` a ``channelslast``."
   ]
  },
  {
   "cell_type": "code",
   "execution_count": 5,
   "metadata": {},
   "outputs": [
    {
     "name": "stdout",
     "output_type": "stream",
     "text": [
      "(32, 32, 3)\n"
     ]
    }
   ],
   "source": [
    "# https://www.binarystudy.com/2021/09/how-to-load-preprocess-visualize-CIFAR-10-and-CIFAR-100.html\n",
    "imagen = batch1[\"data\"][0]\n",
    "imagen = imagen.reshape(3,32,32)\n",
    "imagen=imagen.transpose(1,2,0)\n",
    "print(imagen.shape)"
   ]
  },
  {
   "cell_type": "code",
   "execution_count": 6,
   "metadata": {},
   "outputs": [
    {
     "data": {
      "text/plain": [
       "<matplotlib.image.AxesImage at 0x2118010a9a0>"
      ]
     },
     "execution_count": 6,
     "metadata": {},
     "output_type": "execute_result"
    },
    {
     "data": {
      "image/png": "[encoded data removed]",
      "text/plain": [
       "<Figure size 432x288 with 1 Axes>"
      ]
     },
     "metadata": {
      "needs_background": "light"
     },
     "output_type": "display_data"
    }
   ],
   "source": [
    "plt.imshow(imagen)"
   ]
  },
  {
   "cell_type": "markdown",
   "metadata": {},
   "source": [
    "## Preparacion de los datos"
   ]
  },
  {
   "cell_type": "code",
   "execution_count": 7,
   "metadata": {},
   "outputs": [
    {
     "name": "stdout",
     "output_type": "stream",
     "text": [
      "(10000, 3072)\n"
     ]
    }
   ],
   "source": [
    "print(batch1[\"data\"].shape)\n",
    "X_train = batch1[\"data\"].reshape(10000, 3, 32, 32)\n",
    "X_train = np.concatenate((X_train, batch2[\"data\"].reshape(10000, 3, 32, 32)))\n",
    "X_train = np.concatenate((X_train, batch3[\"data\"].reshape(10000, 3, 32, 32)))\n",
    "X_train = np.concatenate((X_train, batch4[\"data\"].reshape(10000, 3, 32, 32)))\n",
    "X_train = np.concatenate((X_train, batch5[\"data\"].reshape(10000, 3, 32, 32)))\n",
    "X_train = X_train.transpose(0,2,3,1)\n",
    "X_train=X_train/255"
   ]
  },
  {
   "cell_type": "code",
   "execution_count": 8,
   "metadata": {},
   "outputs": [
    {
     "name": "stdout",
     "output_type": "stream",
     "text": [
      "(50000, 32, 32, 3)\n"
     ]
    },
    {
     "data": {
      "text/plain": [
       "<matplotlib.image.AxesImage at 0x211801f9ee0>"
      ]
     },
     "execution_count": 8,
     "metadata": {},
     "output_type": "execute_result"
    },
    {
     "data": {
      "text/plain": [
       "<Figure size 432x288 with 0 Axes>"
      ]
     },
     "metadata": {},
     "output_type": "display_data"
    },
    {
     "data": {
      "image/png": "[encoded data removed]",
      "text/plain": [
       "<Figure size 432x288 with 2 Axes>"
      ]
     },
     "metadata": {
      "needs_background": "light"
     },
     "output_type": "display_data"
    }
   ],
   "source": [
    "print(X_train.shape)\n",
    "plt.figure()\n",
    "f, arrx = plt.subplots(1,2)\n",
    "arrx[0].imshow(X_train[np.random.randint(0,X_train.shape[0])])\n",
    "arrx[1].imshow(X_train[np.random.randint(0,X_train.shape[0])])"
   ]
  },
  {
   "cell_type": "markdown",
   "metadata": {},
   "source": [
    "## Arquitectura del ``Autoencoder``"
   ]
  },
  {
   "cell_type": "markdown",
   "metadata": {},
   "source": [
    "### Encoder"
   ]
  },
  {
   "cell_type": "markdown",
   "metadata": {},
   "source": [
    "El ``encoder`` va a ser un modelo basado en ``transfer learning``, vamos a tomar la red de ``mobilenet``, entranada para imagenes de ``imagenet`` sin las capa de clasificacion final, con una entrada de tamaño _img\\_shape_ y en el output colocamos la 'representacion latente' una codificacion de la imagen que nos permitiría reconstruirla con un ``decoder``."
   ]
  },
  {
   "cell_type": "code",
   "execution_count": 9,
   "metadata": {},
   "outputs": [],
   "source": [
    "# https://www.tensorflow.org/api_docs/python/tf/keras/applications/mobilenet/preprocess_input\n",
    "# https://keras.io/guides/transfer_learning/\n",
    "def build_encoder(dim_latente, img_shape):\n",
    "    inputs = Input(shape=img_shape)\n",
    "    x=tf.cast(inputs, tf.float32)\n",
    "    #x=keras.applications.mobilenet.preprocess_input(x)  #dataformat por defecto es chanel last\n",
    "    core = mobilenet.MobileNet(input_shape=(img_shape), weights=\"imagenet\", include_top=False)\n",
    "    core.trainable = False\n",
    "    model = core(x, training=False)\n",
    "    model = GlobalAveragePooling2D()(model)\n",
    "    repr_latente = keras.layers.Dense(dim_latente)(model)\n",
    "    return keras.Model(inputs, repr_latente)\n"
   ]
  },
  {
   "cell_type": "markdown",
   "metadata": {},
   "source": [
    "### Decoder"
   ]
  },
  {
   "cell_type": "markdown",
   "metadata": {},
   "source": [
    "El ``decoder`` toma la codificacion latente y decodifica en una imagen. En este caso es una configuracion incremental de capas densas, terminando en una del tamaño de la imagen."
   ]
  },
  {
   "cell_type": "code",
   "execution_count": 10,
   "metadata": {},
   "outputs": [],
   "source": [
    "def build_myDecoder(dim_latente, img_shape):\n",
    "    model = keras.Sequential()\n",
    "    model.add(Dense(256, input_dim=dim_latente))\n",
    "    model.add(LeakyReLU(alpha=0.2))\n",
    "    model.add(Dense(512))\n",
    "    model.add(LeakyReLU(alpha=0.2))\n",
    "    model.add(Dense(768))\n",
    "    model.add(LeakyReLU(alpha=0.2))\n",
    "    model.add(Dense(np.prod(img_shape), activation=keras.activations.tanh))\n",
    "    model.add(Reshape(img_shape))\n",
    "    z = Input(shape=(dim_latente))\n",
    "    img =  model(z)\n",
    "    return keras.Model(z,img)"
   ]
  },
  {
   "cell_type": "markdown",
   "metadata": {},
   "source": [
    "### Discriminator"
   ]
  },
  {
   "cell_type": "markdown",
   "metadata": {},
   "source": [
    "El discriminador va a tener como entrada la codificacion latente de las imagenes y como salida una neurona que discrimina entre imagenes \"reales\" y \"falsas\". De esta forma entrenamos al encoder para que codifique con la distribucion que usemos para generar las \"imagenes reales\", en este caso, una distribución normal."
   ]
  },
  {
   "cell_type": "code",
   "execution_count": 11,
   "metadata": {},
   "outputs": [],
   "source": [
    "def build_discriminator(dim_latente):\n",
    "    model = Sequential()\n",
    "    model.add(Dense(256, input_dim=dim_latente))\n",
    "    model.add(LeakyReLU(alpha=0.2))\n",
    "    model.add(Dense(512))\n",
    "    model.add(LeakyReLU(alpha=0.2))\n",
    "    model.add(Dense(1, activation=\"sigmoid\"))\n",
    "    encoded = Input(shape=dim_latente)\n",
    "    valid = model(encoded)\n",
    "    return keras.Model(encoded, valid)"
   ]
  },
  {
   "cell_type": "markdown",
   "metadata": {},
   "source": [
    "### Red completa"
   ]
  },
  {
   "cell_type": "markdown",
   "metadata": {},
   "source": [
    "Parametros"
   ]
  },
  {
   "cell_type": "code",
   "execution_count": 12,
   "metadata": {},
   "outputs": [],
   "source": [
    "img_shape = X_train[0].shape\n",
    "dim_latente = 20\n",
    "optimizer = keras.optimizers.Adam(0.0002, 0.5)"
   ]
  },
  {
   "cell_type": "markdown",
   "metadata": {},
   "source": [
    "Discriminador"
   ]
  },
  {
   "cell_type": "code",
   "execution_count": 13,
   "metadata": {},
   "outputs": [],
   "source": [
    "discriminator = build_discriminator(dim_latente)\n",
    "discriminator.compile(loss='binary_crossentropy', optimizer=optimizer, metrics=['accuracy'])"
   ]
  },
  {
   "cell_type": "markdown",
   "metadata": {},
   "source": [
    "Encoder y decoder"
   ]
  },
  {
   "cell_type": "code",
   "execution_count": 14,
   "metadata": {},
   "outputs": [
    {
     "name": "stdout",
     "output_type": "stream",
     "text": [
      "WARNING:tensorflow:`input_shape` is undefined or non-square, or `rows` is not in [128, 160, 192, 224]. Weights for input shape (224, 224) will be loaded as the default.\n"
     ]
    }
   ],
   "source": [
    "encoder = build_encoder(dim_latente, img_shape)\n",
    "decoder = build_myDecoder(dim_latente, img_shape)"
   ]
  },
  {
   "cell_type": "markdown",
   "metadata": {},
   "source": [
    "Autoencoder"
   ]
  },
  {
   "cell_type": "code",
   "execution_count": 15,
   "metadata": {},
   "outputs": [],
   "source": [
    "# el encoder toma un imagen y la codifica y el decoder toma la codificacion e intenta regenerar la imagen\n",
    "img = Input(shape=img_shape)\n",
    "encoded = encoder(img)\n",
    "reconstructed = decoder(encoded)\n",
    "\n",
    "# para el autoencoder adversario solo queremos entrenar el generador, no el discriminador\n",
    "discriminator.trainable=False\n",
    "\n",
    "# El discriminador evalua la validez de la codificacion\n",
    "validez = discriminator(encoded)\n",
    "\n",
    "# Autoencoder adversario \n",
    "a_autoencoder = keras.Model(img, [reconstructed, validez])\n",
    "a_autoencoder.compile(loss=[\"mse\", \"binary_crossentropy\"], loss_weights=[0.999, 0.001], optimizer=optimizer)"
   ]
  },
  {
   "cell_type": "markdown",
   "metadata": {},
   "source": [
    "## Entrenamiento"
   ]
  },
  {
   "cell_type": "markdown",
   "metadata": {},
   "source": [
    "### Funciones de muestreo"
   ]
  },
  {
   "cell_type": "code",
   "execution_count": 16,
   "metadata": {},
   "outputs": [],
   "source": [
    "def sample_imgs(dataset, model, epoch, sample_size=5, save_imgs=True):\n",
    "    # Tomamos sample_size imagenes de muestra\n",
    "    ids = np.random.randint(0,dataset.shape[0], sample_size)\n",
    "    sample=dataset[ids]\n",
    "    # Intentamos regenerar las imagenes\n",
    "    gen_img = model.predict(sample)[0]\n",
    "    # Guardamos una grafica con la muestra (arriba) y las imagenes generadas (abajo)\n",
    "    f, axxs = plt.subplots(2,sample_size)\n",
    "    for j in range(sample_size):\n",
    "        axxs[0,j].imshow(sample[j])\n",
    "        axxs[1,j].imshow(gen_img[j])\n",
    "    if save_imgs:\n",
    "        f.savefig(\"AdversarialAutoEncoder/output/generationCIFAR10_e%d.png\" % (epoch))\n",
    "        plt.close()\n",
    "    "
   ]
  },
  {
   "cell_type": "code",
   "execution_count": 17,
   "metadata": {},
   "outputs": [],
   "source": [
    "def true_sampler(dim_latente, batch_size):\n",
    "    return np.random.normal(size=(batch_size, dim_latente))"
   ]
  },
  {
   "cell_type": "code",
   "execution_count": 18,
   "metadata": {},
   "outputs": [],
   "source": [
    "def generate_samples(dim_latente, decoder, epoch):\n",
    "    sample_shape = (5,5)\n",
    "    latent_samples = true_sampler(dim_latente, np.prod(sample_shape))\n",
    "    samples=decoder.predict(latent_samples)\n",
    "    fig, axxs = plt.subplots(sample_shape[0], sample_shape[1])\n",
    "    s=0\n",
    "    for i in range(sample_shape[0]):\n",
    "        for j in range(sample_shape[1]):\n",
    "            axxs[i,j].imshow(samples[s])\n",
    "            axxs[i,j].axis(\"off\")\n",
    "            s+=1\n",
    "    fig.savefig(\"AdversarialAutoEncoder\\output\\AAEprogresscifar10_e%d.png\" % (epoch))\n",
    "    plt.close()\n",
    "\n",
    "    "
   ]
  },
  {
   "cell_type": "code",
   "execution_count": 19,
   "metadata": {},
   "outputs": [
    {
     "data": {
      "text/plain": [
       "(10000, 3072)"
      ]
     },
     "execution_count": 19,
     "metadata": {},
     "output_type": "execute_result"
    }
   ],
   "source": [
    "sample_from = unpickle(\"Input\\cifar-10-batches-py\\\\test_batch\")\n",
    "sample_from = sample_from[\"data\"]\n",
    "sample_from.shape"
   ]
  },
  {
   "cell_type": "code",
   "execution_count": 20,
   "metadata": {},
   "outputs": [],
   "source": [
    "sample_from = sample_from.reshape(10000,3,32,32)\n",
    "sample_from = sample_from.transpose(0,2,3,1)\n",
    "sample_from = sample_from/255\n"
   ]
  },
  {
   "cell_type": "code",
   "execution_count": 21,
   "metadata": {},
   "outputs": [
    {
     "data": {
      "text/plain": [
       "<matplotlib.image.AxesImage at 0x211922550d0>"
      ]
     },
     "execution_count": 21,
     "metadata": {},
     "output_type": "execute_result"
    },
    {
     "data": {
      "image/png": "[encoded data removed]",
      "text/plain": [
       "<Figure size 432x288 with 1 Axes>"
      ]
     },
     "metadata": {
      "needs_background": "light"
     },
     "output_type": "display_data"
    }
   ],
   "source": [
    "plt.imshow(sample_from[np.random.randint(0,sample_from.shape[0])])"
   ]
  },
  {
   "cell_type": "markdown",
   "metadata": {},
   "source": [
    "### Ciclo de entrenamiento"
   ]
  },
  {
   "cell_type": "code",
   "execution_count": 22,
   "metadata": {},
   "outputs": [
    {
     "name": "stdout",
     "output_type": "stream",
     "text": [
      "Epoch: 0 Disc: (loss = 0.689157, acc = 38.00%) AAE: (mse = 0.285956, b_ce = 0.285558)\n"
     ]
    },
    {
     "name": "stderr",
     "output_type": "stream",
     "text": [
      "Clipping input data to the valid range for imshow with RGB data ([0..1] for floats or [0..255] for integers).\n",
      "Clipping input data to the valid range for imshow with RGB data ([0..1] for floats or [0..255] for integers).\n",
      "Clipping input data to the valid range for imshow with RGB data ([0..1] for floats or [0..255] for integers).\n",
      "Clipping input data to the valid range for imshow with RGB data ([0..1] for floats or [0..255] for integers).\n",
      "Clipping input data to the valid range for imshow with RGB data ([0..1] for floats or [0..255] for integers).\n",
      "Clipping input data to the valid range for imshow with RGB data ([0..1] for floats or [0..255] for integers).\n",
      "Clipping input data to the valid range for imshow with RGB data ([0..1] for floats or [0..255] for integers).\n",
      "Clipping input data to the valid range for imshow with RGB data ([0..1] for floats or [0..255] for integers).\n",
      "Clipping input data to the valid range for imshow with RGB data ([0..1] for floats or [0..255] for integers).\n",
      "Clipping input data to the valid range for imshow with RGB data ([0..1] for floats or [0..255] for integers).\n",
      "Clipping input data to the valid range for imshow with RGB data ([0..1] for floats or [0..255] for integers).\n",
      "Clipping input data to the valid range for imshow with RGB data ([0..1] for floats or [0..255] for integers).\n",
      "Clipping input data to the valid range for imshow with RGB data ([0..1] for floats or [0..255] for integers).\n",
      "Clipping input data to the valid range for imshow with RGB data ([0..1] for floats or [0..255] for integers).\n",
      "Clipping input data to the valid range for imshow with RGB data ([0..1] for floats or [0..255] for integers).\n",
      "Clipping input data to the valid range for imshow with RGB data ([0..1] for floats or [0..255] for integers).\n",
      "Clipping input data to the valid range for imshow with RGB data ([0..1] for floats or [0..255] for integers).\n",
      "Clipping input data to the valid range for imshow with RGB data ([0..1] for floats or [0..255] for integers).\n",
      "Clipping input data to the valid range for imshow with RGB data ([0..1] for floats or [0..255] for integers).\n",
      "Clipping input data to the valid range for imshow with RGB data ([0..1] for floats or [0..255] for integers).\n",
      "Clipping input data to the valid range for imshow with RGB data ([0..1] for floats or [0..255] for integers).\n",
      "Clipping input data to the valid range for imshow with RGB data ([0..1] for floats or [0..255] for integers).\n",
      "Clipping input data to the valid range for imshow with RGB data ([0..1] for floats or [0..255] for integers).\n",
      "Clipping input data to the valid range for imshow with RGB data ([0..1] for floats or [0..255] for integers).\n",
      "Clipping input data to the valid range for imshow with RGB data ([0..1] for floats or [0..255] for integers).\n"
     ]
    },
    {
     "name": "stdout",
     "output_type": "stream",
     "text": [
      "Epoch: 10 Disc: (loss = 0.461749, acc = 97.10%) AAE: (mse = 0.178015, b_ce = 0.177456)\n",
      "Epoch: 20 Disc: (loss = 0.353236, acc = 98.80%) AAE: (mse = 0.076695, b_ce = 0.075903)\n",
      "Epoch: 30 Disc: (loss = 0.269420, acc = 99.50%) AAE: (mse = 0.075768, b_ce = 0.074789)\n",
      "Epoch: 40 Disc: (loss = 0.223498, acc = 99.20%) AAE: (mse = 0.078775, b_ce = 0.077590)\n",
      "Epoch: 50 Disc: (loss = 0.174843, acc = 98.60%) AAE: (mse = 0.070872, b_ce = 0.069456)\n",
      "Epoch: 60 Disc: (loss = 0.136876, acc = 99.30%) AAE: (mse = 0.069829, b_ce = 0.068168)\n",
      "Epoch: 70 Disc: (loss = 0.110934, acc = 99.30%) AAE: (mse = 0.065880, b_ce = 0.063973)\n",
      "Epoch: 80 Disc: (loss = 0.089226, acc = 99.80%) AAE: (mse = 0.063516, b_ce = 0.061408)\n",
      "Epoch: 90 Disc: (loss = 0.078324, acc = 99.50%) AAE: (mse = 0.064445, b_ce = 0.062147)\n",
      "Epoch: 100 Disc: (loss = 0.070314, acc = 99.40%) AAE: (mse = 0.063780, b_ce = 0.061310)\n",
      "Epoch: 110 Disc: (loss = 0.056410, acc = 99.40%) AAE: (mse = 0.063491, b_ce = 0.060780)\n",
      "Epoch: 120 Disc: (loss = 0.042654, acc = 99.80%) AAE: (mse = 0.063163, b_ce = 0.060272)\n",
      "Epoch: 130 Disc: (loss = 0.034000, acc = 99.80%) AAE: (mse = 0.064137, b_ce = 0.061099)\n",
      "Epoch: 140 Disc: (loss = 0.039856, acc = 99.70%) AAE: (mse = 0.064998, b_ce = 0.061794)\n",
      "Epoch: 150 Disc: (loss = 0.035441, acc = 99.70%) AAE: (mse = 0.063736, b_ce = 0.060446)\n",
      "Epoch: 160 Disc: (loss = 0.025801, acc = 99.80%) AAE: (mse = 0.064854, b_ce = 0.061315)\n",
      "Epoch: 170 Disc: (loss = 0.019520, acc = 100.00%) AAE: (mse = 0.064360, b_ce = 0.060690)\n",
      "Epoch: 180 Disc: (loss = 0.020523, acc = 99.90%) AAE: (mse = 0.064956, b_ce = 0.061303)\n",
      "Epoch: 190 Disc: (loss = 0.027652, acc = 99.40%) AAE: (mse = 0.063243, b_ce = 0.059424)\n",
      "Epoch: 200 Disc: (loss = 0.016463, acc = 99.80%) AAE: (mse = 0.064751, b_ce = 0.060796)\n",
      "Epoch: 210 Disc: (loss = 0.013117, acc = 100.00%) AAE: (mse = 0.064566, b_ce = 0.060484)\n",
      "Epoch: 220 Disc: (loss = 0.013820, acc = 99.90%) AAE: (mse = 0.065252, b_ce = 0.061162)\n",
      "Epoch: 230 Disc: (loss = 0.011555, acc = 100.00%) AAE: (mse = 0.066851, b_ce = 0.062669)\n",
      "Epoch: 240 Disc: (loss = 0.009624, acc = 100.00%) AAE: (mse = 0.063873, b_ce = 0.059583)\n",
      "Epoch: 250 Disc: (loss = 0.011662, acc = 99.90%) AAE: (mse = 0.064220, b_ce = 0.059879)\n",
      "Epoch: 260 Disc: (loss = 0.008526, acc = 100.00%) AAE: (mse = 0.066285, b_ce = 0.061863)\n",
      "Epoch: 270 Disc: (loss = 0.007851, acc = 100.00%) AAE: (mse = 0.064063, b_ce = 0.059547)\n",
      "Epoch: 280 Disc: (loss = 0.007882, acc = 100.00%) AAE: (mse = 0.067145, b_ce = 0.062648)\n",
      "Epoch: 290 Disc: (loss = 0.009239, acc = 99.90%) AAE: (mse = 0.064783, b_ce = 0.060181)\n",
      "Epoch: 300 Disc: (loss = 0.007565, acc = 100.00%) AAE: (mse = 0.068824, b_ce = 0.064222)\n",
      "Epoch: 310 Disc: (loss = 0.006289, acc = 100.00%) AAE: (mse = 0.062085, b_ce = 0.057327)\n",
      "Epoch: 320 Disc: (loss = 0.007087, acc = 99.90%) AAE: (mse = 0.065575, b_ce = 0.060746)\n",
      "Epoch: 330 Disc: (loss = 0.008131, acc = 99.90%) AAE: (mse = 0.066172, b_ce = 0.061331)\n",
      "Epoch: 340 Disc: (loss = 0.006593, acc = 100.00%) AAE: (mse = 0.063102, b_ce = 0.058251)\n",
      "Epoch: 350 Disc: (loss = 0.005226, acc = 100.00%) AAE: (mse = 0.068268, b_ce = 0.063426)\n",
      "Epoch: 360 Disc: (loss = 0.004560, acc = 100.00%) AAE: (mse = 0.067113, b_ce = 0.062156)\n",
      "Epoch: 370 Disc: (loss = 0.004708, acc = 100.00%) AAE: (mse = 0.067269, b_ce = 0.062263)\n",
      "Epoch: 380 Disc: (loss = 0.004392, acc = 100.00%) AAE: (mse = 0.066729, b_ce = 0.061730)\n",
      "Epoch: 390 Disc: (loss = 0.004467, acc = 100.00%) AAE: (mse = 0.067512, b_ce = 0.062499)\n",
      "Epoch: 400 Disc: (loss = 0.003962, acc = 100.00%) AAE: (mse = 0.063909, b_ce = 0.058801)\n",
      "Epoch: 410 Disc: (loss = 0.004134, acc = 100.00%) AAE: (mse = 0.064238, b_ce = 0.059092)\n",
      "Epoch: 420 Disc: (loss = 0.003617, acc = 100.00%) AAE: (mse = 0.068764, b_ce = 0.063533)\n",
      "Epoch: 430 Disc: (loss = 0.003944, acc = 100.00%) AAE: (mse = 0.066850, b_ce = 0.061622)\n",
      "Epoch: 440 Disc: (loss = 0.003619, acc = 100.00%) AAE: (mse = 0.064181, b_ce = 0.058886)\n",
      "Epoch: 450 Disc: (loss = 0.003892, acc = 100.00%) AAE: (mse = 0.064114, b_ce = 0.058865)\n",
      "Epoch: 460 Disc: (loss = 0.003627, acc = 100.00%) AAE: (mse = 0.067412, b_ce = 0.062099)\n",
      "Epoch: 470 Disc: (loss = 0.003217, acc = 100.00%) AAE: (mse = 0.064280, b_ce = 0.058988)\n",
      "Epoch: 480 Disc: (loss = 0.003095, acc = 100.00%) AAE: (mse = 0.065222, b_ce = 0.059847)\n",
      "Epoch: 490 Disc: (loss = 0.003099, acc = 100.00%) AAE: (mse = 0.065298, b_ce = 0.059858)\n",
      "Epoch: 500 Disc: (loss = 0.002799, acc = 100.00%) AAE: (mse = 0.066494, b_ce = 0.061036)\n"
     ]
    },
    {
     "name": "stderr",
     "output_type": "stream",
     "text": [
      "Clipping input data to the valid range for imshow with RGB data ([0..1] for floats or [0..255] for integers).\n"
     ]
    },
    {
     "name": "stdout",
     "output_type": "stream",
     "text": [
      "Epoch: 510 Disc: (loss = 0.003040, acc = 100.00%) AAE: (mse = 0.063902, b_ce = 0.058470)\n",
      "Epoch: 520 Disc: (loss = 0.003016, acc = 100.00%) AAE: (mse = 0.066946, b_ce = 0.061496)\n",
      "Epoch: 530 Disc: (loss = 0.002512, acc = 100.00%) AAE: (mse = 0.066134, b_ce = 0.060623)\n",
      "Epoch: 540 Disc: (loss = 0.002545, acc = 100.00%) AAE: (mse = 0.067541, b_ce = 0.061999)\n",
      "Epoch: 550 Disc: (loss = 0.002753, acc = 100.00%) AAE: (mse = 0.066249, b_ce = 0.060696)\n",
      "Epoch: 560 Disc: (loss = 0.003364, acc = 100.00%) AAE: (mse = 0.064153, b_ce = 0.058598)\n",
      "Epoch: 570 Disc: (loss = 0.002258, acc = 100.00%) AAE: (mse = 0.065952, b_ce = 0.060331)\n",
      "Epoch: 580 Disc: (loss = 0.002312, acc = 100.00%) AAE: (mse = 0.063666, b_ce = 0.058035)\n",
      "Epoch: 590 Disc: (loss = 0.002735, acc = 100.00%) AAE: (mse = 0.067364, b_ce = 0.061796)\n",
      "Epoch: 600 Disc: (loss = 0.002230, acc = 100.00%) AAE: (mse = 0.066066, b_ce = 0.060356)\n",
      "Epoch: 610 Disc: (loss = 0.002271, acc = 100.00%) AAE: (mse = 0.065512, b_ce = 0.059866)\n",
      "Epoch: 620 Disc: (loss = 0.002137, acc = 100.00%) AAE: (mse = 0.066450, b_ce = 0.060765)\n",
      "Epoch: 630 Disc: (loss = 0.002312, acc = 100.00%) AAE: (mse = 0.064937, b_ce = 0.059276)\n",
      "Epoch: 640 Disc: (loss = 0.002300, acc = 100.00%) AAE: (mse = 0.064763, b_ce = 0.059050)\n",
      "Epoch: 650 Disc: (loss = 0.002286, acc = 100.00%) AAE: (mse = 0.066735, b_ce = 0.060975)\n",
      "Epoch: 660 Disc: (loss = 0.002051, acc = 100.00%) AAE: (mse = 0.064697, b_ce = 0.058892)\n",
      "Epoch: 670 Disc: (loss = 0.001964, acc = 100.00%) AAE: (mse = 0.066667, b_ce = 0.060828)\n",
      "Epoch: 680 Disc: (loss = 0.001969, acc = 100.00%) AAE: (mse = 0.062752, b_ce = 0.056891)\n",
      "Epoch: 690 Disc: (loss = 0.002075, acc = 100.00%) AAE: (mse = 0.067847, b_ce = 0.061888)\n",
      "Epoch: 700 Disc: (loss = 0.002017, acc = 100.00%) AAE: (mse = 0.064510, b_ce = 0.058544)\n",
      "Epoch: 710 Disc: (loss = 0.003019, acc = 100.00%) AAE: (mse = 0.068021, b_ce = 0.062089)\n",
      "Epoch: 720 Disc: (loss = 0.001722, acc = 100.00%) AAE: (mse = 0.067384, b_ce = 0.061323)\n",
      "Epoch: 730 Disc: (loss = 0.001557, acc = 100.00%) AAE: (mse = 0.067358, b_ce = 0.061248)\n",
      "Epoch: 740 Disc: (loss = 0.001718, acc = 100.00%) AAE: (mse = 0.065596, b_ce = 0.059436)\n",
      "Epoch: 750 Disc: (loss = 0.002331, acc = 100.00%) AAE: (mse = 0.067015, b_ce = 0.060847)\n",
      "Epoch: 760 Disc: (loss = 0.001583, acc = 100.00%) AAE: (mse = 0.068281, b_ce = 0.061987)\n",
      "Epoch: 770 Disc: (loss = 0.001426, acc = 100.00%) AAE: (mse = 0.066167, b_ce = 0.059827)\n",
      "Epoch: 780 Disc: (loss = 0.001274, acc = 100.00%) AAE: (mse = 0.066686, b_ce = 0.060327)\n",
      "Epoch: 790 Disc: (loss = 0.001113, acc = 100.00%) AAE: (mse = 0.067955, b_ce = 0.061502)\n",
      "Epoch: 800 Disc: (loss = 0.001126, acc = 100.00%) AAE: (mse = 0.067625, b_ce = 0.061131)\n",
      "Epoch: 810 Disc: (loss = 0.001055, acc = 100.00%) AAE: (mse = 0.069737, b_ce = 0.063238)\n",
      "Epoch: 820 Disc: (loss = 0.001768, acc = 100.00%) AAE: (mse = 0.064193, b_ce = 0.057609)\n",
      "Epoch: 830 Disc: (loss = 0.001498, acc = 100.00%) AAE: (mse = 0.069137, b_ce = 0.062518)\n",
      "Epoch: 840 Disc: (loss = 0.000895, acc = 100.00%) AAE: (mse = 0.066366, b_ce = 0.059591)\n",
      "Epoch: 850 Disc: (loss = 0.000926, acc = 100.00%) AAE: (mse = 0.068237, b_ce = 0.061511)\n",
      "Epoch: 860 Disc: (loss = 0.000818, acc = 100.00%) AAE: (mse = 0.066699, b_ce = 0.059897)\n",
      "Epoch: 870 Disc: (loss = 0.000929, acc = 100.00%) AAE: (mse = 0.069338, b_ce = 0.062502)\n",
      "Epoch: 880 Disc: (loss = 0.000705, acc = 100.00%) AAE: (mse = 0.067916, b_ce = 0.061041)\n",
      "Epoch: 890 Disc: (loss = 0.000724, acc = 100.00%) AAE: (mse = 0.069542, b_ce = 0.062639)\n",
      "Epoch: 900 Disc: (loss = 0.000696, acc = 100.00%) AAE: (mse = 0.069018, b_ce = 0.062012)\n",
      "Epoch: 910 Disc: (loss = 0.000959, acc = 100.00%) AAE: (mse = 0.067539, b_ce = 0.060477)\n",
      "Epoch: 920 Disc: (loss = 0.000514, acc = 100.00%) AAE: (mse = 0.064394, b_ce = 0.057257)\n",
      "Epoch: 930 Disc: (loss = 0.000811, acc = 100.00%) AAE: (mse = 0.070420, b_ce = 0.063274)\n",
      "Epoch: 940 Disc: (loss = 0.000691, acc = 100.00%) AAE: (mse = 0.068523, b_ce = 0.061374)\n",
      "Epoch: 950 Disc: (loss = 0.000559, acc = 100.00%) AAE: (mse = 0.066916, b_ce = 0.059671)\n",
      "Epoch: 960 Disc: (loss = 0.000746, acc = 100.00%) AAE: (mse = 0.070218, b_ce = 0.062901)\n",
      "Epoch: 970 Disc: (loss = 0.000430, acc = 100.00%) AAE: (mse = 0.067950, b_ce = 0.060537)\n",
      "Epoch: 980 Disc: (loss = 0.000436, acc = 100.00%) AAE: (mse = 0.070798, b_ce = 0.063365)\n",
      "Epoch: 990 Disc: (loss = 0.000424, acc = 100.00%) AAE: (mse = 0.069607, b_ce = 0.062186)\n",
      "Epoch: 1000 Disc: (loss = 0.000509, acc = 100.00%) AAE: (mse = 0.068454, b_ce = 0.060961)\n"
     ]
    },
    {
     "name": "stderr",
     "output_type": "stream",
     "text": [
      "Clipping input data to the valid range for imshow with RGB data ([0..1] for floats or [0..255] for integers).\n",
      "Clipping input data to the valid range for imshow with RGB data ([0..1] for floats or [0..255] for integers).\n"
     ]
    },
    {
     "name": "stdout",
     "output_type": "stream",
     "text": [
      "Epoch: 1010 Disc: (loss = 0.000510, acc = 100.00%) AAE: (mse = 0.067413, b_ce = 0.059927)\n",
      "Epoch: 1020 Disc: (loss = 0.000347, acc = 100.00%) AAE: (mse = 0.067785, b_ce = 0.060174)\n",
      "Epoch: 1030 Disc: (loss = 0.000344, acc = 100.00%) AAE: (mse = 0.066676, b_ce = 0.059026)\n",
      "Epoch: 1040 Disc: (loss = 0.001190, acc = 100.00%) AAE: (mse = 0.069207, b_ce = 0.061518)\n",
      "Epoch: 1050 Disc: (loss = 0.000313, acc = 100.00%) AAE: (mse = 0.066619, b_ce = 0.058944)\n",
      "Epoch: 1060 Disc: (loss = 0.000525, acc = 100.00%) AAE: (mse = 0.068834, b_ce = 0.061070)\n",
      "Epoch: 1070 Disc: (loss = 0.000422, acc = 100.00%) AAE: (mse = 0.068281, b_ce = 0.060462)\n",
      "Epoch: 1080 Disc: (loss = 0.000366, acc = 100.00%) AAE: (mse = 0.066972, b_ce = 0.059116)\n",
      "Epoch: 1090 Disc: (loss = 0.000347, acc = 100.00%) AAE: (mse = 0.067931, b_ce = 0.060032)\n",
      "Epoch: 1100 Disc: (loss = 0.000291, acc = 100.00%) AAE: (mse = 0.071298, b_ce = 0.063436)\n",
      "Epoch: 1110 Disc: (loss = 0.000351, acc = 100.00%) AAE: (mse = 0.068299, b_ce = 0.060327)\n",
      "Epoch: 1120 Disc: (loss = 0.000950, acc = 99.90%) AAE: (mse = 0.067571, b_ce = 0.059532)\n",
      "Epoch: 1130 Disc: (loss = 0.000276, acc = 100.00%) AAE: (mse = 0.068545, b_ce = 0.060483)\n",
      "Epoch: 1140 Disc: (loss = 0.000268, acc = 100.00%) AAE: (mse = 0.067022, b_ce = 0.058877)\n",
      "Epoch: 1150 Disc: (loss = 0.000310, acc = 100.00%) AAE: (mse = 0.068775, b_ce = 0.060679)\n",
      "Epoch: 1160 Disc: (loss = 0.000283, acc = 100.00%) AAE: (mse = 0.068178, b_ce = 0.059963)\n",
      "Epoch: 1170 Disc: (loss = 0.000405, acc = 100.00%) AAE: (mse = 0.069631, b_ce = 0.061360)\n",
      "Epoch: 1180 Disc: (loss = 0.000239, acc = 100.00%) AAE: (mse = 0.068520, b_ce = 0.060209)\n",
      "Epoch: 1190 Disc: (loss = 0.000181, acc = 100.00%) AAE: (mse = 0.066375, b_ce = 0.058075)\n",
      "Epoch: 1200 Disc: (loss = 0.000591, acc = 100.00%) AAE: (mse = 0.069353, b_ce = 0.061204)\n",
      "Epoch: 1210 Disc: (loss = 0.000282, acc = 100.00%) AAE: (mse = 0.066184, b_ce = 0.057905)\n",
      "Epoch: 1220 Disc: (loss = 0.000256, acc = 100.00%) AAE: (mse = 0.069280, b_ce = 0.060909)\n",
      "Epoch: 1230 Disc: (loss = 0.000151, acc = 100.00%) AAE: (mse = 0.068105, b_ce = 0.059592)\n",
      "Epoch: 1240 Disc: (loss = 0.001423, acc = 99.90%) AAE: (mse = 0.069619, b_ce = 0.061140)\n",
      "Epoch: 1250 Disc: (loss = 0.000386, acc = 100.00%) AAE: (mse = 0.070338, b_ce = 0.061823)\n",
      "Epoch: 1260 Disc: (loss = 0.000154, acc = 100.00%) AAE: (mse = 0.072047, b_ce = 0.063513)\n",
      "Epoch: 1270 Disc: (loss = 0.000164, acc = 100.00%) AAE: (mse = 0.068550, b_ce = 0.059936)\n",
      "Epoch: 1280 Disc: (loss = 0.000134, acc = 100.00%) AAE: (mse = 0.068963, b_ce = 0.060258)\n",
      "Epoch: 1290 Disc: (loss = 0.000166, acc = 100.00%) AAE: (mse = 0.070742, b_ce = 0.062015)\n",
      "Epoch: 1300 Disc: (loss = 0.000118, acc = 100.00%) AAE: (mse = 0.069022, b_ce = 0.060302)\n",
      "Epoch: 1310 Disc: (loss = 0.000140, acc = 100.00%) AAE: (mse = 0.067906, b_ce = 0.059177)\n",
      "Epoch: 1320 Disc: (loss = 0.000166, acc = 100.00%) AAE: (mse = 0.071198, b_ce = 0.062467)\n",
      "Epoch: 1330 Disc: (loss = 0.000141, acc = 100.00%) AAE: (mse = 0.071498, b_ce = 0.062754)\n",
      "Epoch: 1340 Disc: (loss = 0.000132, acc = 100.00%) AAE: (mse = 0.069698, b_ce = 0.060969)\n",
      "Epoch: 1350 Disc: (loss = 0.000190, acc = 100.00%) AAE: (mse = 0.067807, b_ce = 0.058918)\n",
      "Epoch: 1360 Disc: (loss = 0.000113, acc = 100.00%) AAE: (mse = 0.068178, b_ce = 0.059357)\n",
      "Epoch: 1370 Disc: (loss = 0.000364, acc = 100.00%) AAE: (mse = 0.068701, b_ce = 0.059918)\n",
      "Epoch: 1380 Disc: (loss = 0.000145, acc = 100.00%) AAE: (mse = 0.068745, b_ce = 0.059881)\n",
      "Epoch: 1390 Disc: (loss = 0.001010, acc = 99.90%) AAE: (mse = 0.068621, b_ce = 0.059803)\n",
      "Epoch: 1400 Disc: (loss = 0.000275, acc = 100.00%) AAE: (mse = 0.068930, b_ce = 0.060125)\n",
      "Epoch: 1410 Disc: (loss = 0.000152, acc = 100.00%) AAE: (mse = 0.067677, b_ce = 0.058832)\n",
      "Epoch: 1420 Disc: (loss = 0.000249, acc = 100.00%) AAE: (mse = 0.068192, b_ce = 0.059392)\n",
      "Epoch: 1430 Disc: (loss = 0.000120, acc = 100.00%) AAE: (mse = 0.068925, b_ce = 0.060050)\n",
      "Epoch: 1440 Disc: (loss = 0.000141, acc = 100.00%) AAE: (mse = 0.068965, b_ce = 0.060099)\n",
      "Epoch: 1450 Disc: (loss = 0.000106, acc = 100.00%) AAE: (mse = 0.067702, b_ce = 0.058741)\n",
      "Epoch: 1460 Disc: (loss = 0.000138, acc = 100.00%) AAE: (mse = 0.070341, b_ce = 0.061465)\n",
      "Epoch: 1470 Disc: (loss = 0.000088, acc = 100.00%) AAE: (mse = 0.070869, b_ce = 0.061828)\n",
      "Epoch: 1480 Disc: (loss = 0.000098, acc = 100.00%) AAE: (mse = 0.071189, b_ce = 0.062162)\n",
      "Epoch: 1490 Disc: (loss = 0.000157, acc = 100.00%) AAE: (mse = 0.072099, b_ce = 0.063051)\n",
      "Epoch: 1500 Disc: (loss = 0.000147, acc = 100.00%) AAE: (mse = 0.072682, b_ce = 0.063852)\n"
     ]
    },
    {
     "name": "stderr",
     "output_type": "stream",
     "text": [
      "Clipping input data to the valid range for imshow with RGB data ([0..1] for floats or [0..255] for integers).\n",
      "Clipping input data to the valid range for imshow with RGB data ([0..1] for floats or [0..255] for integers).\n"
     ]
    },
    {
     "name": "stdout",
     "output_type": "stream",
     "text": [
      "Epoch: 1510 Disc: (loss = 0.000116, acc = 100.00%) AAE: (mse = 0.069336, b_ce = 0.060210)\n",
      "Epoch: 1520 Disc: (loss = 0.000871, acc = 99.90%) AAE: (mse = 0.069836, b_ce = 0.060727)\n",
      "Epoch: 1530 Disc: (loss = 0.000184, acc = 100.00%) AAE: (mse = 0.066473, b_ce = 0.057644)\n",
      "Epoch: 1540 Disc: (loss = 0.000167, acc = 100.00%) AAE: (mse = 0.070517, b_ce = 0.061375)\n",
      "Epoch: 1550 Disc: (loss = 0.000538, acc = 100.00%) AAE: (mse = 0.070430, b_ce = 0.061561)\n",
      "Epoch: 1560 Disc: (loss = 0.000125, acc = 100.00%) AAE: (mse = 0.068990, b_ce = 0.059971)\n",
      "Epoch: 1570 Disc: (loss = 0.000127, acc = 100.00%) AAE: (mse = 0.068926, b_ce = 0.059891)\n",
      "Epoch: 1580 Disc: (loss = 0.000119, acc = 100.00%) AAE: (mse = 0.069558, b_ce = 0.060255)\n",
      "Epoch: 1590 Disc: (loss = 0.000088, acc = 100.00%) AAE: (mse = 0.068847, b_ce = 0.059641)\n",
      "Epoch: 1600 Disc: (loss = 0.000118, acc = 100.00%) AAE: (mse = 0.070024, b_ce = 0.060690)\n",
      "Epoch: 1610 Disc: (loss = 0.000092, acc = 100.00%) AAE: (mse = 0.069482, b_ce = 0.060143)\n",
      "Epoch: 1620 Disc: (loss = 0.000072, acc = 100.00%) AAE: (mse = 0.067503, b_ce = 0.058138)\n",
      "Epoch: 1630 Disc: (loss = 0.000077, acc = 100.00%) AAE: (mse = 0.068343, b_ce = 0.058803)\n",
      "Epoch: 1640 Disc: (loss = 0.000128, acc = 100.00%) AAE: (mse = 0.071105, b_ce = 0.061674)\n",
      "Epoch: 1650 Disc: (loss = 0.000153, acc = 100.00%) AAE: (mse = 0.069803, b_ce = 0.060357)\n",
      "Epoch: 1660 Disc: (loss = 0.000090, acc = 100.00%) AAE: (mse = 0.071375, b_ce = 0.061976)\n",
      "Epoch: 1670 Disc: (loss = 0.000183, acc = 100.00%) AAE: (mse = 0.073231, b_ce = 0.063949)\n",
      "Epoch: 1680 Disc: (loss = 0.000108, acc = 100.00%) AAE: (mse = 0.068925, b_ce = 0.059644)\n",
      "Epoch: 1690 Disc: (loss = 0.000063, acc = 100.00%) AAE: (mse = 0.070998, b_ce = 0.061425)\n",
      "Epoch: 1700 Disc: (loss = 0.000244, acc = 100.00%) AAE: (mse = 0.071093, b_ce = 0.061359)\n",
      "Epoch: 1710 Disc: (loss = 0.000050, acc = 100.00%) AAE: (mse = 0.070806, b_ce = 0.061174)\n",
      "Epoch: 1720 Disc: (loss = 0.000060, acc = 100.00%) AAE: (mse = 0.070410, b_ce = 0.060744)\n",
      "Epoch: 1730 Disc: (loss = 0.000102, acc = 100.00%) AAE: (mse = 0.069110, b_ce = 0.059492)\n",
      "Epoch: 1740 Disc: (loss = 0.000066, acc = 100.00%) AAE: (mse = 0.070929, b_ce = 0.061220)\n",
      "Epoch: 1750 Disc: (loss = 0.000072, acc = 100.00%) AAE: (mse = 0.070194, b_ce = 0.060474)\n",
      "Epoch: 1760 Disc: (loss = 0.000155, acc = 100.00%) AAE: (mse = 0.067350, b_ce = 0.057786)\n",
      "Epoch: 1770 Disc: (loss = 0.000844, acc = 99.90%) AAE: (mse = 0.070414, b_ce = 0.060963)\n",
      "Epoch: 1780 Disc: (loss = 0.000180, acc = 100.00%) AAE: (mse = 0.069723, b_ce = 0.060046)\n",
      "Epoch: 1790 Disc: (loss = 0.001510, acc = 99.90%) AAE: (mse = 0.067958, b_ce = 0.058297)\n",
      "Epoch: 1800 Disc: (loss = 0.000072, acc = 100.00%) AAE: (mse = 0.069724, b_ce = 0.059963)\n",
      "Epoch: 1810 Disc: (loss = 0.000050, acc = 100.00%) AAE: (mse = 0.072435, b_ce = 0.062734)\n",
      "Epoch: 1820 Disc: (loss = 0.000066, acc = 100.00%) AAE: (mse = 0.071715, b_ce = 0.061882)\n",
      "Epoch: 1830 Disc: (loss = 0.000077, acc = 100.00%) AAE: (mse = 0.069557, b_ce = 0.059818)\n",
      "Epoch: 1840 Disc: (loss = 0.000477, acc = 100.00%) AAE: (mse = 0.069748, b_ce = 0.059913)\n",
      "Epoch: 1850 Disc: (loss = 0.000150, acc = 100.00%) AAE: (mse = 0.070388, b_ce = 0.061069)\n",
      "Epoch: 1860 Disc: (loss = 0.000094, acc = 100.00%) AAE: (mse = 0.069624, b_ce = 0.060114)\n",
      "Epoch: 1870 Disc: (loss = 0.000075, acc = 100.00%) AAE: (mse = 0.069579, b_ce = 0.060021)\n",
      "Epoch: 1880 Disc: (loss = 0.000072, acc = 100.00%) AAE: (mse = 0.067938, b_ce = 0.058129)\n",
      "Epoch: 1890 Disc: (loss = 0.000049, acc = 100.00%) AAE: (mse = 0.070371, b_ce = 0.060423)\n",
      "Epoch: 1900 Disc: (loss = 0.000109, acc = 100.00%) AAE: (mse = 0.069879, b_ce = 0.060038)\n",
      "Epoch: 1910 Disc: (loss = 0.000035, acc = 100.00%) AAE: (mse = 0.072180, b_ce = 0.062240)\n",
      "Epoch: 1920 Disc: (loss = 0.000035, acc = 100.00%) AAE: (mse = 0.070006, b_ce = 0.059965)\n",
      "Epoch: 1930 Disc: (loss = 0.000044, acc = 100.00%) AAE: (mse = 0.071268, b_ce = 0.061021)\n",
      "Epoch: 1940 Disc: (loss = 0.000022, acc = 100.00%) AAE: (mse = 0.071721, b_ce = 0.061377)\n",
      "Epoch: 1950 Disc: (loss = 0.000115, acc = 100.00%) AAE: (mse = 0.071477, b_ce = 0.061287)\n",
      "Epoch: 1960 Disc: (loss = 0.000237, acc = 100.00%) AAE: (mse = 0.071448, b_ce = 0.061305)\n",
      "Epoch: 1970 Disc: (loss = 0.000317, acc = 100.00%) AAE: (mse = 0.071149, b_ce = 0.060864)\n",
      "Epoch: 1980 Disc: (loss = 0.000047, acc = 100.00%) AAE: (mse = 0.070783, b_ce = 0.060673)\n",
      "Epoch: 1990 Disc: (loss = 0.000029, acc = 100.00%) AAE: (mse = 0.071512, b_ce = 0.061171)\n",
      "Epoch: 2000 Disc: (loss = 0.000103, acc = 100.00%) AAE: (mse = 0.071107, b_ce = 0.061204)\n"
     ]
    },
    {
     "name": "stderr",
     "output_type": "stream",
     "text": [
      "Clipping input data to the valid range for imshow with RGB data ([0..1] for floats or [0..255] for integers).\n",
      "Clipping input data to the valid range for imshow with RGB data ([0..1] for floats or [0..255] for integers).\n",
      "Clipping input data to the valid range for imshow with RGB data ([0..1] for floats or [0..255] for integers).\n",
      "Clipping input data to the valid range for imshow with RGB data ([0..1] for floats or [0..255] for integers).\n",
      "Clipping input data to the valid range for imshow with RGB data ([0..1] for floats or [0..255] for integers).\n",
      "Clipping input data to the valid range for imshow with RGB data ([0..1] for floats or [0..255] for integers).\n"
     ]
    },
    {
     "name": "stdout",
     "output_type": "stream",
     "text": [
      "Epoch: 2010 Disc: (loss = 0.002041, acc = 99.90%) AAE: (mse = 0.070262, b_ce = 0.060739)\n",
      "Epoch: 2020 Disc: (loss = 0.000052, acc = 100.00%) AAE: (mse = 0.072161, b_ce = 0.062236)\n",
      "Epoch: 2030 Disc: (loss = 0.000070, acc = 100.00%) AAE: (mse = 0.071014, b_ce = 0.060946)\n",
      "Epoch: 2040 Disc: (loss = 0.000309, acc = 100.00%) AAE: (mse = 0.070192, b_ce = 0.059876)\n",
      "Epoch: 2050 Disc: (loss = 0.000054, acc = 100.00%) AAE: (mse = 0.072205, b_ce = 0.061795)\n",
      "Epoch: 2060 Disc: (loss = 0.000020, acc = 100.00%) AAE: (mse = 0.071058, b_ce = 0.060346)\n",
      "Epoch: 2070 Disc: (loss = 0.000092, acc = 100.00%) AAE: (mse = 0.071976, b_ce = 0.061656)\n",
      "Epoch: 2080 Disc: (loss = 0.000406, acc = 100.00%) AAE: (mse = 0.071392, b_ce = 0.061677)\n",
      "Epoch: 2090 Disc: (loss = 0.000044, acc = 100.00%) AAE: (mse = 0.071914, b_ce = 0.061768)\n",
      "Epoch: 2100 Disc: (loss = 0.000036, acc = 100.00%) AAE: (mse = 0.072124, b_ce = 0.061533)\n",
      "Epoch: 2110 Disc: (loss = 0.000117, acc = 100.00%) AAE: (mse = 0.070672, b_ce = 0.060491)\n",
      "Epoch: 2120 Disc: (loss = 0.000125, acc = 100.00%) AAE: (mse = 0.070421, b_ce = 0.060909)\n",
      "Epoch: 2130 Disc: (loss = 0.000058, acc = 100.00%) AAE: (mse = 0.072824, b_ce = 0.062693)\n",
      "Epoch: 2140 Disc: (loss = 0.000070, acc = 100.00%) AAE: (mse = 0.069536, b_ce = 0.059083)\n",
      "Epoch: 2150 Disc: (loss = 0.000059, acc = 100.00%) AAE: (mse = 0.072659, b_ce = 0.062089)\n",
      "Epoch: 2160 Disc: (loss = 0.000635, acc = 100.00%) AAE: (mse = 0.070608, b_ce = 0.060198)\n",
      "Epoch: 2170 Disc: (loss = 0.000021, acc = 100.00%) AAE: (mse = 0.072804, b_ce = 0.062135)\n",
      "Epoch: 2180 Disc: (loss = 0.000604, acc = 100.00%) AAE: (mse = 0.072712, b_ce = 0.062339)\n",
      "Epoch: 2190 Disc: (loss = 0.000037, acc = 100.00%) AAE: (mse = 0.069453, b_ce = 0.058958)\n",
      "Epoch: 2200 Disc: (loss = 0.000025, acc = 100.00%) AAE: (mse = 0.070038, b_ce = 0.059259)\n",
      "Epoch: 2210 Disc: (loss = 0.000023, acc = 100.00%) AAE: (mse = 0.072453, b_ce = 0.061739)\n",
      "Epoch: 2220 Disc: (loss = 0.000130, acc = 100.00%) AAE: (mse = 0.071386, b_ce = 0.060742)\n",
      "Epoch: 2230 Disc: (loss = 0.000061, acc = 100.00%) AAE: (mse = 0.070115, b_ce = 0.060229)\n",
      "Epoch: 2240 Disc: (loss = 0.000080, acc = 100.00%) AAE: (mse = 0.069121, b_ce = 0.058738)\n",
      "Epoch: 2250 Disc: (loss = 0.000161, acc = 100.00%) AAE: (mse = 0.070906, b_ce = 0.061738)\n",
      "Epoch: 2260 Disc: (loss = 0.000211, acc = 100.00%) AAE: (mse = 0.070983, b_ce = 0.060980)\n",
      "Epoch: 2270 Disc: (loss = 0.000040, acc = 100.00%) AAE: (mse = 0.072259, b_ce = 0.061853)\n",
      "Epoch: 2280 Disc: (loss = 0.000064, acc = 100.00%) AAE: (mse = 0.070162, b_ce = 0.059559)\n",
      "Epoch: 2290 Disc: (loss = 0.000064, acc = 100.00%) AAE: (mse = 0.071497, b_ce = 0.061185)\n",
      "Epoch: 2300 Disc: (loss = 0.000158, acc = 100.00%) AAE: (mse = 0.070044, b_ce = 0.060301)\n",
      "Epoch: 2310 Disc: (loss = 0.000046, acc = 100.00%) AAE: (mse = 0.070208, b_ce = 0.059980)\n",
      "Epoch: 2320 Disc: (loss = 0.000033, acc = 100.00%) AAE: (mse = 0.073860, b_ce = 0.063126)\n",
      "Epoch: 2330 Disc: (loss = 0.000048, acc = 100.00%) AAE: (mse = 0.071648, b_ce = 0.061300)\n",
      "Epoch: 2340 Disc: (loss = 0.000125, acc = 100.00%) AAE: (mse = 0.070785, b_ce = 0.060884)\n",
      "Epoch: 2350 Disc: (loss = 0.000018, acc = 100.00%) AAE: (mse = 0.070652, b_ce = 0.059710)\n",
      "Epoch: 2360 Disc: (loss = 0.000093, acc = 100.00%) AAE: (mse = 0.069943, b_ce = 0.059102)\n",
      "Epoch: 2370 Disc: (loss = 0.000037, acc = 100.00%) AAE: (mse = 0.070892, b_ce = 0.060081)\n",
      "Epoch: 2380 Disc: (loss = 0.000181, acc = 100.00%) AAE: (mse = 0.070784, b_ce = 0.060061)\n",
      "Epoch: 2390 Disc: (loss = 0.000018, acc = 100.00%) AAE: (mse = 0.070587, b_ce = 0.059805)\n",
      "Epoch: 2400 Disc: (loss = 0.000024, acc = 100.00%) AAE: (mse = 0.069248, b_ce = 0.058605)\n",
      "Epoch: 2410 Disc: (loss = 0.000249, acc = 100.00%) AAE: (mse = 0.070609, b_ce = 0.059642)\n",
      "Epoch: 2420 Disc: (loss = 0.000101, acc = 100.00%) AAE: (mse = 0.071181, b_ce = 0.060443)\n",
      "Epoch: 2430 Disc: (loss = 0.000027, acc = 100.00%) AAE: (mse = 0.071608, b_ce = 0.060902)\n",
      "Epoch: 2440 Disc: (loss = 0.000039, acc = 100.00%) AAE: (mse = 0.071713, b_ce = 0.061387)\n",
      "Epoch: 2450 Disc: (loss = 0.000369, acc = 100.00%) AAE: (mse = 0.072706, b_ce = 0.062198)\n",
      "Epoch: 2460 Disc: (loss = 0.000038, acc = 100.00%) AAE: (mse = 0.072563, b_ce = 0.061589)\n",
      "Epoch: 2470 Disc: (loss = 0.000015, acc = 100.00%) AAE: (mse = 0.070610, b_ce = 0.059563)\n",
      "Epoch: 2480 Disc: (loss = 0.000016, acc = 100.00%) AAE: (mse = 0.069494, b_ce = 0.058484)\n",
      "Epoch: 2490 Disc: (loss = 0.000031, acc = 100.00%) AAE: (mse = 0.072726, b_ce = 0.061780)\n",
      "Epoch: 2500 Disc: (loss = 0.000019, acc = 100.00%) AAE: (mse = 0.069367, b_ce = 0.058587)\n"
     ]
    },
    {
     "name": "stderr",
     "output_type": "stream",
     "text": [
      "Clipping input data to the valid range for imshow with RGB data ([0..1] for floats or [0..255] for integers).\n",
      "Clipping input data to the valid range for imshow with RGB data ([0..1] for floats or [0..255] for integers).\n",
      "Clipping input data to the valid range for imshow with RGB data ([0..1] for floats or [0..255] for integers).\n",
      "Clipping input data to the valid range for imshow with RGB data ([0..1] for floats or [0..255] for integers).\n",
      "Clipping input data to the valid range for imshow with RGB data ([0..1] for floats or [0..255] for integers).\n"
     ]
    },
    {
     "name": "stdout",
     "output_type": "stream",
     "text": [
      "Epoch: 2510 Disc: (loss = 0.000072, acc = 100.00%) AAE: (mse = 0.072596, b_ce = 0.062000)\n",
      "Epoch: 2520 Disc: (loss = 0.000043, acc = 100.00%) AAE: (mse = 0.069692, b_ce = 0.058692)\n",
      "Epoch: 2530 Disc: (loss = 0.000013, acc = 100.00%) AAE: (mse = 0.071141, b_ce = 0.059955)\n",
      "Epoch: 2540 Disc: (loss = 0.000048, acc = 100.00%) AAE: (mse = 0.072716, b_ce = 0.061366)\n",
      "Epoch: 2550 Disc: (loss = 0.000319, acc = 100.00%) AAE: (mse = 0.072901, b_ce = 0.062876)\n",
      "Epoch: 2560 Disc: (loss = 0.000060, acc = 100.00%) AAE: (mse = 0.072359, b_ce = 0.062068)\n",
      "Epoch: 2570 Disc: (loss = 0.000022, acc = 100.00%) AAE: (mse = 0.070390, b_ce = 0.059460)\n",
      "Epoch: 2580 Disc: (loss = 0.000013, acc = 100.00%) AAE: (mse = 0.072104, b_ce = 0.060988)\n",
      "Epoch: 2590 Disc: (loss = 0.000110, acc = 100.00%) AAE: (mse = 0.072767, b_ce = 0.061926)\n",
      "Epoch: 2600 Disc: (loss = 0.000026, acc = 100.00%) AAE: (mse = 0.069978, b_ce = 0.059183)\n",
      "Epoch: 2610 Disc: (loss = 0.000075, acc = 100.00%) AAE: (mse = 0.070971, b_ce = 0.060737)\n",
      "Epoch: 2620 Disc: (loss = 0.000137, acc = 100.00%) AAE: (mse = 0.070907, b_ce = 0.060391)\n",
      "Epoch: 2630 Disc: (loss = 0.000112, acc = 100.00%) AAE: (mse = 0.070763, b_ce = 0.059974)\n",
      "Epoch: 2640 Disc: (loss = 0.000026, acc = 100.00%) AAE: (mse = 0.072357, b_ce = 0.061038)\n",
      "Epoch: 2650 Disc: (loss = 0.000014, acc = 100.00%) AAE: (mse = 0.072876, b_ce = 0.061685)\n",
      "Epoch: 2660 Disc: (loss = 0.000006, acc = 100.00%) AAE: (mse = 0.075783, b_ce = 0.063685)\n",
      "Epoch: 2670 Disc: (loss = 0.000014, acc = 100.00%) AAE: (mse = 0.071041, b_ce = 0.059488)\n",
      "Epoch: 2680 Disc: (loss = 0.000488, acc = 100.00%) AAE: (mse = 0.071536, b_ce = 0.060222)\n",
      "Epoch: 2690 Disc: (loss = 0.000069, acc = 100.00%) AAE: (mse = 0.071442, b_ce = 0.061601)\n",
      "Epoch: 2700 Disc: (loss = 0.000198, acc = 100.00%) AAE: (mse = 0.070715, b_ce = 0.060164)\n",
      "Epoch: 2710 Disc: (loss = 0.000063, acc = 100.00%) AAE: (mse = 0.072787, b_ce = 0.061820)\n",
      "Epoch: 2720 Disc: (loss = 0.000485, acc = 100.00%) AAE: (mse = 0.070421, b_ce = 0.060170)\n",
      "Epoch: 2730 Disc: (loss = 0.000053, acc = 100.00%) AAE: (mse = 0.072388, b_ce = 0.060731)\n",
      "Epoch: 2740 Disc: (loss = 0.000117, acc = 100.00%) AAE: (mse = 0.071418, b_ce = 0.059899)\n",
      "Epoch: 2750 Disc: (loss = 0.000073, acc = 100.00%) AAE: (mse = 0.073529, b_ce = 0.061489)\n",
      "Epoch: 2760 Disc: (loss = 0.000128, acc = 100.00%) AAE: (mse = 0.070842, b_ce = 0.059950)\n",
      "Epoch: 2770 Disc: (loss = 0.000038, acc = 100.00%) AAE: (mse = 0.070241, b_ce = 0.058930)\n",
      "Epoch: 2780 Disc: (loss = 0.000010, acc = 100.00%) AAE: (mse = 0.072760, b_ce = 0.060490)\n",
      "Epoch: 2790 Disc: (loss = 0.000209, acc = 100.00%) AAE: (mse = 0.068838, b_ce = 0.057882)\n",
      "Epoch: 2800 Disc: (loss = 0.000011, acc = 100.00%) AAE: (mse = 0.075446, b_ce = 0.063714)\n",
      "Epoch: 2810 Disc: (loss = 0.000028, acc = 100.00%) AAE: (mse = 0.071936, b_ce = 0.060651)\n",
      "Epoch: 2820 Disc: (loss = 0.000030, acc = 100.00%) AAE: (mse = 0.069872, b_ce = 0.058580)\n",
      "Epoch: 2830 Disc: (loss = 0.000012, acc = 100.00%) AAE: (mse = 0.070737, b_ce = 0.059008)\n",
      "Epoch: 2840 Disc: (loss = 0.000101, acc = 100.00%) AAE: (mse = 0.068144, b_ce = 0.056719)\n",
      "Epoch: 2850 Disc: (loss = 0.000020, acc = 100.00%) AAE: (mse = 0.070403, b_ce = 0.059116)\n",
      "Epoch: 2860 Disc: (loss = 0.000056, acc = 100.00%) AAE: (mse = 0.070083, b_ce = 0.059849)\n",
      "Epoch: 2870 Disc: (loss = 0.000063, acc = 100.00%) AAE: (mse = 0.072023, b_ce = 0.061291)\n",
      "Epoch: 2880 Disc: (loss = 0.000031, acc = 100.00%) AAE: (mse = 0.069423, b_ce = 0.058890)\n",
      "Epoch: 2890 Disc: (loss = 0.000018, acc = 100.00%) AAE: (mse = 0.071114, b_ce = 0.060345)\n",
      "Epoch: 2900 Disc: (loss = 0.000014, acc = 100.00%) AAE: (mse = 0.071983, b_ce = 0.060943)\n",
      "Epoch: 2910 Disc: (loss = 0.000009, acc = 100.00%) AAE: (mse = 0.071113, b_ce = 0.059636)\n",
      "Epoch: 2920 Disc: (loss = 0.000019, acc = 100.00%) AAE: (mse = 0.071462, b_ce = 0.060357)\n",
      "Epoch: 2930 Disc: (loss = 0.000014, acc = 100.00%) AAE: (mse = 0.070777, b_ce = 0.059749)\n",
      "Epoch: 2940 Disc: (loss = 0.000005, acc = 100.00%) AAE: (mse = 0.071253, b_ce = 0.058398)\n",
      "Epoch: 2950 Disc: (loss = 0.000056, acc = 100.00%) AAE: (mse = 0.069223, b_ce = 0.059308)\n",
      "Epoch: 2960 Disc: (loss = 0.000022, acc = 100.00%) AAE: (mse = 0.071677, b_ce = 0.060751)\n",
      "Epoch: 2970 Disc: (loss = 0.000025, acc = 100.00%) AAE: (mse = 0.072211, b_ce = 0.061348)\n",
      "Epoch: 2980 Disc: (loss = 0.000013, acc = 100.00%) AAE: (mse = 0.073581, b_ce = 0.062619)\n",
      "Epoch: 2990 Disc: (loss = 0.000004, acc = 100.00%) AAE: (mse = 0.073272, b_ce = 0.060901)\n",
      "Epoch: 3000 Disc: (loss = 0.000025, acc = 100.00%) AAE: (mse = 0.071216, b_ce = 0.060658)\n"
     ]
    },
    {
     "name": "stderr",
     "output_type": "stream",
     "text": [
      "Clipping input data to the valid range for imshow with RGB data ([0..1] for floats or [0..255] for integers).\n",
      "Clipping input data to the valid range for imshow with RGB data ([0..1] for floats or [0..255] for integers).\n",
      "Clipping input data to the valid range for imshow with RGB data ([0..1] for floats or [0..255] for integers).\n",
      "Clipping input data to the valid range for imshow with RGB data ([0..1] for floats or [0..255] for integers).\n",
      "Clipping input data to the valid range for imshow with RGB data ([0..1] for floats or [0..255] for integers).\n"
     ]
    },
    {
     "name": "stdout",
     "output_type": "stream",
     "text": [
      "Epoch: 3010 Disc: (loss = 0.000046, acc = 100.00%) AAE: (mse = 0.074366, b_ce = 0.064006)\n",
      "Epoch: 3020 Disc: (loss = 0.000014, acc = 100.00%) AAE: (mse = 0.071777, b_ce = 0.059752)\n",
      "Epoch: 3030 Disc: (loss = 0.000091, acc = 100.00%) AAE: (mse = 0.071796, b_ce = 0.060221)\n",
      "Epoch: 3040 Disc: (loss = 0.000281, acc = 100.00%) AAE: (mse = 0.068758, b_ce = 0.058589)\n",
      "Epoch: 3050 Disc: (loss = 0.000022, acc = 100.00%) AAE: (mse = 0.071514, b_ce = 0.060159)\n",
      "Epoch: 3060 Disc: (loss = 0.000008, acc = 100.00%) AAE: (mse = 0.073212, b_ce = 0.061636)\n",
      "Epoch: 3070 Disc: (loss = 0.000010, acc = 100.00%) AAE: (mse = 0.073520, b_ce = 0.061763)\n",
      "Epoch: 3080 Disc: (loss = 0.000017, acc = 100.00%) AAE: (mse = 0.070235, b_ce = 0.059346)\n",
      "Epoch: 3090 Disc: (loss = 0.000075, acc = 100.00%) AAE: (mse = 0.072783, b_ce = 0.061699)\n",
      "Epoch: 3100 Disc: (loss = 0.000006, acc = 100.00%) AAE: (mse = 0.069967, b_ce = 0.058383)\n",
      "Epoch: 3110 Disc: (loss = 0.000145, acc = 100.00%) AAE: (mse = 0.071111, b_ce = 0.059477)\n",
      "Epoch: 3120 Disc: (loss = 0.000150, acc = 100.00%) AAE: (mse = 0.074160, b_ce = 0.062366)\n",
      "Epoch: 3130 Disc: (loss = 0.000052, acc = 100.00%) AAE: (mse = 0.070944, b_ce = 0.059711)\n",
      "Epoch: 3140 Disc: (loss = 0.000007, acc = 100.00%) AAE: (mse = 0.072093, b_ce = 0.060186)\n",
      "Epoch: 3150 Disc: (loss = 0.000166, acc = 100.00%) AAE: (mse = 0.069715, b_ce = 0.058183)\n",
      "Epoch: 3160 Disc: (loss = 0.000022, acc = 100.00%) AAE: (mse = 0.071850, b_ce = 0.060882)\n",
      "Epoch: 3170 Disc: (loss = 0.000232, acc = 100.00%) AAE: (mse = 0.073533, b_ce = 0.062689)\n",
      "Epoch: 3180 Disc: (loss = 0.000163, acc = 100.00%) AAE: (mse = 0.073274, b_ce = 0.061638)\n",
      "Epoch: 3190 Disc: (loss = 0.000023, acc = 100.00%) AAE: (mse = 0.072300, b_ce = 0.060250)\n",
      "Epoch: 3200 Disc: (loss = 0.000009, acc = 100.00%) AAE: (mse = 0.074276, b_ce = 0.061922)\n",
      "Epoch: 3210 Disc: (loss = 0.000017, acc = 100.00%) AAE: (mse = 0.070058, b_ce = 0.058903)\n",
      "Epoch: 3220 Disc: (loss = 0.000009, acc = 100.00%) AAE: (mse = 0.072807, b_ce = 0.061265)\n",
      "Epoch: 3230 Disc: (loss = 0.000120, acc = 100.00%) AAE: (mse = 0.071086, b_ce = 0.060022)\n",
      "Epoch: 3240 Disc: (loss = 0.000276, acc = 100.00%) AAE: (mse = 0.072671, b_ce = 0.059370)\n",
      "Epoch: 3250 Disc: (loss = 0.000771, acc = 99.90%) AAE: (mse = 0.070322, b_ce = 0.059414)\n",
      "Epoch: 3260 Disc: (loss = 0.003083, acc = 99.90%) AAE: (mse = 0.067949, b_ce = 0.058804)\n",
      "Epoch: 3270 Disc: (loss = 0.000085, acc = 100.00%) AAE: (mse = 0.068920, b_ce = 0.057579)\n",
      "Epoch: 3280 Disc: (loss = 0.000191, acc = 100.00%) AAE: (mse = 0.072654, b_ce = 0.061622)\n",
      "Epoch: 3290 Disc: (loss = 0.000010, acc = 100.00%) AAE: (mse = 0.071768, b_ce = 0.059989)\n",
      "Epoch: 3300 Disc: (loss = 0.000054, acc = 100.00%) AAE: (mse = 0.071939, b_ce = 0.059631)\n",
      "Epoch: 3310 Disc: (loss = 0.000013, acc = 100.00%) AAE: (mse = 0.072790, b_ce = 0.060810)\n",
      "Epoch: 3320 Disc: (loss = 0.000014, acc = 100.00%) AAE: (mse = 0.073135, b_ce = 0.060222)\n",
      "Epoch: 3330 Disc: (loss = 0.000005, acc = 100.00%) AAE: (mse = 0.072135, b_ce = 0.059210)\n",
      "Epoch: 3340 Disc: (loss = 0.000058, acc = 100.00%) AAE: (mse = 0.073840, b_ce = 0.061338)\n",
      "Epoch: 3350 Disc: (loss = 0.000039, acc = 100.00%) AAE: (mse = 0.072602, b_ce = 0.061941)\n",
      "Epoch: 3360 Disc: (loss = 0.000731, acc = 100.00%) AAE: (mse = 0.072915, b_ce = 0.061474)\n",
      "Epoch: 3370 Disc: (loss = 0.000075, acc = 100.00%) AAE: (mse = 0.073462, b_ce = 0.060693)\n",
      "Epoch: 3380 Disc: (loss = 0.000064, acc = 100.00%) AAE: (mse = 0.074004, b_ce = 0.061537)\n",
      "Epoch: 3390 Disc: (loss = 0.000094, acc = 100.00%) AAE: (mse = 0.072666, b_ce = 0.061959)\n",
      "Epoch: 3400 Disc: (loss = 0.000468, acc = 100.00%) AAE: (mse = 0.073888, b_ce = 0.062721)\n",
      "Epoch: 3410 Disc: (loss = 0.000136, acc = 100.00%) AAE: (mse = 0.074602, b_ce = 0.062985)\n",
      "Epoch: 3420 Disc: (loss = 0.000014, acc = 100.00%) AAE: (mse = 0.071423, b_ce = 0.059226)\n",
      "Epoch: 3430 Disc: (loss = 0.001245, acc = 99.90%) AAE: (mse = 0.074313, b_ce = 0.061300)\n",
      "Epoch: 3440 Disc: (loss = 0.001325, acc = 99.90%) AAE: (mse = 0.070642, b_ce = 0.059405)\n",
      "Epoch: 3450 Disc: (loss = 0.002716, acc = 99.90%) AAE: (mse = 0.073962, b_ce = 0.060686)\n",
      "Epoch: 3460 Disc: (loss = 0.000002, acc = 100.00%) AAE: (mse = 0.074308, b_ce = 0.060886)\n",
      "Epoch: 3470 Disc: (loss = 0.000133, acc = 100.00%) AAE: (mse = 0.073433, b_ce = 0.060265)\n",
      "Epoch: 3480 Disc: (loss = 0.000014, acc = 100.00%) AAE: (mse = 0.072522, b_ce = 0.059363)\n",
      "Epoch: 3490 Disc: (loss = 0.000040, acc = 100.00%) AAE: (mse = 0.075323, b_ce = 0.062497)\n",
      "Epoch: 3500 Disc: (loss = 0.003336, acc = 99.80%) AAE: (mse = 0.071669, b_ce = 0.061713)\n"
     ]
    },
    {
     "name": "stderr",
     "output_type": "stream",
     "text": [
      "Clipping input data to the valid range for imshow with RGB data ([0..1] for floats or [0..255] for integers).\n",
      "Clipping input data to the valid range for imshow with RGB data ([0..1] for floats or [0..255] for integers).\n",
      "Clipping input data to the valid range for imshow with RGB data ([0..1] for floats or [0..255] for integers).\n",
      "Clipping input data to the valid range for imshow with RGB data ([0..1] for floats or [0..255] for integers).\n",
      "Clipping input data to the valid range for imshow with RGB data ([0..1] for floats or [0..255] for integers).\n"
     ]
    },
    {
     "name": "stdout",
     "output_type": "stream",
     "text": [
      "Epoch: 3510 Disc: (loss = 0.000214, acc = 100.00%) AAE: (mse = 0.071571, b_ce = 0.059680)\n",
      "Epoch: 3520 Disc: (loss = 0.000351, acc = 100.00%) AAE: (mse = 0.071792, b_ce = 0.060556)\n",
      "Epoch: 3530 Disc: (loss = 0.000011, acc = 100.00%) AAE: (mse = 0.072717, b_ce = 0.060438)\n",
      "Epoch: 3540 Disc: (loss = 0.000027, acc = 100.00%) AAE: (mse = 0.073604, b_ce = 0.061792)\n",
      "Epoch: 3550 Disc: (loss = 0.000006, acc = 100.00%) AAE: (mse = 0.072581, b_ce = 0.060310)\n",
      "Epoch: 3560 Disc: (loss = 0.000013, acc = 100.00%) AAE: (mse = 0.069740, b_ce = 0.058131)\n",
      "Epoch: 3570 Disc: (loss = 0.000830, acc = 100.00%) AAE: (mse = 0.071081, b_ce = 0.059449)\n",
      "Epoch: 3580 Disc: (loss = 0.000003, acc = 100.00%) AAE: (mse = 0.072164, b_ce = 0.058291)\n",
      "Epoch: 3590 Disc: (loss = 0.000038, acc = 100.00%) AAE: (mse = 0.074044, b_ce = 0.060154)\n",
      "Epoch: 3600 Disc: (loss = 0.000040, acc = 100.00%) AAE: (mse = 0.073203, b_ce = 0.061076)\n",
      "Epoch: 3610 Disc: (loss = 0.000018, acc = 100.00%) AAE: (mse = 0.074046, b_ce = 0.061510)\n",
      "Epoch: 3620 Disc: (loss = 0.000020, acc = 100.00%) AAE: (mse = 0.074691, b_ce = 0.062192)\n",
      "Epoch: 3630 Disc: (loss = 0.000005, acc = 100.00%) AAE: (mse = 0.073240, b_ce = 0.059564)\n",
      "Epoch: 3640 Disc: (loss = 0.000030, acc = 100.00%) AAE: (mse = 0.070464, b_ce = 0.058470)\n",
      "Epoch: 3650 Disc: (loss = 0.000041, acc = 100.00%) AAE: (mse = 0.070155, b_ce = 0.057581)\n",
      "Epoch: 3660 Disc: (loss = 0.000111, acc = 100.00%) AAE: (mse = 0.073053, b_ce = 0.058611)\n",
      "Epoch: 3670 Disc: (loss = 0.000048, acc = 100.00%) AAE: (mse = 0.074156, b_ce = 0.061222)\n",
      "Epoch: 3680 Disc: (loss = 0.000003, acc = 100.00%) AAE: (mse = 0.071296, b_ce = 0.058688)\n",
      "Epoch: 3690 Disc: (loss = 0.000166, acc = 100.00%) AAE: (mse = 0.067309, b_ce = 0.056094)\n",
      "Epoch: 3700 Disc: (loss = 0.000183, acc = 100.00%) AAE: (mse = 0.072740, b_ce = 0.061164)\n",
      "Epoch: 3710 Disc: (loss = 0.000097, acc = 100.00%) AAE: (mse = 0.070917, b_ce = 0.060109)\n",
      "Epoch: 3720 Disc: (loss = 0.000005, acc = 100.00%) AAE: (mse = 0.071221, b_ce = 0.059368)\n",
      "Epoch: 3730 Disc: (loss = 0.000010, acc = 100.00%) AAE: (mse = 0.071305, b_ce = 0.058822)\n",
      "Epoch: 3740 Disc: (loss = 0.000002, acc = 100.00%) AAE: (mse = 0.075123, b_ce = 0.062092)\n",
      "Epoch: 3750 Disc: (loss = 0.000084, acc = 100.00%) AAE: (mse = 0.070391, b_ce = 0.059117)\n",
      "Epoch: 3760 Disc: (loss = 0.000065, acc = 100.00%) AAE: (mse = 0.073443, b_ce = 0.060942)\n",
      "Epoch: 3770 Disc: (loss = 0.000008, acc = 100.00%) AAE: (mse = 0.074596, b_ce = 0.062231)\n",
      "Epoch: 3780 Disc: (loss = 0.000042, acc = 100.00%) AAE: (mse = 0.075461, b_ce = 0.063062)\n",
      "Epoch: 3790 Disc: (loss = 0.000028, acc = 100.00%) AAE: (mse = 0.071066, b_ce = 0.058555)\n",
      "Epoch: 3800 Disc: (loss = 0.001070, acc = 99.90%) AAE: (mse = 0.070920, b_ce = 0.058652)\n",
      "Epoch: 3810 Disc: (loss = 0.000089, acc = 100.00%) AAE: (mse = 0.071973, b_ce = 0.060548)\n",
      "Epoch: 3820 Disc: (loss = 0.000004, acc = 100.00%) AAE: (mse = 0.072330, b_ce = 0.059420)\n",
      "Epoch: 3830 Disc: (loss = 0.000028, acc = 100.00%) AAE: (mse = 0.073591, b_ce = 0.060693)\n",
      "Epoch: 3840 Disc: (loss = 0.000008, acc = 100.00%) AAE: (mse = 0.070287, b_ce = 0.058590)\n",
      "Epoch: 3850 Disc: (loss = 0.000064, acc = 100.00%) AAE: (mse = 0.073188, b_ce = 0.061232)\n",
      "Epoch: 3860 Disc: (loss = 0.000036, acc = 100.00%) AAE: (mse = 0.073569, b_ce = 0.061374)\n",
      "Epoch: 3870 Disc: (loss = 0.000013, acc = 100.00%) AAE: (mse = 0.071504, b_ce = 0.059798)\n",
      "Epoch: 3880 Disc: (loss = 0.000005, acc = 100.00%) AAE: (mse = 0.073622, b_ce = 0.061179)\n",
      "Epoch: 3890 Disc: (loss = 0.000040, acc = 100.00%) AAE: (mse = 0.073665, b_ce = 0.061136)\n",
      "Epoch: 3900 Disc: (loss = 0.000326, acc = 100.00%) AAE: (mse = 0.072699, b_ce = 0.060482)\n",
      "Epoch: 3910 Disc: (loss = 0.000017, acc = 100.00%) AAE: (mse = 0.069992, b_ce = 0.058715)\n",
      "Epoch: 3920 Disc: (loss = 0.000011, acc = 100.00%) AAE: (mse = 0.069592, b_ce = 0.057110)\n",
      "Epoch: 3930 Disc: (loss = 0.000017, acc = 100.00%) AAE: (mse = 0.072703, b_ce = 0.061052)\n",
      "Epoch: 3940 Disc: (loss = 0.000088, acc = 100.00%) AAE: (mse = 0.068640, b_ce = 0.056711)\n",
      "Epoch: 3950 Disc: (loss = 0.000573, acc = 100.00%) AAE: (mse = 0.074142, b_ce = 0.061540)\n",
      "Epoch: 3960 Disc: (loss = 0.000032, acc = 100.00%) AAE: (mse = 0.071742, b_ce = 0.058391)\n",
      "Epoch: 3970 Disc: (loss = 0.000333, acc = 100.00%) AAE: (mse = 0.075895, b_ce = 0.062890)\n",
      "Epoch: 3980 Disc: (loss = 0.000006, acc = 100.00%) AAE: (mse = 0.071175, b_ce = 0.058813)\n",
      "Epoch: 3990 Disc: (loss = 0.000002, acc = 100.00%) AAE: (mse = 0.073667, b_ce = 0.060690)\n",
      "Epoch: 4000 Disc: (loss = 0.000067, acc = 100.00%) AAE: (mse = 0.072158, b_ce = 0.060457)\n"
     ]
    },
    {
     "name": "stderr",
     "output_type": "stream",
     "text": [
      "Clipping input data to the valid range for imshow with RGB data ([0..1] for floats or [0..255] for integers).\n",
      "Clipping input data to the valid range for imshow with RGB data ([0..1] for floats or [0..255] for integers).\n",
      "Clipping input data to the valid range for imshow with RGB data ([0..1] for floats or [0..255] for integers).\n",
      "Clipping input data to the valid range for imshow with RGB data ([0..1] for floats or [0..255] for integers).\n",
      "Clipping input data to the valid range for imshow with RGB data ([0..1] for floats or [0..255] for integers).\n",
      "Clipping input data to the valid range for imshow with RGB data ([0..1] for floats or [0..255] for integers).\n",
      "Clipping input data to the valid range for imshow with RGB data ([0..1] for floats or [0..255] for integers).\n",
      "Clipping input data to the valid range for imshow with RGB data ([0..1] for floats or [0..255] for integers).\n"
     ]
    },
    {
     "name": "stdout",
     "output_type": "stream",
     "text": [
      "Epoch: 4010 Disc: (loss = 0.000078, acc = 100.00%) AAE: (mse = 0.070586, b_ce = 0.058539)\n",
      "Epoch: 4020 Disc: (loss = 0.005252, acc = 99.90%) AAE: (mse = 0.072420, b_ce = 0.061099)\n",
      "Epoch: 4030 Disc: (loss = 0.000041, acc = 100.00%) AAE: (mse = 0.070800, b_ce = 0.059222)\n",
      "Epoch: 4040 Disc: (loss = 0.000008, acc = 100.00%) AAE: (mse = 0.071262, b_ce = 0.058659)\n",
      "Epoch: 4050 Disc: (loss = 0.000125, acc = 100.00%) AAE: (mse = 0.074140, b_ce = 0.061207)\n",
      "Epoch: 4060 Disc: (loss = 0.000003, acc = 100.00%) AAE: (mse = 0.076477, b_ce = 0.063124)\n",
      "Epoch: 4070 Disc: (loss = 0.000095, acc = 100.00%) AAE: (mse = 0.068986, b_ce = 0.057522)\n",
      "Epoch: 4080 Disc: (loss = 0.000068, acc = 100.00%) AAE: (mse = 0.072354, b_ce = 0.060644)\n",
      "Epoch: 4090 Disc: (loss = 0.000029, acc = 100.00%) AAE: (mse = 0.072541, b_ce = 0.057904)\n",
      "Epoch: 4100 Disc: (loss = 0.000006, acc = 100.00%) AAE: (mse = 0.074626, b_ce = 0.061295)\n",
      "Epoch: 4110 Disc: (loss = 0.000008, acc = 100.00%) AAE: (mse = 0.075512, b_ce = 0.062296)\n",
      "Epoch: 4120 Disc: (loss = 0.000018, acc = 100.00%) AAE: (mse = 0.073998, b_ce = 0.061647)\n",
      "Epoch: 4130 Disc: (loss = 0.000028, acc = 100.00%) AAE: (mse = 0.073011, b_ce = 0.059894)\n",
      "Epoch: 4140 Disc: (loss = 0.000057, acc = 100.00%) AAE: (mse = 0.074069, b_ce = 0.060894)\n",
      "Epoch: 4150 Disc: (loss = 0.000089, acc = 100.00%) AAE: (mse = 0.071290, b_ce = 0.059086)\n",
      "Epoch: 4160 Disc: (loss = 0.002919, acc = 99.90%) AAE: (mse = 0.075988, b_ce = 0.061073)\n",
      "Epoch: 4170 Disc: (loss = 0.000001, acc = 100.00%) AAE: (mse = 0.076307, b_ce = 0.061282)\n",
      "Epoch: 4180 Disc: (loss = 0.000072, acc = 100.00%) AAE: (mse = 0.073721, b_ce = 0.060805)\n",
      "Epoch: 4190 Disc: (loss = 0.000698, acc = 100.00%) AAE: (mse = 0.072983, b_ce = 0.060522)\n",
      "Epoch: 4200 Disc: (loss = 0.000036, acc = 100.00%) AAE: (mse = 0.073079, b_ce = 0.061218)\n",
      "Epoch: 4210 Disc: (loss = 0.000067, acc = 100.00%) AAE: (mse = 0.073215, b_ce = 0.060351)\n",
      "Epoch: 4220 Disc: (loss = 0.000026, acc = 100.00%) AAE: (mse = 0.073160, b_ce = 0.060327)\n",
      "Epoch: 4230 Disc: (loss = 0.000009, acc = 100.00%) AAE: (mse = 0.073396, b_ce = 0.059844)\n",
      "Epoch: 4240 Disc: (loss = 0.000001, acc = 100.00%) AAE: (mse = 0.074268, b_ce = 0.060891)\n",
      "Epoch: 4250 Disc: (loss = 0.000002, acc = 100.00%) AAE: (mse = 0.074599, b_ce = 0.060394)\n",
      "Epoch: 4260 Disc: (loss = 0.001180, acc = 99.90%) AAE: (mse = 0.073918, b_ce = 0.062365)\n",
      "Epoch: 4270 Disc: (loss = 0.000492, acc = 100.00%) AAE: (mse = 0.072013, b_ce = 0.060851)\n",
      "Epoch: 4280 Disc: (loss = 0.000117, acc = 100.00%) AAE: (mse = 0.071013, b_ce = 0.059569)\n",
      "Epoch: 4290 Disc: (loss = 0.000031, acc = 100.00%) AAE: (mse = 0.071289, b_ce = 0.058684)\n",
      "Epoch: 4300 Disc: (loss = 0.000238, acc = 100.00%) AAE: (mse = 0.073466, b_ce = 0.060983)\n",
      "Epoch: 4310 Disc: (loss = 0.000008, acc = 100.00%) AAE: (mse = 0.071440, b_ce = 0.059151)\n",
      "Epoch: 4320 Disc: (loss = 0.000005, acc = 100.00%) AAE: (mse = 0.071385, b_ce = 0.058912)\n",
      "Epoch: 4330 Disc: (loss = 0.000298, acc = 100.00%) AAE: (mse = 0.073541, b_ce = 0.060357)\n",
      "Epoch: 4340 Disc: (loss = 0.000012, acc = 100.00%) AAE: (mse = 0.076398, b_ce = 0.061803)\n",
      "Epoch: 4350 Disc: (loss = 0.000003, acc = 100.00%) AAE: (mse = 0.075238, b_ce = 0.060840)\n",
      "Epoch: 4360 Disc: (loss = 0.000625, acc = 100.00%) AAE: (mse = 0.071590, b_ce = 0.059186)\n",
      "Epoch: 4370 Disc: (loss = 0.000023, acc = 100.00%) AAE: (mse = 0.073688, b_ce = 0.060167)\n",
      "Epoch: 4380 Disc: (loss = 0.002350, acc = 99.90%) AAE: (mse = 0.070048, b_ce = 0.057897)\n",
      "Epoch: 4390 Disc: (loss = 0.000005, acc = 100.00%) AAE: (mse = 0.070656, b_ce = 0.057455)\n",
      "Epoch: 4400 Disc: (loss = 0.000008, acc = 100.00%) AAE: (mse = 0.073149, b_ce = 0.060293)\n",
      "Epoch: 4410 Disc: (loss = 0.000006, acc = 100.00%) AAE: (mse = 0.070727, b_ce = 0.057528)\n",
      "Epoch: 4420 Disc: (loss = 0.000004, acc = 100.00%) AAE: (mse = 0.072671, b_ce = 0.058919)\n",
      "Epoch: 4430 Disc: (loss = 0.000019, acc = 100.00%) AAE: (mse = 0.073497, b_ce = 0.059398)\n",
      "Epoch: 4440 Disc: (loss = 0.000066, acc = 100.00%) AAE: (mse = 0.075068, b_ce = 0.060927)\n",
      "Epoch: 4450 Disc: (loss = 0.000130, acc = 100.00%) AAE: (mse = 0.073913, b_ce = 0.061944)\n",
      "Epoch: 4460 Disc: (loss = 0.000005, acc = 100.00%) AAE: (mse = 0.072028, b_ce = 0.058968)\n",
      "Epoch: 4470 Disc: (loss = 0.000130, acc = 100.00%) AAE: (mse = 0.071939, b_ce = 0.058888)\n",
      "Epoch: 4480 Disc: (loss = 0.000208, acc = 100.00%) AAE: (mse = 0.071193, b_ce = 0.057717)\n",
      "Epoch: 4490 Disc: (loss = 0.000018, acc = 100.00%) AAE: (mse = 0.073045, b_ce = 0.060061)\n",
      "Epoch: 4500 Disc: (loss = 0.000033, acc = 100.00%) AAE: (mse = 0.074998, b_ce = 0.061431)\n"
     ]
    },
    {
     "name": "stderr",
     "output_type": "stream",
     "text": [
      "Clipping input data to the valid range for imshow with RGB data ([0..1] for floats or [0..255] for integers).\n",
      "Clipping input data to the valid range for imshow with RGB data ([0..1] for floats or [0..255] for integers).\n",
      "Clipping input data to the valid range for imshow with RGB data ([0..1] for floats or [0..255] for integers).\n",
      "Clipping input data to the valid range for imshow with RGB data ([0..1] for floats or [0..255] for integers).\n",
      "Clipping input data to the valid range for imshow with RGB data ([0..1] for floats or [0..255] for integers).\n",
      "Clipping input data to the valid range for imshow with RGB data ([0..1] for floats or [0..255] for integers).\n",
      "Clipping input data to the valid range for imshow with RGB data ([0..1] for floats or [0..255] for integers).\n",
      "Clipping input data to the valid range for imshow with RGB data ([0..1] for floats or [0..255] for integers).\n"
     ]
    },
    {
     "name": "stdout",
     "output_type": "stream",
     "text": [
      "Epoch: 4510 Disc: (loss = 0.000005, acc = 100.00%) AAE: (mse = 0.072820, b_ce = 0.059125)\n",
      "Epoch: 4520 Disc: (loss = 0.000024, acc = 100.00%) AAE: (mse = 0.071799, b_ce = 0.058074)\n",
      "Epoch: 4530 Disc: (loss = 0.000052, acc = 100.00%) AAE: (mse = 0.075237, b_ce = 0.061541)\n",
      "Epoch: 4540 Disc: (loss = 0.000034, acc = 100.00%) AAE: (mse = 0.074039, b_ce = 0.060686)\n",
      "Epoch: 4550 Disc: (loss = 0.000005, acc = 100.00%) AAE: (mse = 0.074262, b_ce = 0.061401)\n",
      "Epoch: 4560 Disc: (loss = 0.000011, acc = 100.00%) AAE: (mse = 0.073651, b_ce = 0.060003)\n",
      "Epoch: 4570 Disc: (loss = 0.000012, acc = 100.00%) AAE: (mse = 0.071913, b_ce = 0.058644)\n",
      "Epoch: 4580 Disc: (loss = 0.000068, acc = 100.00%) AAE: (mse = 0.068412, b_ce = 0.056931)\n",
      "Epoch: 4590 Disc: (loss = 0.000015, acc = 100.00%) AAE: (mse = 0.072444, b_ce = 0.060221)\n",
      "Epoch: 4600 Disc: (loss = 0.001010, acc = 99.90%) AAE: (mse = 0.073271, b_ce = 0.060702)\n",
      "Epoch: 4610 Disc: (loss = 0.001505, acc = 99.90%) AAE: (mse = 0.075659, b_ce = 0.063431)\n",
      "Epoch: 4620 Disc: (loss = 0.000241, acc = 100.00%) AAE: (mse = 0.072842, b_ce = 0.060366)\n",
      "Epoch: 4630 Disc: (loss = 0.000015, acc = 100.00%) AAE: (mse = 0.072664, b_ce = 0.059856)\n",
      "Epoch: 4640 Disc: (loss = 0.000004, acc = 100.00%) AAE: (mse = 0.074042, b_ce = 0.061416)\n",
      "Epoch: 4650 Disc: (loss = 0.000017, acc = 100.00%) AAE: (mse = 0.071495, b_ce = 0.059883)\n",
      "Epoch: 4660 Disc: (loss = 0.000020, acc = 100.00%) AAE: (mse = 0.073181, b_ce = 0.060635)\n",
      "Epoch: 4670 Disc: (loss = 0.000033, acc = 100.00%) AAE: (mse = 0.072312, b_ce = 0.059734)\n",
      "Epoch: 4680 Disc: (loss = 0.000022, acc = 100.00%) AAE: (mse = 0.073448, b_ce = 0.061713)\n",
      "Epoch: 4690 Disc: (loss = 0.000015, acc = 100.00%) AAE: (mse = 0.075168, b_ce = 0.063057)\n",
      "Epoch: 4700 Disc: (loss = 0.000009, acc = 100.00%) AAE: (mse = 0.071410, b_ce = 0.059243)\n",
      "Epoch: 4710 Disc: (loss = 0.000105, acc = 100.00%) AAE: (mse = 0.071477, b_ce = 0.058739)\n",
      "Epoch: 4720 Disc: (loss = 0.000249, acc = 100.00%) AAE: (mse = 0.072326, b_ce = 0.059663)\n",
      "Epoch: 4730 Disc: (loss = 0.000028, acc = 100.00%) AAE: (mse = 0.074955, b_ce = 0.061282)\n",
      "Epoch: 4740 Disc: (loss = 0.000003, acc = 100.00%) AAE: (mse = 0.076571, b_ce = 0.062567)\n",
      "Epoch: 4750 Disc: (loss = 0.000007, acc = 100.00%) AAE: (mse = 0.074502, b_ce = 0.061117)\n",
      "Epoch: 4760 Disc: (loss = 0.000004, acc = 100.00%) AAE: (mse = 0.073434, b_ce = 0.059910)\n",
      "Epoch: 4770 Disc: (loss = 0.000007, acc = 100.00%) AAE: (mse = 0.072786, b_ce = 0.059204)\n",
      "Epoch: 4780 Disc: (loss = 0.000149, acc = 100.00%) AAE: (mse = 0.071571, b_ce = 0.058604)\n",
      "Epoch: 4790 Disc: (loss = 0.000077, acc = 100.00%) AAE: (mse = 0.073538, b_ce = 0.060939)\n",
      "Epoch: 4800 Disc: (loss = 0.000225, acc = 100.00%) AAE: (mse = 0.070059, b_ce = 0.059592)\n",
      "Epoch: 4810 Disc: (loss = 0.000009, acc = 100.00%) AAE: (mse = 0.075297, b_ce = 0.062668)\n",
      "Epoch: 4820 Disc: (loss = 0.000004, acc = 100.00%) AAE: (mse = 0.075315, b_ce = 0.061983)\n",
      "Epoch: 4830 Disc: (loss = 0.000285, acc = 100.00%) AAE: (mse = 0.074888, b_ce = 0.062109)\n",
      "Epoch: 4840 Disc: (loss = 0.000021, acc = 100.00%) AAE: (mse = 0.070817, b_ce = 0.058861)\n",
      "Epoch: 4850 Disc: (loss = 0.000103, acc = 100.00%) AAE: (mse = 0.071650, b_ce = 0.059243)\n",
      "Epoch: 4860 Disc: (loss = 0.000015, acc = 100.00%) AAE: (mse = 0.073070, b_ce = 0.060378)\n",
      "Epoch: 4870 Disc: (loss = 0.000058, acc = 100.00%) AAE: (mse = 0.078294, b_ce = 0.064407)\n",
      "Epoch: 4880 Disc: (loss = 0.000004, acc = 100.00%) AAE: (mse = 0.074495, b_ce = 0.060228)\n",
      "Epoch: 4890 Disc: (loss = 0.000008, acc = 100.00%) AAE: (mse = 0.075201, b_ce = 0.062651)\n",
      "Epoch: 4900 Disc: (loss = 0.000666, acc = 100.00%) AAE: (mse = 0.069887, b_ce = 0.057769)\n",
      "Epoch: 4910 Disc: (loss = 0.000003, acc = 100.00%) AAE: (mse = 0.074190, b_ce = 0.061281)\n",
      "Epoch: 4920 Disc: (loss = 0.000331, acc = 100.00%) AAE: (mse = 0.072408, b_ce = 0.060241)\n",
      "Epoch: 4930 Disc: (loss = 0.000031, acc = 100.00%) AAE: (mse = 0.072214, b_ce = 0.059864)\n",
      "Epoch: 4940 Disc: (loss = 0.000028, acc = 100.00%) AAE: (mse = 0.071956, b_ce = 0.060281)\n",
      "Epoch: 4950 Disc: (loss = 0.000012, acc = 100.00%) AAE: (mse = 0.074648, b_ce = 0.061872)\n",
      "Epoch: 4960 Disc: (loss = 0.000008, acc = 100.00%) AAE: (mse = 0.071759, b_ce = 0.058411)\n",
      "Epoch: 4970 Disc: (loss = 0.000003, acc = 100.00%) AAE: (mse = 0.073494, b_ce = 0.060704)\n",
      "Epoch: 4980 Disc: (loss = 0.005224, acc = 99.90%) AAE: (mse = 0.074145, b_ce = 0.060118)\n",
      "Epoch: 4990 Disc: (loss = 0.000032, acc = 100.00%) AAE: (mse = 0.072687, b_ce = 0.059644)\n",
      "Epoch: 5000 Disc: (loss = 0.000062, acc = 100.00%) AAE: (mse = 0.073509, b_ce = 0.061394)\n"
     ]
    },
    {
     "name": "stderr",
     "output_type": "stream",
     "text": [
      "Clipping input data to the valid range for imshow with RGB data ([0..1] for floats or [0..255] for integers).\n",
      "Clipping input data to the valid range for imshow with RGB data ([0..1] for floats or [0..255] for integers).\n",
      "Clipping input data to the valid range for imshow with RGB data ([0..1] for floats or [0..255] for integers).\n",
      "Clipping input data to the valid range for imshow with RGB data ([0..1] for floats or [0..255] for integers).\n",
      "Clipping input data to the valid range for imshow with RGB data ([0..1] for floats or [0..255] for integers).\n",
      "Clipping input data to the valid range for imshow with RGB data ([0..1] for floats or [0..255] for integers).\n",
      "Clipping input data to the valid range for imshow with RGB data ([0..1] for floats or [0..255] for integers).\n",
      "Clipping input data to the valid range for imshow with RGB data ([0..1] for floats or [0..255] for integers).\n",
      "Clipping input data to the valid range for imshow with RGB data ([0..1] for floats or [0..255] for integers).\n",
      "Clipping input data to the valid range for imshow with RGB data ([0..1] for floats or [0..255] for integers).\n",
      "Clipping input data to the valid range for imshow with RGB data ([0..1] for floats or [0..255] for integers).\n",
      "Clipping input data to the valid range for imshow with RGB data ([0..1] for floats or [0..255] for integers).\n",
      "Clipping input data to the valid range for imshow with RGB data ([0..1] for floats or [0..255] for integers).\n"
     ]
    },
    {
     "name": "stdout",
     "output_type": "stream",
     "text": [
      "Epoch: 5010 Disc: (loss = 0.000156, acc = 100.00%) AAE: (mse = 0.072308, b_ce = 0.060505)\n",
      "Epoch: 5020 Disc: (loss = 0.000078, acc = 100.00%) AAE: (mse = 0.072808, b_ce = 0.060267)\n",
      "Epoch: 5030 Disc: (loss = 0.000012, acc = 100.00%) AAE: (mse = 0.073811, b_ce = 0.061134)\n",
      "Epoch: 5040 Disc: (loss = 0.000280, acc = 100.00%) AAE: (mse = 0.072177, b_ce = 0.059962)\n",
      "Epoch: 5050 Disc: (loss = 0.001295, acc = 99.90%) AAE: (mse = 0.069368, b_ce = 0.057918)\n",
      "Epoch: 5060 Disc: (loss = 0.000024, acc = 100.00%) AAE: (mse = 0.072684, b_ce = 0.060589)\n",
      "Epoch: 5070 Disc: (loss = 0.000443, acc = 100.00%) AAE: (mse = 0.071876, b_ce = 0.060631)\n",
      "Epoch: 5080 Disc: (loss = 0.000003, acc = 100.00%) AAE: (mse = 0.075882, b_ce = 0.061300)\n",
      "Epoch: 5090 Disc: (loss = 0.000054, acc = 100.00%) AAE: (mse = 0.073543, b_ce = 0.061095)\n",
      "Epoch: 5100 Disc: (loss = 0.000269, acc = 100.00%) AAE: (mse = 0.070352, b_ce = 0.057349)\n",
      "Epoch: 5110 Disc: (loss = 0.000026, acc = 100.00%) AAE: (mse = 0.073399, b_ce = 0.060614)\n",
      "Epoch: 5120 Disc: (loss = 0.000013, acc = 100.00%) AAE: (mse = 0.073428, b_ce = 0.060803)\n",
      "Epoch: 5130 Disc: (loss = 0.000013, acc = 100.00%) AAE: (mse = 0.073433, b_ce = 0.060949)\n",
      "Epoch: 5140 Disc: (loss = 0.000003, acc = 100.00%) AAE: (mse = 0.075174, b_ce = 0.061728)\n",
      "Epoch: 5150 Disc: (loss = 0.000021, acc = 100.00%) AAE: (mse = 0.073163, b_ce = 0.061632)\n",
      "Epoch: 5160 Disc: (loss = 0.000009, acc = 100.00%) AAE: (mse = 0.072013, b_ce = 0.059082)\n",
      "Epoch: 5170 Disc: (loss = 0.000823, acc = 99.90%) AAE: (mse = 0.070932, b_ce = 0.059876)\n",
      "Epoch: 5180 Disc: (loss = 0.000005, acc = 100.00%) AAE: (mse = 0.075185, b_ce = 0.062349)\n",
      "Epoch: 5190 Disc: (loss = 0.000238, acc = 100.00%) AAE: (mse = 0.075746, b_ce = 0.062379)\n",
      "Epoch: 5200 Disc: (loss = 0.000035, acc = 100.00%) AAE: (mse = 0.073247, b_ce = 0.060307)\n",
      "Epoch: 5210 Disc: (loss = 0.000003, acc = 100.00%) AAE: (mse = 0.070758, b_ce = 0.057713)\n",
      "Epoch: 5220 Disc: (loss = 0.002658, acc = 99.90%) AAE: (mse = 0.072946, b_ce = 0.061213)\n",
      "Epoch: 5230 Disc: (loss = 0.000119, acc = 100.00%) AAE: (mse = 0.072446, b_ce = 0.059481)\n",
      "Epoch: 5240 Disc: (loss = 0.003399, acc = 99.80%) AAE: (mse = 0.072639, b_ce = 0.060964)\n",
      "Epoch: 5250 Disc: (loss = 0.000024, acc = 100.00%) AAE: (mse = 0.074179, b_ce = 0.060734)\n",
      "Epoch: 5260 Disc: (loss = 0.000005, acc = 100.00%) AAE: (mse = 0.072495, b_ce = 0.059821)\n",
      "Epoch: 5270 Disc: (loss = 0.000024, acc = 100.00%) AAE: (mse = 0.071074, b_ce = 0.059692)\n",
      "Epoch: 5280 Disc: (loss = 0.005936, acc = 99.90%) AAE: (mse = 0.070592, b_ce = 0.060282)\n",
      "Epoch: 5290 Disc: (loss = 0.000257, acc = 100.00%) AAE: (mse = 0.073931, b_ce = 0.061070)\n",
      "Epoch: 5300 Disc: (loss = 0.000179, acc = 100.00%) AAE: (mse = 0.072957, b_ce = 0.059923)\n",
      "Epoch: 5310 Disc: (loss = 0.000007, acc = 100.00%) AAE: (mse = 0.074862, b_ce = 0.061788)\n",
      "Epoch: 5320 Disc: (loss = 0.000007, acc = 100.00%) AAE: (mse = 0.073822, b_ce = 0.061313)\n",
      "Epoch: 5330 Disc: (loss = 0.000010, acc = 100.00%) AAE: (mse = 0.075173, b_ce = 0.062454)\n",
      "Epoch: 5340 Disc: (loss = 0.000189, acc = 100.00%) AAE: (mse = 0.073672, b_ce = 0.061477)\n",
      "Epoch: 5350 Disc: (loss = 0.000017, acc = 100.00%) AAE: (mse = 0.074657, b_ce = 0.061416)\n",
      "Epoch: 5360 Disc: (loss = 0.000003, acc = 100.00%) AAE: (mse = 0.074670, b_ce = 0.060668)\n",
      "Epoch: 5370 Disc: (loss = 0.000036, acc = 100.00%) AAE: (mse = 0.072172, b_ce = 0.058742)\n",
      "Epoch: 5380 Disc: (loss = 0.000022, acc = 100.00%) AAE: (mse = 0.076855, b_ce = 0.063117)\n",
      "Epoch: 5390 Disc: (loss = 0.000002, acc = 100.00%) AAE: (mse = 0.075208, b_ce = 0.061252)\n",
      "Epoch: 5400 Disc: (loss = 0.000009, acc = 100.00%) AAE: (mse = 0.071281, b_ce = 0.058647)\n",
      "Epoch: 5410 Disc: (loss = 0.000183, acc = 100.00%) AAE: (mse = 0.070731, b_ce = 0.059874)\n",
      "Epoch: 5420 Disc: (loss = 0.000092, acc = 100.00%) AAE: (mse = 0.073362, b_ce = 0.059179)\n",
      "Epoch: 5430 Disc: (loss = 0.000053, acc = 100.00%) AAE: (mse = 0.074118, b_ce = 0.060148)\n",
      "Epoch: 5440 Disc: (loss = 0.000143, acc = 100.00%) AAE: (mse = 0.074477, b_ce = 0.060523)\n",
      "Epoch: 5450 Disc: (loss = 0.000986, acc = 99.90%) AAE: (mse = 0.071952, b_ce = 0.060490)\n",
      "Epoch: 5460 Disc: (loss = 0.000296, acc = 100.00%) AAE: (mse = 0.074536, b_ce = 0.062241)\n",
      "Epoch: 5470 Disc: (loss = 0.000006, acc = 100.00%) AAE: (mse = 0.072659, b_ce = 0.060448)\n",
      "Epoch: 5480 Disc: (loss = 0.000332, acc = 100.00%) AAE: (mse = 0.073225, b_ce = 0.061983)\n",
      "Epoch: 5490 Disc: (loss = 0.000008, acc = 100.00%) AAE: (mse = 0.072514, b_ce = 0.059435)\n",
      "Epoch: 5500 Disc: (loss = 0.000003, acc = 100.00%) AAE: (mse = 0.072665, b_ce = 0.059101)\n"
     ]
    },
    {
     "name": "stderr",
     "output_type": "stream",
     "text": [
      "Clipping input data to the valid range for imshow with RGB data ([0..1] for floats or [0..255] for integers).\n",
      "Clipping input data to the valid range for imshow with RGB data ([0..1] for floats or [0..255] for integers).\n",
      "Clipping input data to the valid range for imshow with RGB data ([0..1] for floats or [0..255] for integers).\n",
      "Clipping input data to the valid range for imshow with RGB data ([0..1] for floats or [0..255] for integers).\n",
      "Clipping input data to the valid range for imshow with RGB data ([0..1] for floats or [0..255] for integers).\n",
      "Clipping input data to the valid range for imshow with RGB data ([0..1] for floats or [0..255] for integers).\n",
      "Clipping input data to the valid range for imshow with RGB data ([0..1] for floats or [0..255] for integers).\n",
      "Clipping input data to the valid range for imshow with RGB data ([0..1] for floats or [0..255] for integers).\n",
      "Clipping input data to the valid range for imshow with RGB data ([0..1] for floats or [0..255] for integers).\n",
      "Clipping input data to the valid range for imshow with RGB data ([0..1] for floats or [0..255] for integers).\n"
     ]
    },
    {
     "name": "stdout",
     "output_type": "stream",
     "text": [
      "Epoch: 5510 Disc: (loss = 0.000012, acc = 100.00%) AAE: (mse = 0.073157, b_ce = 0.059582)\n",
      "Epoch: 5520 Disc: (loss = 0.000005, acc = 100.00%) AAE: (mse = 0.072014, b_ce = 0.058503)\n",
      "Epoch: 5530 Disc: (loss = 0.000010, acc = 100.00%) AAE: (mse = 0.072632, b_ce = 0.059817)\n",
      "Epoch: 5540 Disc: (loss = 0.000024, acc = 100.00%) AAE: (mse = 0.073748, b_ce = 0.060937)\n",
      "Epoch: 5550 Disc: (loss = 0.002846, acc = 99.90%) AAE: (mse = 0.073918, b_ce = 0.061147)\n",
      "Epoch: 5560 Disc: (loss = 0.000057, acc = 100.00%) AAE: (mse = 0.075979, b_ce = 0.061336)\n",
      "Epoch: 5570 Disc: (loss = 0.000020, acc = 100.00%) AAE: (mse = 0.070471, b_ce = 0.058735)\n",
      "Epoch: 5580 Disc: (loss = 0.000258, acc = 100.00%) AAE: (mse = 0.073073, b_ce = 0.058031)\n",
      "Epoch: 5590 Disc: (loss = 0.000011, acc = 100.00%) AAE: (mse = 0.075371, b_ce = 0.060942)\n",
      "Epoch: 5600 Disc: (loss = 0.001460, acc = 99.90%) AAE: (mse = 0.075961, b_ce = 0.063257)\n",
      "Epoch: 5610 Disc: (loss = 0.000045, acc = 100.00%) AAE: (mse = 0.073223, b_ce = 0.060221)\n",
      "Epoch: 5620 Disc: (loss = 0.000112, acc = 100.00%) AAE: (mse = 0.073586, b_ce = 0.060006)\n",
      "Epoch: 5630 Disc: (loss = 0.000002, acc = 100.00%) AAE: (mse = 0.074875, b_ce = 0.061356)\n",
      "Epoch: 5640 Disc: (loss = 0.000230, acc = 100.00%) AAE: (mse = 0.076028, b_ce = 0.062471)\n",
      "Epoch: 5650 Disc: (loss = 0.000004, acc = 100.00%) AAE: (mse = 0.072638, b_ce = 0.059012)\n",
      "Epoch: 5660 Disc: (loss = 0.000007, acc = 100.00%) AAE: (mse = 0.068641, b_ce = 0.056824)\n",
      "Epoch: 5670 Disc: (loss = 0.000004, acc = 100.00%) AAE: (mse = 0.075279, b_ce = 0.061835)\n",
      "Epoch: 5680 Disc: (loss = 0.000042, acc = 100.00%) AAE: (mse = 0.073041, b_ce = 0.059946)\n",
      "Epoch: 5690 Disc: (loss = 0.000006, acc = 100.00%) AAE: (mse = 0.073419, b_ce = 0.060435)\n",
      "Epoch: 5700 Disc: (loss = 0.000052, acc = 100.00%) AAE: (mse = 0.073939, b_ce = 0.060031)\n",
      "Epoch: 5710 Disc: (loss = 0.000003, acc = 100.00%) AAE: (mse = 0.076627, b_ce = 0.062354)\n",
      "Epoch: 5720 Disc: (loss = 0.000022, acc = 100.00%) AAE: (mse = 0.074720, b_ce = 0.061927)\n",
      "Epoch: 5730 Disc: (loss = 0.000004, acc = 100.00%) AAE: (mse = 0.074504, b_ce = 0.061760)\n",
      "Epoch: 5740 Disc: (loss = 0.000010, acc = 100.00%) AAE: (mse = 0.071568, b_ce = 0.059683)\n",
      "Epoch: 5750 Disc: (loss = 0.000038, acc = 100.00%) AAE: (mse = 0.073677, b_ce = 0.062639)\n",
      "Epoch: 5760 Disc: (loss = 0.000018, acc = 100.00%) AAE: (mse = 0.072094, b_ce = 0.060060)\n",
      "Epoch: 5770 Disc: (loss = 0.000008, acc = 100.00%) AAE: (mse = 0.070194, b_ce = 0.057822)\n",
      "Epoch: 5780 Disc: (loss = 0.000005, acc = 100.00%) AAE: (mse = 0.072061, b_ce = 0.057352)\n",
      "Epoch: 5790 Disc: (loss = 0.000029, acc = 100.00%) AAE: (mse = 0.073074, b_ce = 0.059400)\n",
      "Epoch: 5800 Disc: (loss = 0.000016, acc = 100.00%) AAE: (mse = 0.072721, b_ce = 0.060351)\n",
      "Epoch: 5810 Disc: (loss = 0.001636, acc = 99.90%) AAE: (mse = 0.073057, b_ce = 0.061237)\n",
      "Epoch: 5820 Disc: (loss = 0.000011, acc = 100.00%) AAE: (mse = 0.072202, b_ce = 0.060028)\n",
      "Epoch: 5830 Disc: (loss = 0.000239, acc = 100.00%) AAE: (mse = 0.073804, b_ce = 0.061652)\n",
      "Epoch: 5840 Disc: (loss = 0.000004, acc = 100.00%) AAE: (mse = 0.076556, b_ce = 0.061579)\n",
      "Epoch: 5850 Disc: (loss = 0.000032, acc = 100.00%) AAE: (mse = 0.072241, b_ce = 0.060674)\n",
      "Epoch: 5860 Disc: (loss = 0.000045, acc = 100.00%) AAE: (mse = 0.069786, b_ce = 0.058140)\n",
      "Epoch: 5870 Disc: (loss = 0.001301, acc = 99.90%) AAE: (mse = 0.072849, b_ce = 0.062170)\n",
      "Epoch: 5880 Disc: (loss = 0.001181, acc = 99.90%) AAE: (mse = 0.073303, b_ce = 0.059836)\n",
      "Epoch: 5890 Disc: (loss = 0.000274, acc = 100.00%) AAE: (mse = 0.071620, b_ce = 0.060084)\n",
      "Epoch: 5900 Disc: (loss = 0.000145, acc = 100.00%) AAE: (mse = 0.075868, b_ce = 0.062882)\n",
      "Epoch: 5910 Disc: (loss = 0.000005, acc = 100.00%) AAE: (mse = 0.071834, b_ce = 0.059158)\n",
      "Epoch: 5920 Disc: (loss = 0.000001, acc = 100.00%) AAE: (mse = 0.072941, b_ce = 0.059396)\n",
      "Epoch: 5930 Disc: (loss = 0.000008, acc = 100.00%) AAE: (mse = 0.072236, b_ce = 0.058408)\n",
      "Epoch: 5940 Disc: (loss = 0.000042, acc = 100.00%) AAE: (mse = 0.073552, b_ce = 0.060621)\n",
      "Epoch: 5950 Disc: (loss = 0.000631, acc = 100.00%) AAE: (mse = 0.071340, b_ce = 0.060473)\n",
      "Epoch: 5960 Disc: (loss = 0.000007, acc = 100.00%) AAE: (mse = 0.072755, b_ce = 0.059528)\n",
      "Epoch: 5970 Disc: (loss = 0.000019, acc = 100.00%) AAE: (mse = 0.074046, b_ce = 0.060764)\n",
      "Epoch: 5980 Disc: (loss = 0.000067, acc = 100.00%) AAE: (mse = 0.071903, b_ce = 0.060165)\n",
      "Epoch: 5990 Disc: (loss = 0.000064, acc = 100.00%) AAE: (mse = 0.072612, b_ce = 0.061289)\n",
      "Epoch: 6000 Disc: (loss = 0.000018, acc = 100.00%) AAE: (mse = 0.067971, b_ce = 0.055672)\n"
     ]
    },
    {
     "name": "stderr",
     "output_type": "stream",
     "text": [
      "Clipping input data to the valid range for imshow with RGB data ([0..1] for floats or [0..255] for integers).\n",
      "Clipping input data to the valid range for imshow with RGB data ([0..1] for floats or [0..255] for integers).\n",
      "Clipping input data to the valid range for imshow with RGB data ([0..1] for floats or [0..255] for integers).\n",
      "Clipping input data to the valid range for imshow with RGB data ([0..1] for floats or [0..255] for integers).\n",
      "Clipping input data to the valid range for imshow with RGB data ([0..1] for floats or [0..255] for integers).\n",
      "Clipping input data to the valid range for imshow with RGB data ([0..1] for floats or [0..255] for integers).\n",
      "Clipping input data to the valid range for imshow with RGB data ([0..1] for floats or [0..255] for integers).\n",
      "Clipping input data to the valid range for imshow with RGB data ([0..1] for floats or [0..255] for integers).\n",
      "Clipping input data to the valid range for imshow with RGB data ([0..1] for floats or [0..255] for integers).\n",
      "Clipping input data to the valid range for imshow with RGB data ([0..1] for floats or [0..255] for integers).\n",
      "Clipping input data to the valid range for imshow with RGB data ([0..1] for floats or [0..255] for integers).\n",
      "Clipping input data to the valid range for imshow with RGB data ([0..1] for floats or [0..255] for integers).\n",
      "Clipping input data to the valid range for imshow with RGB data ([0..1] for floats or [0..255] for integers).\n",
      "Clipping input data to the valid range for imshow with RGB data ([0..1] for floats or [0..255] for integers).\n",
      "Clipping input data to the valid range for imshow with RGB data ([0..1] for floats or [0..255] for integers).\n",
      "Clipping input data to the valid range for imshow with RGB data ([0..1] for floats or [0..255] for integers).\n"
     ]
    },
    {
     "name": "stdout",
     "output_type": "stream",
     "text": [
      "Epoch: 6010 Disc: (loss = 0.000003, acc = 100.00%) AAE: (mse = 0.072475, b_ce = 0.059243)\n",
      "Epoch: 6020 Disc: (loss = 0.000005, acc = 100.00%) AAE: (mse = 0.072472, b_ce = 0.059410)\n",
      "Epoch: 6030 Disc: (loss = 0.000004, acc = 100.00%) AAE: (mse = 0.069153, b_ce = 0.056527)\n",
      "Epoch: 6040 Disc: (loss = 0.000018, acc = 100.00%) AAE: (mse = 0.073616, b_ce = 0.060613)\n",
      "Epoch: 6050 Disc: (loss = 0.000003, acc = 100.00%) AAE: (mse = 0.073082, b_ce = 0.060015)\n",
      "Epoch: 6060 Disc: (loss = 0.001675, acc = 99.90%) AAE: (mse = 0.072289, b_ce = 0.060573)\n",
      "Epoch: 6070 Disc: (loss = 0.000038, acc = 100.00%) AAE: (mse = 0.073514, b_ce = 0.060702)\n",
      "Epoch: 6080 Disc: (loss = 0.000107, acc = 100.00%) AAE: (mse = 0.073447, b_ce = 0.061291)\n",
      "Epoch: 6090 Disc: (loss = 0.001697, acc = 99.90%) AAE: (mse = 0.069338, b_ce = 0.058421)\n",
      "Epoch: 6100 Disc: (loss = 0.000170, acc = 100.00%) AAE: (mse = 0.074024, b_ce = 0.060759)\n",
      "Epoch: 6110 Disc: (loss = 0.000738, acc = 99.90%) AAE: (mse = 0.073123, b_ce = 0.060947)\n",
      "Epoch: 6120 Disc: (loss = 0.000006, acc = 100.00%) AAE: (mse = 0.072294, b_ce = 0.060551)\n",
      "Epoch: 6130 Disc: (loss = 0.001463, acc = 99.90%) AAE: (mse = 0.073685, b_ce = 0.061948)\n",
      "Epoch: 6140 Disc: (loss = 0.000004, acc = 100.00%) AAE: (mse = 0.071434, b_ce = 0.058598)\n",
      "Epoch: 6150 Disc: (loss = 0.000004, acc = 100.00%) AAE: (mse = 0.075905, b_ce = 0.062823)\n",
      "Epoch: 6160 Disc: (loss = 0.000013, acc = 100.00%) AAE: (mse = 0.071067, b_ce = 0.057435)\n",
      "Epoch: 6170 Disc: (loss = 0.000007, acc = 100.00%) AAE: (mse = 0.073753, b_ce = 0.061767)\n",
      "Epoch: 6180 Disc: (loss = 0.000155, acc = 100.00%) AAE: (mse = 0.074784, b_ce = 0.062353)\n",
      "Epoch: 6190 Disc: (loss = 0.000130, acc = 100.00%) AAE: (mse = 0.073119, b_ce = 0.060999)\n",
      "Epoch: 6200 Disc: (loss = 0.000028, acc = 100.00%) AAE: (mse = 0.068531, b_ce = 0.057945)\n",
      "Epoch: 6210 Disc: (loss = 0.000015, acc = 100.00%) AAE: (mse = 0.073408, b_ce = 0.059568)\n",
      "Epoch: 6220 Disc: (loss = 0.000004, acc = 100.00%) AAE: (mse = 0.072995, b_ce = 0.060470)\n",
      "Epoch: 6230 Disc: (loss = 0.000007, acc = 100.00%) AAE: (mse = 0.069115, b_ce = 0.057388)\n",
      "Epoch: 6240 Disc: (loss = 0.000020, acc = 100.00%) AAE: (mse = 0.071993, b_ce = 0.059522)\n",
      "Epoch: 6250 Disc: (loss = 0.000003, acc = 100.00%) AAE: (mse = 0.072310, b_ce = 0.059773)\n",
      "Epoch: 6260 Disc: (loss = 0.000199, acc = 100.00%) AAE: (mse = 0.073261, b_ce = 0.060375)\n",
      "Epoch: 6270 Disc: (loss = 0.000004, acc = 100.00%) AAE: (mse = 0.075243, b_ce = 0.062393)\n",
      "Epoch: 6280 Disc: (loss = 0.002677, acc = 99.90%) AAE: (mse = 0.073709, b_ce = 0.061435)\n",
      "Epoch: 6290 Disc: (loss = 0.000131, acc = 100.00%) AAE: (mse = 0.072900, b_ce = 0.060354)\n",
      "Epoch: 6300 Disc: (loss = 0.000009, acc = 100.00%) AAE: (mse = 0.072363, b_ce = 0.060481)\n",
      "Epoch: 6310 Disc: (loss = 0.000033, acc = 100.00%) AAE: (mse = 0.072851, b_ce = 0.060298)\n",
      "Epoch: 6320 Disc: (loss = 0.000042, acc = 100.00%) AAE: (mse = 0.071447, b_ce = 0.059750)\n",
      "Epoch: 6330 Disc: (loss = 0.000047, acc = 100.00%) AAE: (mse = 0.070051, b_ce = 0.058711)\n",
      "Epoch: 6340 Disc: (loss = 0.000035, acc = 100.00%) AAE: (mse = 0.074441, b_ce = 0.061728)\n",
      "Epoch: 6350 Disc: (loss = 0.000002, acc = 100.00%) AAE: (mse = 0.074584, b_ce = 0.061598)\n",
      "Epoch: 6360 Disc: (loss = 0.000010, acc = 100.00%) AAE: (mse = 0.071457, b_ce = 0.059734)\n",
      "Epoch: 6370 Disc: (loss = 0.000264, acc = 100.00%) AAE: (mse = 0.073126, b_ce = 0.060714)\n",
      "Epoch: 6380 Disc: (loss = 0.000011, acc = 100.00%) AAE: (mse = 0.069288, b_ce = 0.057109)\n",
      "Epoch: 6390 Disc: (loss = 0.000003, acc = 100.00%) AAE: (mse = 0.070577, b_ce = 0.057956)\n",
      "Epoch: 6400 Disc: (loss = 0.000085, acc = 100.00%) AAE: (mse = 0.075191, b_ce = 0.063041)\n",
      "Epoch: 6410 Disc: (loss = 0.000170, acc = 100.00%) AAE: (mse = 0.074895, b_ce = 0.063355)\n",
      "Epoch: 6420 Disc: (loss = 0.000026, acc = 100.00%) AAE: (mse = 0.071832, b_ce = 0.060254)\n",
      "Epoch: 6430 Disc: (loss = 0.000052, acc = 100.00%) AAE: (mse = 0.075547, b_ce = 0.061784)\n",
      "Epoch: 6440 Disc: (loss = 0.000027, acc = 100.00%) AAE: (mse = 0.074789, b_ce = 0.062518)\n",
      "Epoch: 6450 Disc: (loss = 0.000010, acc = 100.00%) AAE: (mse = 0.073364, b_ce = 0.059876)\n",
      "Epoch: 6460 Disc: (loss = 0.000025, acc = 100.00%) AAE: (mse = 0.074706, b_ce = 0.059545)\n",
      "Epoch: 6470 Disc: (loss = 0.000004, acc = 100.00%) AAE: (mse = 0.072923, b_ce = 0.059290)\n",
      "Epoch: 6480 Disc: (loss = 0.000105, acc = 100.00%) AAE: (mse = 0.072750, b_ce = 0.059083)\n",
      "Epoch: 6490 Disc: (loss = 0.000021, acc = 100.00%) AAE: (mse = 0.075864, b_ce = 0.062598)\n",
      "Epoch: 6500 Disc: (loss = 0.001401, acc = 99.90%) AAE: (mse = 0.073219, b_ce = 0.060721)\n"
     ]
    },
    {
     "name": "stderr",
     "output_type": "stream",
     "text": [
      "Clipping input data to the valid range for imshow with RGB data ([0..1] for floats or [0..255] for integers).\n",
      "Clipping input data to the valid range for imshow with RGB data ([0..1] for floats or [0..255] for integers).\n",
      "Clipping input data to the valid range for imshow with RGB data ([0..1] for floats or [0..255] for integers).\n",
      "Clipping input data to the valid range for imshow with RGB data ([0..1] for floats or [0..255] for integers).\n",
      "Clipping input data to the valid range for imshow with RGB data ([0..1] for floats or [0..255] for integers).\n",
      "Clipping input data to the valid range for imshow with RGB data ([0..1] for floats or [0..255] for integers).\n",
      "Clipping input data to the valid range for imshow with RGB data ([0..1] for floats or [0..255] for integers).\n",
      "Clipping input data to the valid range for imshow with RGB data ([0..1] for floats or [0..255] for integers).\n",
      "Clipping input data to the valid range for imshow with RGB data ([0..1] for floats or [0..255] for integers).\n",
      "Clipping input data to the valid range for imshow with RGB data ([0..1] for floats or [0..255] for integers).\n",
      "Clipping input data to the valid range for imshow with RGB data ([0..1] for floats or [0..255] for integers).\n"
     ]
    },
    {
     "name": "stdout",
     "output_type": "stream",
     "text": [
      "Epoch: 6510 Disc: (loss = 0.000288, acc = 100.00%) AAE: (mse = 0.070816, b_ce = 0.058924)\n",
      "Epoch: 6520 Disc: (loss = 0.000005, acc = 100.00%) AAE: (mse = 0.075117, b_ce = 0.061324)\n",
      "Epoch: 6530 Disc: (loss = 0.000078, acc = 100.00%) AAE: (mse = 0.071550, b_ce = 0.059763)\n",
      "Epoch: 6540 Disc: (loss = 0.000917, acc = 99.90%) AAE: (mse = 0.071505, b_ce = 0.059889)\n",
      "Epoch: 6550 Disc: (loss = 0.000061, acc = 100.00%) AAE: (mse = 0.072122, b_ce = 0.059297)\n",
      "Epoch: 6560 Disc: (loss = 0.000074, acc = 100.00%) AAE: (mse = 0.072172, b_ce = 0.059928)\n",
      "Epoch: 6570 Disc: (loss = 0.000078, acc = 100.00%) AAE: (mse = 0.073808, b_ce = 0.061422)\n",
      "Epoch: 6580 Disc: (loss = 0.000007, acc = 100.00%) AAE: (mse = 0.073571, b_ce = 0.059769)\n",
      "Epoch: 6590 Disc: (loss = 0.000031, acc = 100.00%) AAE: (mse = 0.073146, b_ce = 0.060777)\n",
      "Epoch: 6600 Disc: (loss = 0.000014, acc = 100.00%) AAE: (mse = 0.070979, b_ce = 0.058823)\n",
      "Epoch: 6610 Disc: (loss = 0.000055, acc = 100.00%) AAE: (mse = 0.068417, b_ce = 0.056983)\n",
      "Epoch: 6620 Disc: (loss = 0.000446, acc = 100.00%) AAE: (mse = 0.072876, b_ce = 0.060077)\n",
      "Epoch: 6630 Disc: (loss = 0.000009, acc = 100.00%) AAE: (mse = 0.070346, b_ce = 0.057655)\n",
      "Epoch: 6640 Disc: (loss = 0.000008, acc = 100.00%) AAE: (mse = 0.071553, b_ce = 0.058569)\n",
      "Epoch: 6650 Disc: (loss = 0.000196, acc = 100.00%) AAE: (mse = 0.070455, b_ce = 0.061052)\n",
      "Epoch: 6660 Disc: (loss = 0.000187, acc = 100.00%) AAE: (mse = 0.070806, b_ce = 0.059006)\n",
      "Epoch: 6670 Disc: (loss = 0.000007, acc = 100.00%) AAE: (mse = 0.071206, b_ce = 0.059370)\n",
      "Epoch: 6680 Disc: (loss = 0.000003, acc = 100.00%) AAE: (mse = 0.072848, b_ce = 0.058982)\n",
      "Epoch: 6690 Disc: (loss = 0.000154, acc = 100.00%) AAE: (mse = 0.074613, b_ce = 0.062250)\n",
      "Epoch: 6700 Disc: (loss = 0.000003, acc = 100.00%) AAE: (mse = 0.072407, b_ce = 0.059179)\n",
      "Epoch: 6710 Disc: (loss = 0.000004, acc = 100.00%) AAE: (mse = 0.075167, b_ce = 0.062322)\n",
      "Epoch: 6720 Disc: (loss = 0.000010, acc = 100.00%) AAE: (mse = 0.074037, b_ce = 0.061232)\n",
      "Epoch: 6730 Disc: (loss = 0.000003, acc = 100.00%) AAE: (mse = 0.072355, b_ce = 0.058564)\n",
      "Epoch: 6740 Disc: (loss = 0.000002, acc = 100.00%) AAE: (mse = 0.072889, b_ce = 0.058740)\n",
      "Epoch: 6750 Disc: (loss = 0.000010, acc = 100.00%) AAE: (mse = 0.073046, b_ce = 0.060583)\n",
      "Epoch: 6760 Disc: (loss = 0.000014, acc = 100.00%) AAE: (mse = 0.071196, b_ce = 0.058599)\n",
      "Epoch: 6770 Disc: (loss = 0.000168, acc = 100.00%) AAE: (mse = 0.073178, b_ce = 0.060271)\n",
      "Epoch: 6780 Disc: (loss = 0.000019, acc = 100.00%) AAE: (mse = 0.074463, b_ce = 0.061428)\n",
      "Epoch: 6790 Disc: (loss = 0.000118, acc = 100.00%) AAE: (mse = 0.070950, b_ce = 0.058852)\n",
      "Epoch: 6800 Disc: (loss = 0.000019, acc = 100.00%) AAE: (mse = 0.071362, b_ce = 0.059150)\n",
      "Epoch: 6810 Disc: (loss = 0.000018, acc = 100.00%) AAE: (mse = 0.069436, b_ce = 0.057900)\n",
      "Epoch: 6820 Disc: (loss = 0.000021, acc = 100.00%) AAE: (mse = 0.073182, b_ce = 0.060956)\n",
      "Epoch: 6830 Disc: (loss = 0.000006, acc = 100.00%) AAE: (mse = 0.072445, b_ce = 0.059990)\n",
      "Epoch: 6840 Disc: (loss = 0.000103, acc = 100.00%) AAE: (mse = 0.068380, b_ce = 0.056571)\n",
      "Epoch: 6850 Disc: (loss = 0.000940, acc = 99.90%) AAE: (mse = 0.070471, b_ce = 0.057917)\n",
      "Epoch: 6860 Disc: (loss = 0.000030, acc = 100.00%) AAE: (mse = 0.072833, b_ce = 0.061759)\n",
      "Epoch: 6870 Disc: (loss = 0.000040, acc = 100.00%) AAE: (mse = 0.071522, b_ce = 0.060606)\n",
      "Epoch: 6880 Disc: (loss = 0.000025, acc = 100.00%) AAE: (mse = 0.069765, b_ce = 0.057929)\n",
      "Epoch: 6890 Disc: (loss = 0.000004, acc = 100.00%) AAE: (mse = 0.073100, b_ce = 0.060029)\n",
      "Epoch: 6900 Disc: (loss = 0.000267, acc = 100.00%) AAE: (mse = 0.076268, b_ce = 0.063430)\n",
      "Epoch: 6910 Disc: (loss = 0.000001, acc = 100.00%) AAE: (mse = 0.074814, b_ce = 0.061173)\n",
      "Epoch: 6920 Disc: (loss = 0.000040, acc = 100.00%) AAE: (mse = 0.072783, b_ce = 0.061274)\n",
      "Epoch: 6930 Disc: (loss = 0.001565, acc = 99.90%) AAE: (mse = 0.071427, b_ce = 0.058826)\n",
      "Epoch: 6940 Disc: (loss = 0.000480, acc = 100.00%) AAE: (mse = 0.072111, b_ce = 0.058346)\n",
      "Epoch: 6950 Disc: (loss = 0.000019, acc = 100.00%) AAE: (mse = 0.070385, b_ce = 0.057714)\n",
      "Epoch: 6960 Disc: (loss = 0.000009, acc = 100.00%) AAE: (mse = 0.072515, b_ce = 0.059940)\n",
      "Epoch: 6970 Disc: (loss = 0.000035, acc = 100.00%) AAE: (mse = 0.072743, b_ce = 0.061277)\n",
      "Epoch: 6980 Disc: (loss = 0.000013, acc = 100.00%) AAE: (mse = 0.071395, b_ce = 0.059380)\n",
      "Epoch: 6990 Disc: (loss = 0.000015, acc = 100.00%) AAE: (mse = 0.071906, b_ce = 0.060209)\n",
      "Epoch: 7000 Disc: (loss = 0.000132, acc = 100.00%) AAE: (mse = 0.070854, b_ce = 0.059464)\n"
     ]
    },
    {
     "name": "stderr",
     "output_type": "stream",
     "text": [
      "Clipping input data to the valid range for imshow with RGB data ([0..1] for floats or [0..255] for integers).\n",
      "Clipping input data to the valid range for imshow with RGB data ([0..1] for floats or [0..255] for integers).\n",
      "Clipping input data to the valid range for imshow with RGB data ([0..1] for floats or [0..255] for integers).\n",
      "Clipping input data to the valid range for imshow with RGB data ([0..1] for floats or [0..255] for integers).\n",
      "Clipping input data to the valid range for imshow with RGB data ([0..1] for floats or [0..255] for integers).\n",
      "Clipping input data to the valid range for imshow with RGB data ([0..1] for floats or [0..255] for integers).\n",
      "Clipping input data to the valid range for imshow with RGB data ([0..1] for floats or [0..255] for integers).\n",
      "Clipping input data to the valid range for imshow with RGB data ([0..1] for floats or [0..255] for integers).\n",
      "Clipping input data to the valid range for imshow with RGB data ([0..1] for floats or [0..255] for integers).\n",
      "Clipping input data to the valid range for imshow with RGB data ([0..1] for floats or [0..255] for integers).\n",
      "Clipping input data to the valid range for imshow with RGB data ([0..1] for floats or [0..255] for integers).\n",
      "Clipping input data to the valid range for imshow with RGB data ([0..1] for floats or [0..255] for integers).\n",
      "Clipping input data to the valid range for imshow with RGB data ([0..1] for floats or [0..255] for integers).\n",
      "Clipping input data to the valid range for imshow with RGB data ([0..1] for floats or [0..255] for integers).\n",
      "Clipping input data to the valid range for imshow with RGB data ([0..1] for floats or [0..255] for integers).\n",
      "Clipping input data to the valid range for imshow with RGB data ([0..1] for floats or [0..255] for integers).\n",
      "Clipping input data to the valid range for imshow with RGB data ([0..1] for floats or [0..255] for integers).\n",
      "Clipping input data to the valid range for imshow with RGB data ([0..1] for floats or [0..255] for integers).\n"
     ]
    }
   ],
   "source": [
    "# https://github.com/mrquincle/keras-adversarial-autoencoders/blob/master/Keras%20Adversarial%20Autoencoder%20MNIST.ipynb\n",
    "epochs=7000\n",
    "batch_size=500\n",
    "sample_interval=500\n",
    "\n",
    "valid = np.ones((batch_size, 1))\n",
    "fake = np.zeros((batch_size, 1))\n",
    "\n",
    "for epoch in range(epochs+1):\n",
    "    # lote de imagenes\n",
    "    idx = np.random.randint(0, X_train.shape[0], batch_size)\n",
    "    imgs = X_train[idx]\n",
    "\n",
    "    latent_fake = encoder.predict(imgs)\n",
    "    latent_true =true_sampler(dim_latente, batch_size)\n",
    "\n",
    "    #entrenamos el discriminador\n",
    "    dis_loss_real = discriminator.train_on_batch(latent_true, valid)\n",
    "    dis_loss_fake = discriminator.train_on_batch(latent_fake, fake)\n",
    "    dis_avg_loss = 0.5*np.add(dis_loss_fake, dis_loss_real)\n",
    "\n",
    "    # entrenamos al autoencoder\n",
    "    aae_loss = a_autoencoder.train_on_batch(imgs,[imgs, valid])\n",
    "    \n",
    "    # monitorizamos el progreso\n",
    "    if epoch % 10==0:\n",
    "        print(\"Epoch: %d Disc: (loss = %f, acc = %.2f%%) AAE: (mse = %f, b_ce = %f)\" % (epoch, dis_avg_loss[0], 100*dis_avg_loss[1], aae_loss[0], aae_loss[1]))\n",
    "    # Hacemos una muestra visual\n",
    "    if epoch % sample_interval==0:\n",
    "        # sample_imgs(sample_from, autoencoder, epoch)\n",
    "        generate_samples(dim_latente, decoder, epoch)\n"
   ]
  },
  {
   "cell_type": "code",
   "execution_count": 28,
   "metadata": {},
   "outputs": [
    {
     "data": {
      "image/png": "[encoded data removed]",
      "text/plain": [
       "<Figure size 432x288 with 8 Axes>"
      ]
     },
     "metadata": {
      "needs_background": "light"
     },
     "output_type": "display_data"
    }
   ],
   "source": [
    "sample_imgs(sample_from, a_autoencoder, 0, 4, False)"
   ]
  },
  {
   "cell_type": "code",
   "execution_count": 29,
   "metadata": {},
   "outputs": [
    {
     "data": {
      "image/png": "[encoded data removed]",
      "text/plain": [
       "<Figure size 432x288 with 8 Axes>"
      ]
     },
     "metadata": {
      "needs_background": "light"
     },
     "output_type": "display_data"
    }
   ],
   "source": [
    "sample_imgs(X_train, a_autoencoder, 0, 4, False)"
   ]
  },
  {
   "cell_type": "code",
   "execution_count": 27,
   "metadata": {},
   "outputs": [],
   "source": [
    "import os.path\n",
    "\n",
    "savefile = \"AdversarialAutoEncoder/a_autoencoder.h5\"\n",
    "\n",
    "if not os.path.isfile(savefile):\n",
    "    a_autoencoder.save(savefile)\n",
    "else:\n",
    "    print(\"Ya hay un modelo guardado en \"+savefile)"
   ]
  }
 ],
 "metadata": {
  "interpreter": {
   "hash": "20fa4f0f3884cdb253ada201871cf8c3f8a990e4bbc1c7fce1b9b4c9c33df28e"
  },
  "kernelspec": {
   "display_name": "Python 3.8.2 64-bit",
   "language": "python",
   "name": "python3"
  },
  "language_info": {
   "codemirror_mode": {
    "name": "ipython",
    "version": 3
   },
   "file_extension": ".py",
   "mimetype": "text/x-python",
   "name": "python",
   "nbconvert_exporter": "python",
   "pygments_lexer": "ipython3",
   "version": "3.8.2"
  },
  "orig_nbformat": 4
 },
 "nbformat": 4,
 "nbformat_minor": 2
}
