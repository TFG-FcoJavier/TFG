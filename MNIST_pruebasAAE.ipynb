{
 "cells": [
  {
   "cell_type": "markdown",
   "metadata": {},
   "source": [
    "# Preparacion del entorno"
   ]
  },
  {
   "cell_type": "markdown",
   "metadata": {},
   "source": [
    "Librerias"
   ]
  },
  {
   "cell_type": "code",
   "execution_count": 1,
   "metadata": {},
   "outputs": [
    {
     "name": "stdout",
     "output_type": "stream",
     "text": [
      "Num GPUs Available:  1\n"
     ]
    }
   ],
   "source": [
    "import tensorflow as tf\n",
    "from tensorflow import keras\n",
    "\n",
    "print(\"Num GPUs Available: \", len(tf.config.list_physical_devices('GPU')))\n",
    "\n",
    "import ipynb.fs     #Para importar desde ipynb\n",
    "import matplotlib.pyplot as plt"
   ]
  },
  {
   "cell_type": "markdown",
   "metadata": {},
   "source": [
    "# Preparacion de los datos"
   ]
  },
  {
   "cell_type": "code",
   "execution_count": 2,
   "metadata": {},
   "outputs": [],
   "source": [
    "from utilities import *"
   ]
  },
  {
   "cell_type": "code",
   "execution_count": 3,
   "metadata": {},
   "outputs": [
    {
     "name": "stdout",
     "output_type": "stream",
     "text": [
      "(60000, 28, 28, 1)\n"
     ]
    },
    {
     "data": {
      "image/png": "[encoded data removed]",
      "text/plain": [
       "<Figure size 432x288 with 2 Axes>"
      ]
     },
     "metadata": {
      "needs_background": "light"
     },
     "output_type": "display_data"
    },
    {
     "name": "stdout",
     "output_type": "stream",
     "text": [
      "(10000, 28, 28, 1)\n"
     ]
    },
    {
     "data": {
      "image/png": "[encoded data removed]",
      "text/plain": [
       "<Figure size 432x288 with 2 Axes>"
      ]
     },
     "metadata": {
      "needs_background": "light"
     },
     "output_type": "display_data"
    }
   ],
   "source": [
    "X_train = unpickle(\"Input\\MNIST-train\")\n",
    "X_test = unpickle(\"Input\\MNIST-test\")\n",
    "tryDataset(X_train)\n",
    "tryDataset(X_test)"
   ]
  },
  {
   "cell_type": "markdown",
   "metadata": {},
   "source": [
    "# Entrenamiento"
   ]
  },
  {
   "cell_type": "code",
   "execution_count": 4,
   "metadata": {},
   "outputs": [],
   "source": [
    "from AutoencoderLib import *"
   ]
  },
  {
   "cell_type": "markdown",
   "metadata": {},
   "source": [
    "## Persistencia"
   ]
  },
  {
   "cell_type": "code",
   "execution_count": 5,
   "metadata": {},
   "outputs": [],
   "source": [
    "_raiz = \"Resultados/MNISTpruebasAAE\"\n",
    "_nombre = \"MNISTpAAE\""
   ]
  },
  {
   "cell_type": "code",
   "execution_count": 6,
   "metadata": {},
   "outputs": [
    {
     "name": "stdout",
     "output_type": "stream",
     "text": [
      "Carpeta Resultados/MNISTpruebasAAE ya existe\n"
     ]
    }
   ],
   "source": [
    "mkfolders(_raiz, True)"
   ]
  },
  {
   "cell_type": "markdown",
   "metadata": {},
   "source": [
    "## Funciones de muestreo"
   ]
  },
  {
   "cell_type": "code",
   "execution_count": 7,
   "metadata": {},
   "outputs": [],
   "source": [
    "def plotlatent2D(encoder, dataset, ruta=_raiz, nombre=_nombre):\n",
    "    ruta+=\"/Output/Latente\"\n",
    "    mkfolders(ruta)\n",
    "    points = encoder.predict(dataset[\"data\"])\n",
    "\n",
    "    x = np.array(list(x for (x,_) in points))\n",
    "    y = np.array(list(y for (_,y) in points))\n",
    "    colors = dataset[\"labels\"]\n",
    "\n",
    "    plt.scatter(x, y, c=colors, cmap='hsv')\n",
    "\n",
    "    mixture = compute_mixture(dataset, encoder, points)\n",
    "    colors, x, y = [], [], []\n",
    "    for key in mixture.keys():\n",
    "        colors.append(key)\n",
    "        x.append(mixture[key][\"mu\"][0])\n",
    "        y.append(mixture[key][\"mu\"][1])\n",
    "\n",
    "    plt.scatter(x, y, c=colors, cmap='hsv', marker=\"*\", edgecolors=\"black\")\n",
    "\n",
    "    plt.colorbar()\n",
    "    fig = plt.gcf()\n",
    "    plt.show()\n",
    "    fig.savefig(ruta+\"\\\\\"+nombre+\"_space.jpg\")\n",
    "    plt.close()"
   ]
  },
  {
   "cell_type": "code",
   "execution_count": 8,
   "metadata": {},
   "outputs": [],
   "source": [
    "def compute_mixture(dataset, encoder, points = None, override=False, ruta=\"Data/\", nombre=\"mixtureData\", dataset_name=\"\"):\n",
    "    exists=os.path.isfile(ruta+\"/\"+nombre)\n",
    "    \n",
    "    if exists and not override:\n",
    "        return load_mixture(ruta=ruta, nombre=nombre)\n",
    "    \n",
    "    if points is None:\n",
    "        points = encoder.predict(dataset[\"data\"])\n",
    "        \n",
    "    mixture = {}\n",
    "    for i, label in enumerate(dataset[\"labels\"]):\n",
    "        if label in mixture.keys():\n",
    "            mixture[label].append(points[i])\n",
    "        else:\n",
    "            mixture[label]= [points[i]]\n",
    "    for index in mixture.keys():\n",
    "        cluster = mixture[index]\n",
    "        mixture[index] = {\"mu\":[], \"sigma\":[]}\n",
    "        mixture[index][\"mu\"]=np.median(cluster, axis=0)\n",
    "        mixture[index][\"sigma\"]=np.std(cluster, axis=0)\n",
    "        \n",
    "    if not exists or override:    \n",
    "        print(\"Guardando datos de la mixtura para \"+dataset_name+\"-\"+nombre)\n",
    "        mkfolders(ruta=ruta)\n",
    "        saveDataset(dataset=mixture, input_path=ruta, dataset_name=dataset_name, name=nombre)\n",
    "        \n",
    "    return mixture"
   ]
  },
  {
   "cell_type": "code",
   "execution_count": 9,
   "metadata": {},
   "outputs": [],
   "source": [
    "def load_mixture(ruta=\"Data/\", nombre=\"mixtureData\", dataset_name=\"\", expansion=1, **kwargs):\n",
    "    mixture = unpickle(ruta+dataset_name+\"-\"+nombre)\n",
    "    for v in mixture.values():\n",
    "        v[\"mu\"] = np.multiply(v[\"mu\"], expansion)\n",
    "    return mixture"
   ]
  },
  {
   "cell_type": "markdown",
   "metadata": {},
   "source": [
    "## Generacion de ejemplos (positivos y negativos)"
   ]
  },
  {
   "cell_type": "code",
   "execution_count": 10,
   "metadata": {},
   "outputs": [],
   "source": [
    "def generateRandomVectors(dim_latente, batch_size, nclases):\n",
    "    vectors = []\n",
    "    labels = np.zeros((batch_size, nclases))\n",
    "    \n",
    "    for label in labels:\n",
    "        l = np.random.randint(0, nclases)\n",
    "        label[l] = 1\n",
    "        mean = [10*np.cos((l*2*np.pi)/10), 10*np.sin((l*2*np.pi)/10)]\n",
    "        v1 = [np.cos((l*2*np.pi)/10), np.sin((l*2*np.pi)/10)]\n",
    "        v2 = [-np.sin((l*2*np.pi)/10), np.cos((l*2*np.pi)/10)]\n",
    "        a1 = 8\n",
    "        a2 = .4\n",
    "        M =np.vstack((v1,v2)).T\n",
    "        S = np.array([[a1, 0], [0, a2]])\n",
    "        cov = np.dot(np.dot(M, S), np.linalg.inv(M))\n",
    "        #cov = cov*cov.T\n",
    "        vec = np.random.multivariate_normal(mean=mean, cov=cov,\n",
    "                                            size=1)\n",
    "        vectors.append(vec)\n",
    "    return (np.array(vectors).reshape(-1, 2), labels)"
   ]
  },
  {
   "cell_type": "code",
   "execution_count": 11,
   "metadata": {},
   "outputs": [],
   "source": [
    "def genFromMixture(dim_latente, batch_size, nclases, mixture):\n",
    "    samples = []\n",
    "    clases = np.random.randint(0, nclases, batch_size)\n",
    "    clases1hot= onehotify(clases, nclases)\n",
    "    for clase in clases: \n",
    "        s = np.random.normal(loc = mixture[clase][\"mu\"], scale=mixture[clase][\"sigma\"], size=dim_latente)\n",
    "        samples.append(s)\n",
    "    return np.array(samples), clases1hot"
   ]
  },
  {
   "cell_type": "markdown",
   "metadata": {},
   "source": [
    "## Funcion de entrenamiento"
   ]
  },
  {
   "cell_type": "code",
   "execution_count": 12,
   "metadata": {},
   "outputs": [],
   "source": [
    "from AutoencoderLib import (\n",
    "    fit_AAE_twoPhased as fit_AAE\n",
    "    )\n"
   ]
  },
  {
   "cell_type": "markdown",
   "metadata": {},
   "source": [
    "## Entrenamiento en grid"
   ]
  },
  {
   "cell_type": "markdown",
   "metadata": {},
   "source": [
    "Tamaño de la capa latente:"
   ]
  },
  {
   "cell_type": "code",
   "execution_count": 13,
   "metadata": {},
   "outputs": [],
   "source": [
    "dim_latente_cand = [2]"
   ]
  },
  {
   "cell_type": "markdown",
   "metadata": {},
   "source": [
    "Tamaño de las imagenes:"
   ]
  },
  {
   "cell_type": "code",
   "execution_count": 14,
   "metadata": {},
   "outputs": [],
   "source": [
    "img_shape = X_train[\"data\"][0].shape"
   ]
  },
  {
   "cell_type": "markdown",
   "metadata": {},
   "source": [
    "Parametros:"
   ]
  },
  {
   "cell_type": "code",
   "execution_count": 15,
   "metadata": {},
   "outputs": [],
   "source": [
    "encoders = [(build_dense_encoder, \"dense_enc\"), (build_transf_encoder,\"transf_enc\"), (build_conv_encoder,\"conv_enc\")]\n",
    "\n",
    "decoders = [(build_dense_decoder,\"dense_dec\"), (build_conv_decoder,\"conv_dec\")]\n",
    "\n",
    "discriminators = [(build_discriminator ,\"default_disc\", {}, {\"truth\":true_sampler, \"truth_kwargs\":{}, \"falsehood\":fake_sampler}),\n",
    "                    (build_class_discriminator ,\"class_disc\",{\"clases\":10}, {\"truth\":genFromMixture, \"truth_kwargs\":{\"nclases\":10, \"mixture\":None}, \"falsehood\":fake_class_sampler})]\n",
    "\n",
    "\n",
    "ae_losses = [(losses.mean_squared_error, \"ae_MSE_loss\")]\n",
    "disc_losses =[(losses.binary_crossentropy, \"disc_binXentropy_loss\")]"
   ]
  },
  {
   "cell_type": "code",
   "execution_count": 16,
   "metadata": {},
   "outputs": [],
   "source": [
    "#dim_latente_cand = [64]                         # para que las pruebas no tarden 2 horas\n",
    "#dim_latente_cand = [64, 256, 1024]              # para que las pruebas no tarden 7 horas\n",
    "#decoders = [(build_dense_decoder,\"dense_dec\")]  # para que las pruebas no tarden 2 horas"
   ]
  },
  {
   "cell_type": "code",
   "execution_count": 17,
   "metadata": {},
   "outputs": [],
   "source": [
    "epochs = 12"
   ]
  },
  {
   "cell_type": "code",
   "execution_count": 22,
   "metadata": {},
   "outputs": [],
   "source": [
    "def tryModel(\n",
    "    model_name=\"MODEL\", \n",
    "    enc= (build_dense_encoder, \"dense_enc\"), \n",
    "    dec = (build_dense_decoder,\"dense_dec\"),\n",
    "    ae_loss = (losses.mean_squared_error, \"ae_MSE_loss\"),\n",
    "    disc = (build_discriminator ,\"default_disc\", {}, {\"truth\":true_sampler, \"truth_kwargs\":{}, \"falsehood\":fake_sampler}),\n",
    "    disc_loss = (losses.binary_crossentropy, \"disc_binXentropy_loss\"),\n",
    "    dim_latente = 2,\n",
    "    mixture_data={\"override\":False, \"nombre\":\"2dcluster\"},\n",
    "    save=False\n",
    "    ):\n",
    "    # Carpeta donde almacenar los resultados\n",
    "    ruta = _raiz+\"\\\\\"+model_name+\"\\\\\"+ae_loss[1]+\"\\\\\"+disc[1]+\"\\\\\"+disc_loss[1]+\"\\\\\"+str(dim_latente)\n",
    "    # Si existen los modelos solo mostrar resultados guardados sin entrenar\n",
    "    if os.path.isfile(ruta+\"/Modelos\\\\decoder.h5\") or os.path.isfile(ruta+\"/Modelos\\\\autoencoder.h5\"):\n",
    "        print(ruta+\" ya ha sido entrenada\")\n",
    "        show_prevResults(ruta, epochs=epochs)\n",
    "        return\n",
    "    # Crear carpeta\n",
    "    mkfolders(ruta, True)\n",
    "    # Intentar cargar datos de mixtura si se trata de un dsicriminador con informacion de clases\n",
    "    if \"clases\" in disc[2].keys():\n",
    "        mixture = load_mixture(ruta=\"Data/\", dataset_name=\"MNIST\", expansion=10, **mixture_data)\n",
    "        disc[3][\"truth_kwargs\"].update({\"mixture\":mixture})\n",
    "    # Creacion de los modelos\n",
    "    ck = {\"ae_loss\": ae_loss[0], \"disc_loss\":disc_loss[0]}\n",
    "    aae = assemble_AAE(dim_latente, img_shape, enc_model = enc[0], dec_model = dec[0], disc_model = disc[0], \n",
    "                    compilation_kwargs=ck, disc_kwargs=disc[2])\n",
    "    # Entrenamiento\n",
    "    fit_settings = {\"dim_latente\":dim_latente, \"aae\":aae, \"epochs\":epochs, \"ruta\" : ruta}\n",
    "    fit_settings.update(disc[3])\n",
    "    history = fit_AAE(dataset=X_train, **fit_settings)\n",
    "    (encoder, decoder, _, autoencoder) = aae\n",
    "    # Obtenemos informacion del numero de clases para mostrar resultados, si no hay se intenta generar una mixtura para mas tarde\n",
    "    clases=0\n",
    "    if \"clases\" in disc[2].keys():\n",
    "        clases=disc[2][\"clases\"]\n",
    "    else:\n",
    "        compute_mixture(X_train, encoder, ruta=\"Data/\", dataset_name=\"MNIST\", **mixture_data)\n",
    "    #Resultados\n",
    "    print(\"Historia del entrenamiento:\")\n",
    "    plot_history(history, ruta=ruta, title=ruta)\n",
    "    print(\"Imagenes regeneradas desde el set de entrenamiento (arriba originales):\")\n",
    "    sample_imgs(X_train, autoencoder, epoch=epochs, nclases=clases, show=True, ruta=ruta, title=ruta+\" regeneration\", nombre=\"TRAINSET\")\n",
    "    print(\"Imagenes regeneradas desde imagenes nunca vistas por la red (arriba originales):\")\n",
    "    sample_imgs(X_test, autoencoder, epoch=epochs, nclases=clases, show=True, ruta=ruta, title=ruta+\" regeneration\", nombre=\"TESTSET\")\n",
    "    print(\"Representacion del espacio latente 2D:\")\n",
    "    plotlatent2D(encoder, X_test, ruta=ruta, nombre=\"TESTSET\")\n",
    "    # Guardado de modelos\n",
    "    if save:\n",
    "        mkfolders(ruta+\"/Modelos\")\n",
    "        decoder.save(ruta+\"/Modelos\\\\decoder.h5\")\n",
    "        autoencoder.save(ruta+\"/Modelos\\\\autoencoder.h5\")\n"
   ]
  },
  {
   "cell_type": "markdown",
   "metadata": {},
   "source": [
    "### Entrenamiento de AAE Denso"
   ]
  },
  {
   "cell_type": "markdown",
   "metadata": {},
   "source": [
    "No piramide vs piramide"
   ]
  },
  {
   "cell_type": "code",
   "execution_count": null,
   "metadata": {},
   "outputs": [],
   "source": [
    "enc = (build_dense_encoder, \"dense_enc\")\n",
    "dec = (build_dense_decoder,\"dense_dec\")\n",
    "model_name = \"DENSE\"\n",
    "tryModel(enc=enc, dec=dec, model_name=model_name, mixture_data={\"override\":True, \"nombre\":\"2dcluster\"})"
   ]
  },
  {
   "cell_type": "code",
   "execution_count": null,
   "metadata": {},
   "outputs": [],
   "source": [
    "enc = (build_dense_encoder_P, \"dense_enc\")\n",
    "dec = (build_dense_decoder_P,\"dense_dec\")\n",
    "model_name = \"DENSE_P\"\n",
    "tryModel(enc=enc, dec=dec, model_name=model_name, mixture_data={\"override\":False, \"nombre\":\"2dcluster\"})"
   ]
  },
  {
   "cell_type": "markdown",
   "metadata": {},
   "source": [
    "Compute Mixture vs Generate random vectors"
   ]
  },
  {
   "cell_type": "code",
   "execution_count": null,
   "metadata": {},
   "outputs": [],
   "source": [
    "enc = (build_dense_encoder, \"dense_enc\")\n",
    "dec = (build_dense_decoder,\"dense_dec\")"
   ]
  },
  {
   "cell_type": "code",
   "execution_count": null,
   "metadata": {},
   "outputs": [],
   "source": [
    "disc=(build_class_discriminator ,\"class_disc\",{\"clases\":10}, {\"truth\":genFromMixture, \"truth_kwargs\":{\"nclases\":10, \"mixture\":None}, \"falsehood\":fake_class_sampler})\n",
    "model_name = \"DENSE_MIX\"\n",
    "tryModel(enc=enc, dec=dec, disc=disc, model_name=model_name, mixture_data={\"override\":False, \"nombre\":\"2dcluster\"})"
   ]
  },
  {
   "cell_type": "code",
   "execution_count": null,
   "metadata": {},
   "outputs": [],
   "source": [
    "disc=(build_class_discriminator ,\"class_disc\",{\"clases\":10}, {\"truth\":generateRandomVectors, \"truth_kwargs\":{\"nclases\":10}, \"falsehood\":fake_class_sampler})\n",
    "model_name = \"DENSE_VEC\"\n",
    "tryModel(enc=enc, dec=dec, disc=disc, model_name=model_name)"
   ]
  },
  {
   "cell_type": "markdown",
   "metadata": {},
   "source": [
    "### Entrenamiento AAE Convolucional"
   ]
  },
  {
   "cell_type": "code",
   "execution_count": null,
   "metadata": {},
   "outputs": [],
   "source": [
    "enc = (build_conv_encoder, \"conv_enc\")\n",
    "dec = (build_conv_decoder,\"conv_dec\")\n",
    "model_name = \"CONVOLUTIONAL\"\n",
    "\n",
    "tryModel(enc=enc, dec=dec, model_name=model_name, mixture_data={\"override\":False, \"nombre\":\"2dcluster_Convolucional\"})"
   ]
  }
 ],
 "metadata": {
  "interpreter": {
   "hash": "20fa4f0f3884cdb253ada201871cf8c3f8a990e4bbc1c7fce1b9b4c9c33df28e"
  },
  "kernelspec": {
   "display_name": "Python 3.8.2 64-bit",
   "language": "python",
   "name": "python3"
  },
  "language_info": {
   "codemirror_mode": {
    "name": "ipython",
    "version": 3
   },
   "file_extension": ".py",
   "mimetype": "text/x-python",
   "name": "python",
   "nbconvert_exporter": "python",
   "pygments_lexer": "ipython3",
   "version": "3.8.2"
  },
  "orig_nbformat": 4
 },
 "nbformat": 4,
 "nbformat_minor": 2
}
